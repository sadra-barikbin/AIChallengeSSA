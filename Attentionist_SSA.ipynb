{
  "cells": [
    {
      "cell_type": "markdown",
      "metadata": {
        "id": "view-in-github",
        "colab_type": "text"
      },
      "source": [
        "<a href=\"https://colab.research.google.com/github/sadra-barikbin/AIChallengeSSA/blob/master/Attentionist_SSA.ipynb\" target=\"_parent\"><img src=\"https://colab.research.google.com/assets/colab-badge.svg\" alt=\"Open In Colab\"/></a>"
      ]
    },
    {
      "cell_type": "markdown",
      "metadata": {
        "id": "M8hamQn55RX4"
      },
      "source": [
        "# Setup"
      ]
    },
    {
      "cell_type": "code",
      "execution_count": null,
      "metadata": {
        "colab": {
          "base_uri": "https://localhost:8080/"
        },
        "id": "bcp4vqhdG6UC",
        "outputId": "6548ac56-73cf-4c1e-86d6-817d70e079d3"
      },
      "outputs": [
        {
          "output_type": "stream",
          "name": "stdout",
          "text": [
            "Collecting transformers\n",
            "  Downloading transformers-4.18.0-py3-none-any.whl (4.0 MB)\n",
            "\u001b[K     |████████████████████████████████| 4.0 MB 5.1 MB/s \n",
            "\u001b[?25hCollecting pytorch-ignite\n",
            "  Downloading pytorch_ignite-0.4.9-py3-none-any.whl (259 kB)\n",
            "\u001b[K     |████████████████████████████████| 259 kB 49.5 MB/s \n",
            "\u001b[?25hCollecting wandb\n",
            "  Downloading wandb-0.12.16-py2.py3-none-any.whl (1.8 MB)\n",
            "\u001b[K     |████████████████████████████████| 1.8 MB 37.8 MB/s \n",
            "\u001b[?25hCollecting stanza==1.1.1\n",
            "  Downloading stanza-1.1.1-py3-none-any.whl (227 kB)\n",
            "\u001b[K     |████████████████████████████████| 227 kB 45.1 MB/s \n",
            "\u001b[?25hCollecting seqeval\n",
            "  Downloading seqeval-1.2.2.tar.gz (43 kB)\n",
            "\u001b[K     |████████████████████████████████| 43 kB 856 kB/s \n",
            "\u001b[?25hRequirement already satisfied: tqdm in /usr/local/lib/python3.7/dist-packages (from stanza==1.1.1) (4.64.0)\n",
            "Requirement already satisfied: numpy in /usr/local/lib/python3.7/dist-packages (from stanza==1.1.1) (1.21.6)\n",
            "Requirement already satisfied: protobuf in /usr/local/lib/python3.7/dist-packages (from stanza==1.1.1) (3.17.3)\n",
            "Requirement already satisfied: torch>=1.3.0 in /usr/local/lib/python3.7/dist-packages (from stanza==1.1.1) (1.11.0+cu113)\n",
            "Requirement already satisfied: requests in /usr/local/lib/python3.7/dist-packages (from stanza==1.1.1) (2.23.0)\n",
            "Requirement already satisfied: typing-extensions in /usr/local/lib/python3.7/dist-packages (from torch>=1.3.0->stanza==1.1.1) (4.2.0)\n",
            "Requirement already satisfied: importlib-metadata in /usr/local/lib/python3.7/dist-packages (from transformers) (4.11.3)\n",
            "Collecting pyyaml>=5.1\n",
            "  Downloading PyYAML-6.0-cp37-cp37m-manylinux_2_5_x86_64.manylinux1_x86_64.manylinux_2_12_x86_64.manylinux2010_x86_64.whl (596 kB)\n",
            "\u001b[K     |████████████████████████████████| 596 kB 44.5 MB/s \n",
            "\u001b[?25hCollecting tokenizers!=0.11.3,<0.13,>=0.11.1\n",
            "  Downloading tokenizers-0.12.1-cp37-cp37m-manylinux_2_12_x86_64.manylinux2010_x86_64.whl (6.6 MB)\n",
            "\u001b[K     |████████████████████████████████| 6.6 MB 22.9 MB/s \n",
            "\u001b[?25hRequirement already satisfied: packaging>=20.0 in /usr/local/lib/python3.7/dist-packages (from transformers) (21.3)\n",
            "Collecting huggingface-hub<1.0,>=0.1.0\n",
            "  Downloading huggingface_hub-0.5.1-py3-none-any.whl (77 kB)\n",
            "\u001b[K     |████████████████████████████████| 77 kB 5.6 MB/s \n",
            "\u001b[?25hRequirement already satisfied: regex!=2019.12.17 in /usr/local/lib/python3.7/dist-packages (from transformers) (2019.12.20)\n",
            "Requirement already satisfied: filelock in /usr/local/lib/python3.7/dist-packages (from transformers) (3.6.0)\n",
            "Collecting sacremoses\n",
            "  Downloading sacremoses-0.0.53.tar.gz (880 kB)\n",
            "\u001b[K     |████████████████████████████████| 880 kB 50.0 MB/s \n",
            "\u001b[?25hRequirement already satisfied: pyparsing!=3.0.5,>=2.0.2 in /usr/local/lib/python3.7/dist-packages (from packaging>=20.0->transformers) (3.0.8)\n",
            "Requirement already satisfied: six>=1.13.0 in /usr/local/lib/python3.7/dist-packages (from wandb) (1.15.0)\n",
            "Collecting GitPython>=1.0.0\n",
            "  Downloading GitPython-3.1.27-py3-none-any.whl (181 kB)\n",
            "\u001b[K     |████████████████████████████████| 181 kB 45.7 MB/s \n",
            "\u001b[?25hCollecting shortuuid>=0.5.0\n",
            "  Downloading shortuuid-1.0.9-py3-none-any.whl (9.4 kB)\n",
            "Requirement already satisfied: python-dateutil>=2.6.1 in /usr/local/lib/python3.7/dist-packages (from wandb) (2.8.2)\n",
            "Collecting pathtools\n",
            "  Downloading pathtools-0.1.2.tar.gz (11 kB)\n",
            "Requirement already satisfied: psutil>=5.0.0 in /usr/local/lib/python3.7/dist-packages (from wandb) (5.4.8)\n",
            "Collecting sentry-sdk>=1.0.0\n",
            "  Downloading sentry_sdk-1.5.12-py2.py3-none-any.whl (145 kB)\n",
            "\u001b[K     |████████████████████████████████| 145 kB 41.7 MB/s \n",
            "\u001b[?25hCollecting setproctitle\n",
            "  Downloading setproctitle-1.2.3-cp37-cp37m-manylinux_2_5_x86_64.manylinux1_x86_64.manylinux_2_17_x86_64.manylinux2014_x86_64.whl (29 kB)\n",
            "Requirement already satisfied: setuptools in /usr/local/lib/python3.7/dist-packages (from wandb) (57.4.0)\n",
            "Requirement already satisfied: Click!=8.0.0,>=7.0 in /usr/local/lib/python3.7/dist-packages (from wandb) (7.1.2)\n",
            "Collecting docker-pycreds>=0.4.0\n",
            "  Downloading docker_pycreds-0.4.0-py2.py3-none-any.whl (9.0 kB)\n",
            "Requirement already satisfied: promise<3,>=2.0 in /usr/local/lib/python3.7/dist-packages (from wandb) (2.3)\n",
            "Collecting gitdb<5,>=4.0.1\n",
            "  Downloading gitdb-4.0.9-py3-none-any.whl (63 kB)\n",
            "\u001b[K     |████████████████████████████████| 63 kB 1.7 MB/s \n",
            "\u001b[?25hCollecting smmap<6,>=3.0.1\n",
            "  Downloading smmap-5.0.0-py3-none-any.whl (24 kB)\n",
            "Requirement already satisfied: certifi>=2017.4.17 in /usr/local/lib/python3.7/dist-packages (from requests->stanza==1.1.1) (2021.10.8)\n",
            "Requirement already satisfied: chardet<4,>=3.0.2 in /usr/local/lib/python3.7/dist-packages (from requests->stanza==1.1.1) (3.0.4)\n",
            "Requirement already satisfied: urllib3!=1.25.0,!=1.25.1,<1.26,>=1.21.1 in /usr/local/lib/python3.7/dist-packages (from requests->stanza==1.1.1) (1.24.3)\n",
            "Requirement already satisfied: idna<3,>=2.5 in /usr/local/lib/python3.7/dist-packages (from requests->stanza==1.1.1) (2.10)\n",
            "Requirement already satisfied: scikit-learn>=0.21.3 in /usr/local/lib/python3.7/dist-packages (from seqeval) (1.0.2)\n",
            "Requirement already satisfied: joblib>=0.11 in /usr/local/lib/python3.7/dist-packages (from scikit-learn>=0.21.3->seqeval) (1.1.0)\n",
            "Requirement already satisfied: threadpoolctl>=2.0.0 in /usr/local/lib/python3.7/dist-packages (from scikit-learn>=0.21.3->seqeval) (3.1.0)\n",
            "Requirement already satisfied: scipy>=1.1.0 in /usr/local/lib/python3.7/dist-packages (from scikit-learn>=0.21.3->seqeval) (1.4.1)\n",
            "Requirement already satisfied: zipp>=0.5 in /usr/local/lib/python3.7/dist-packages (from importlib-metadata->transformers) (3.8.0)\n",
            "Building wheels for collected packages: seqeval, pathtools, sacremoses\n",
            "  Building wheel for seqeval (setup.py) ... \u001b[?25l\u001b[?25hdone\n",
            "  Created wheel for seqeval: filename=seqeval-1.2.2-py3-none-any.whl size=16180 sha256=342c07ccb3b815181f8998a82442e524bf477d123ba4a99f7ec87269f324e91d\n",
            "  Stored in directory: /root/.cache/pip/wheels/05/96/ee/7cac4e74f3b19e3158dce26a20a1c86b3533c43ec72a549fd7\n",
            "  Building wheel for pathtools (setup.py) ... \u001b[?25l\u001b[?25hdone\n",
            "  Created wheel for pathtools: filename=pathtools-0.1.2-py3-none-any.whl size=8806 sha256=a3101ed132613f9eb3d8f2afbbf261aee3b208edca6e617a2105f93dbfd22d52\n",
            "  Stored in directory: /root/.cache/pip/wheels/3e/31/09/fa59cef12cdcfecc627b3d24273699f390e71828921b2cbba2\n",
            "  Building wheel for sacremoses (setup.py) ... \u001b[?25l\u001b[?25hdone\n",
            "  Created wheel for sacremoses: filename=sacremoses-0.0.53-py3-none-any.whl size=895260 sha256=f288d8dd1470b95c1c68c423567bb670f3a6399e6279e07830b34b79c2f128a6\n",
            "  Stored in directory: /root/.cache/pip/wheels/87/39/dd/a83eeef36d0bf98e7a4d1933a4ad2d660295a40613079bafc9\n",
            "Successfully built seqeval pathtools sacremoses\n",
            "Installing collected packages: smmap, pyyaml, gitdb, tokenizers, shortuuid, setproctitle, sentry-sdk, sacremoses, pathtools, huggingface-hub, GitPython, docker-pycreds, wandb, transformers, stanza, seqeval, pytorch-ignite\n",
            "  Attempting uninstall: pyyaml\n",
            "    Found existing installation: PyYAML 3.13\n",
            "    Uninstalling PyYAML-3.13:\n",
            "      Successfully uninstalled PyYAML-3.13\n",
            "Successfully installed GitPython-3.1.27 docker-pycreds-0.4.0 gitdb-4.0.9 huggingface-hub-0.5.1 pathtools-0.1.2 pytorch-ignite-0.4.9 pyyaml-6.0 sacremoses-0.0.53 sentry-sdk-1.5.12 seqeval-1.2.2 setproctitle-1.2.3 shortuuid-1.0.9 smmap-5.0.0 stanza-1.1.1 tokenizers-0.12.1 transformers-4.18.0 wandb-0.12.16\n"
          ]
        }
      ],
      "source": [
        "!pip install transformers pytorch-ignite wandb stanza==1.1.1 seqeval"
      ]
    },
    {
      "cell_type": "code",
      "execution_count": null,
      "metadata": {
        "id": "ahPXOTPeEMvs"
      },
      "outputs": [],
      "source": [
        "import os\n",
        "import gc\n",
        "import json\n",
        "import torch\n",
        "import ignite\n",
        "import wandb\n",
        "import json\n",
        "import warnings\n",
        "import functools\n",
        "import itertools\n",
        "import collections\n",
        "import copy\n",
        "import yaml\n",
        "import torch.nn.functional     as     F\n",
        "import numpy                   as     np\n",
        "import matplotlib.pyplot       as     plt\n",
        "import scipy.stats\n",
        "from  tabulate                                import tabulate\n",
        "from  operator                                import attrgetter, itemgetter\n",
        "from  enum                                    import IntEnum\n",
        "from  dataclasses                             import dataclass\n",
        "from  torch                                   import Tensor\n",
        "from  tqdm                                    import tqdm\n",
        "from  torch.utils.data                        import DataLoader, Dataset\n",
        "from  torch.utils.tensorboard                 import SummaryWriter\n",
        "from  torch.nn.utils.rnn                      import pad_sequence\n",
        "from  torch                                   import nn, Tensor\n",
        "from  torch.optim.lr_scheduler                import StepLR\n",
        "from  transformers                            import RobertaModel, RobertaTokenizerFast\n",
        "from  transformers                            import PreTrainedTokenizerFast\n",
        "from  transformers                            import BertModel, BertTokenizerFast\n",
        "from  transformers                            import AutoTokenizer, AutoModel\n",
        "from  transformers.modeling_outputs           import BaseModelOutput\n",
        "from  typing                                  import Tuple, Dict, List, Any, Sequence, Union\n",
        "from  typing                                  import Optional, Callable, Type\n",
        "from  timeit                                  import timeit\n",
        "from  ignite.metrics                          import Accuracy, Fbeta, Average\n",
        "from  ignite.metrics                          import Metric, RunningAverage\n",
        "from  ignite.handlers.terminate_on_nan        import TerminateOnNan\n",
        "from  ignite.handlers.checkpoint              import ModelCheckpoint\n",
        "from  ignite.handlers                         import EarlyStopping, global_step_from_engine\n",
        "from  ignite.handlers                         import EpochOutputStore, LRScheduler\n",
        "from  ignite.handlers.param_scheduler         import create_lr_scheduler_with_warmup\n",
        "from  ignite.handlers.param_scheduler         import PiecewiseLinear\n",
        "from  ignite.engine                           import create_supervised_trainer\n",
        "from  ignite.engine                           import Engine, create_supervised_evaluator\n",
        "from  ignite.engine.events                    import Events\n",
        "from  ignite.contrib.handlers.tqdm_logger     import ProgressBar\n",
        "from  ignite.contrib.handlers.wandb_logger    import WandBLogger"
      ]
    },
    {
      "cell_type": "code",
      "execution_count": null,
      "metadata": {
        "id": "Q0Zx4taMYhgH"
      },
      "outputs": [],
      "source": [
        "DEVICE = 'cuda' if torch.cuda.is_available() else 'cpu'"
      ]
    },
    {
      "cell_type": "code",
      "execution_count": null,
      "metadata": {
        "id": "RtC2yCfYGS_V"
      },
      "outputs": [],
      "source": [
        "DATASET_NAMES_MAP = {'opener_en': 'Opener_En', 'opener_es': 'Opener_Es', 'norec': 'Norec',\n",
        "                     'darmstadt_unis': 'Darmstadt_unis', 'multibooked_eu': 'Multibooked_eu',\n",
        "                     'multibooked_ca': 'Multibooked_ca', 'mpqa': 'MPQA'}"
      ]
    },
    {
      "cell_type": "code",
      "execution_count": null,
      "metadata": {
        "colab": {
          "base_uri": "https://localhost:8080/"
        },
        "id": "KUNRTPUPozDh",
        "outputId": "88bfc868-71a1-4575-a0a2-51afa0f4ff01"
      },
      "outputs": [
        {
          "output_type": "stream",
          "name": "stdout",
          "text": [
            "\u001b[34m\u001b[1mwandb\u001b[0m: Appending key for api.wandb.ai to your netrc file: /root/.netrc\n"
          ]
        }
      ],
      "source": [
        "!wandb login --cloud 6f2c5e33031ea25c0b2e103b93f7adca208f2772"
      ]
    },
    {
      "cell_type": "markdown",
      "metadata": {
        "id": "BavWNgZOmqxv"
      },
      "source": [
        "# Helper Classes"
      ]
    },
    {
      "cell_type": "code",
      "execution_count": null,
      "metadata": {
        "id": "fot4WdTcSKE9"
      },
      "outputs": [],
      "source": [
        "class TokenBIOLabelEnum(IntEnum):\n",
        "\n",
        "  def __new__(cls, value, tag=None):\n",
        "    obj = int.__new__(cls, value)\n",
        "    obj._value_ = value\n",
        "    obj.tag = tag\n",
        "    return obj\n",
        "\n",
        "  @classmethod\n",
        "  def from_integers(cls, integers: Sequence[int]) -> Sequence[IntEnum]:\n",
        "    return [cls(integer) for integer in integers]\n",
        "\n",
        "  @classmethod\n",
        "  def from_labels(cls, labels: Sequence[IntEnum]) -> Sequence[int]:\n",
        "    return [label.value for label in labels]\n",
        "\n",
        "  def is_begin(self):\n",
        "    return self % 2 == 0 and self != self.__class__.OUT\n",
        "\n",
        "  def is_in(self):\n",
        "    return self % 2 == 1\n",
        "\n",
        "  def is_out(self):\n",
        "    return self == self.__class__.OUT"
      ]
    },
    {
      "cell_type": "code",
      "execution_count": null,
      "metadata": {
        "id": "nY-o_SkAZAjG"
      },
      "outputs": [],
      "source": [
        "class NonPolarSentExprTokenEnum(TokenBIOLabelEnum):\n",
        "  EXPR_BEGIN = 0\n",
        "  EXPR_IN = 1\n",
        "  OUT = 2\n",
        "\n",
        "class SentExprTokenEnum(TokenBIOLabelEnum):\n",
        "  POSITIVE_EXPR_BEGIN = (0, 'Positive')\n",
        "  POSITIVE_EXPR_IN = (1, 'Positive')\n",
        "  NEGATIVE_EXPR_BEGIN = (2, 'Negative')\n",
        "  NEGATIVE_EXPR_IN = (3, 'Negative')\n",
        "  NEUTRAL_EXPR_BEGIN = (4, 'Neutral')\n",
        "  NEUTRAL_EXPR_IN = (5, 'Neutral')\n",
        "  OUT = 6\n",
        "\n",
        "class SentHolderTokenEnum(TokenBIOLabelEnum):\n",
        "  EXPR_BEGIN = 0\n",
        "  EXPR_IN = 1\n",
        "  OUT = 2\n",
        "\n",
        "\n",
        "class SentTargetTokenEnum(TokenBIOLabelEnum):\n",
        "  EXPR_BEGIN = 0\n",
        "  EXPR_IN = 1\n",
        "  OUT = 2"
      ]
    },
    {
      "cell_type": "code",
      "execution_count": null,
      "metadata": {
        "id": "5TAV4M38h1RE"
      },
      "outputs": [],
      "source": [
        "@dataclass\n",
        "class SentimentGraphNode:\n",
        "\n",
        "  span_in_sentence: slice\n",
        "  tag: Any=None\n",
        "\n",
        "  @property\n",
        "  def span_length(self) -> int:\n",
        "    return self.span_in_sentence.stop - self.span_in_sentence.start\n",
        "\n",
        "\n",
        "  @property\n",
        "  def indices(self) -> List[int]:\n",
        "    return list(range(self.span_in_sentence.start, self.span_in_sentence.stop))\n",
        "\n",
        "  def __hash__(self) -> int:\n",
        "    return (self.span_in_sentence.start, self.span_in_sentence.stop).__hash__()\n",
        "\n",
        "\n",
        "  def __eq__(self, other) -> bool:\n",
        "    return self.span_in_sentence == other.span_in_sentence\n",
        "\n",
        "\n",
        "@dataclass\n",
        "class SentimentGraphNodeSet:\n",
        "  sentiment_nodes: List[SentimentGraphNode]\n",
        "  target_nodes: List[SentimentGraphNode]\n",
        "  holder_nodes: List[SentimentGraphNode]"
      ]
    },
    {
      "cell_type": "code",
      "execution_count": null,
      "metadata": {
        "id": "7S5Jye6t6CTp"
      },
      "outputs": [],
      "source": [
        "@dataclass\n",
        "class SentimentGraphGoldNode:\n",
        "  nodes: List[SentimentGraphNode]\n",
        "\n",
        "  def __hash__(self) -> int:\n",
        "    return tuple(self.nodes).__hash__()\n",
        "\n",
        "\n",
        "  def __eq__(self, other) -> bool:\n",
        "    return self.nodes == other.nodes\n",
        "\n",
        "\n",
        "@dataclass\n",
        "class SentimentGraphGoldNodeSet:\n",
        "  sentiment_nodes: List[SentimentGraphGoldNode]\n",
        "  target_nodes: List[SentimentGraphGoldNode]\n",
        "  holder_nodes: List[SentimentGraphGoldNode]"
      ]
    },
    {
      "cell_type": "code",
      "execution_count": null,
      "metadata": {
        "id": "4A2pOVHy0H9p"
      },
      "outputs": [],
      "source": [
        "@dataclass\n",
        "class SentimentGraphEdgeSet:\n",
        "  sentiment_target_edges: Tensor\n",
        "  sentiment_holder_edges: Tensor\n",
        "\n",
        "@dataclass\n",
        "class SentimentGraphGoldEdgeSet:\n",
        "  sentiment_target_edges: Dict[SentimentGraphGoldNode, SentimentGraphGoldNode]\n",
        "  sentiment_holder_edges: Dict[SentimentGraphGoldNode, SentimentGraphGoldNode]"
      ]
    },
    {
      "cell_type": "code",
      "execution_count": null,
      "metadata": {
        "id": "Or7bjFJ7_-fZ"
      },
      "outputs": [],
      "source": [
        "@dataclass\n",
        "class SentimentGraph:\n",
        "  nodes: SentimentGraphNodeSet\n",
        "  edges: SentimentGraphEdgeSet\n",
        "\n",
        "@dataclass\n",
        "class GoldSentimentGraph:\n",
        "  nodes: SentimentGraphGoldNodeSet\n",
        "  edges: SentimentGraphGoldEdgeSet"
      ]
    },
    {
      "cell_type": "markdown",
      "metadata": {
        "id": "6xey8RS23hCC"
      },
      "source": [
        "# Tokenizer"
      ]
    },
    {
      "cell_type": "code",
      "execution_count": null,
      "metadata": {
        "id": "ciorbtJK3jFF"
      },
      "outputs": [],
      "source": [
        "@functools.lru_cache()\n",
        "def get_tokenizer(dataset_name: str) -> PreTrainedTokenizerFast:\n",
        "  if dataset_name in [\"opener_en\", \"mpqa\", \"darmstadt_unis\"]:\n",
        "    return RobertaTokenizerFast.from_pretrained('roberta-base', add_prefix_space=True)\n",
        "  else:\n",
        "    return BertTokenizerFast.from_pretrained('setu4993/LaBSE', add_prefix_space=True)"
      ]
    },
    {
      "cell_type": "markdown",
      "metadata": {
        "id": "24p9FVjLGhT0"
      },
      "source": [
        "# Config"
      ]
    },
    {
      "cell_type": "code",
      "execution_count": null,
      "metadata": {
        "id": "DxtiQ-4DGlGS"
      },
      "outputs": [],
      "source": [
        "CONFIG = {\n",
        "    \"sequence_labeler\":{\n",
        "        \"WEIGHTED_LOSS\" : False\n",
        "    },\n",
        "    \"base_pooler\":{\n",
        "        \"AVERAGE_HEADS\" : False,\n",
        "        \"TARGET_AND_HOLDER_SEPARATE_HEAD\" : False\n",
        "    },\n",
        "    \"edge_predictor\":{\n",
        "        \"USE_BIAS\" : False\n",
        "    },\n",
        "    \"polarity_predictor\" : {\n",
        "        \"exist\" : False,\n",
        "        \"WEIGHTED_LOSS\" : False\n",
        "    },\n",
        "    \"dataset\" : \"opener_en\",\n",
        "    \"batch_size\" : 32,\n",
        "    \"random_seed\" : 41,\n",
        "    \"optimizer\" : \"AdamW\",\n",
        "    \"LR\" : {\n",
        "        \"base\" : {\n",
        "            \"init\" : 1e-4,\n",
        "            \"policy\" : \"StepLR(9,.1)\",\n",
        "            \"warm-up\" : \"Linear(1e-6 -> 1e-4, 1 epoch)\"\n",
        "        },\n",
        "        \"novelty\" : {\n",
        "            \"init\" : 1e-3,\n",
        "            \"policy\" : \"StepLR(9,.1)\",\n",
        "            \"warm-up\" : \"Linear(1e-5 -> 1e-3, 1 epoch)\"\n",
        "        }\n",
        "    }\n",
        "}"
      ]
    },
    {
      "cell_type": "markdown",
      "source": [
        "# Data"
      ],
      "metadata": {
        "id": "oFj1at45gGfg"
      }
    },
    {
      "cell_type": "code",
      "execution_count": null,
      "metadata": {
        "colab": {
          "base_uri": "https://localhost:8080/"
        },
        "id": "Q0A1zK3yIMVB",
        "outputId": "55e3b5a2-8429-4e64-a57a-c03fb7da6840"
      },
      "outputs": [
        {
          "output_type": "stream",
          "name": "stdout",
          "text": [
            "Cloning into 'semeval22_structured_sentiment'...\n",
            "remote: Enumerating objects: 1007, done.\u001b[K\n",
            "remote: Counting objects: 100% (113/113), done.\u001b[K\n",
            "remote: Compressing objects: 100% (65/65), done.\u001b[K\n",
            "remote: Total 1007 (delta 64), reused 78 (delta 48), pack-reused 894\u001b[K\n",
            "Receiving objects: 100% (1007/1007), 16.09 MiB | 12.01 MiB/s, done.\n",
            "Resolving deltas: 100% (493/493), done.\n"
          ]
        }
      ],
      "source": [
        "!git clone https://github.com/sadra-barikbin/semeval22_structured_sentiment.git"
      ]
    },
    {
      "cell_type": "code",
      "source": [
        "import stanza\n",
        "stanza.download('en')\n",
        "stanza.download('es')\n",
        "stanza.download('eu')\n",
        "stanza.download('ca')\n",
        "stanza.download('nb')"
      ],
      "metadata": {
        "colab": {
          "base_uri": "https://localhost:8080/"
        },
        "id": "AY7LHo-9GSNd",
        "outputId": "964b6086-9743-4e63-f299-57b5000d54d8"
      },
      "execution_count": null,
      "outputs": [
        {
          "output_type": "stream",
          "name": "stderr",
          "text": [
            "Downloading https://raw.githubusercontent.com/stanfordnlp/stanza-resources/master/resources_1.1.0.json: 122kB [00:00, 20.6MB/s]                    \n",
            "2022-05-11 06:07:14 INFO: Downloading default packages for language: en (English)...\n",
            "Downloading http://nlp.stanford.edu/software/stanza/1.1.0/en/default.zip: 100%|██████████| 428M/428M [01:16<00:00, 5.61MB/s]\n",
            "2022-05-11 06:08:38 INFO: Finished downloading models and saved to /root/stanza_resources.\n",
            "Downloading https://raw.githubusercontent.com/stanfordnlp/stanza-resources/master/resources_1.1.0.json: 122kB [00:00, 43.5MB/s]                    \n",
            "2022-05-11 06:08:38 INFO: Downloading default packages for language: es (Spanish)...\n",
            "Downloading http://nlp.stanford.edu/software/stanza/1.1.0/es/default.zip: 100%|██████████| 583M/583M [01:45<00:00, 5.51MB/s]\n",
            "2022-05-11 06:10:33 INFO: Finished downloading models and saved to /root/stanza_resources.\n",
            "Downloading https://raw.githubusercontent.com/stanfordnlp/stanza-resources/master/resources_1.1.0.json: 122kB [00:00, 30.1MB/s]                    \n",
            "2022-05-11 06:10:33 INFO: Downloading default packages for language: eu (Basque)...\n",
            "Downloading http://nlp.stanford.edu/software/stanza/1.1.0/eu/default.zip: 100%|██████████| 220M/220M [00:37<00:00, 5.90MB/s]\n",
            "2022-05-11 06:11:15 INFO: Finished downloading models and saved to /root/stanza_resources.\n",
            "Downloading https://raw.githubusercontent.com/stanfordnlp/stanza-resources/master/resources_1.1.0.json: 122kB [00:00, 39.5MB/s]                    \n",
            "2022-05-11 06:11:15 INFO: Downloading default packages for language: ca (Catalan)...\n",
            "Downloading http://nlp.stanford.edu/software/stanza/1.1.0/ca/default.zip: 100%|██████████| 227M/227M [00:38<00:00, 5.89MB/s]\n",
            "2022-05-11 06:11:58 INFO: Finished downloading models and saved to /root/stanza_resources.\n",
            "Downloading https://raw.githubusercontent.com/stanfordnlp/stanza-resources/master/resources_1.1.0.json: 122kB [00:00, 29.9MB/s]                    \n",
            "2022-05-11 06:11:58 INFO: Downloading default packages for language: nb (Norwegian_Bokmaal)...\n",
            "Downloading http://nlp.stanford.edu/software/stanza/1.1.0/nb/default.zip: 100%|██████████| 225M/225M [00:38<00:00, 5.91MB/s]\n",
            "2022-05-11 06:12:41 INFO: Finished downloading models and saved to /root/stanza_resources.\n"
          ]
        }
      ]
    },
    {
      "cell_type": "code",
      "source": [
        "! cd semeval22_structured_sentiment/data/mpqa && bash process_mpqa.sh\n",
        "! cd semeval22_structured_sentiment/data/darmstadt_unis && bash process_darmstadt.sh"
      ],
      "metadata": {
        "id": "O-PKXw8kO9TD"
      },
      "execution_count": null,
      "outputs": []
    },
    {
      "cell_type": "markdown",
      "metadata": {
        "id": "YBH2m7QZoa9t"
      },
      "source": [
        "# Prepare Datasets"
      ]
    },
    {
      "cell_type": "code",
      "execution_count": null,
      "metadata": {
        "id": "hpJo_3aWrZpn"
      },
      "outputs": [],
      "source": [
        "class SemEval2022Task10Dataset(Dataset):\n",
        "\n",
        "  def __init__(self, split: str, config: Dict[str, Any],\n",
        "               path: str='semeval22_structured_sentiment/data'):\n",
        "    super(SemEval2022Task10Dataset, self).__init__()\n",
        "\n",
        "    dataset_names = [\"opener_en\", \"opener_es\", \"norec\", \"darmstadt_unis\", \"mpqa\",\n",
        "                    \"multibooked_ca\", \"multibooked_eu\", \"ALL\"]\n",
        "\n",
        "    self.have_polarity_predictor = config[\"polarity_predictor\"][\"exist\"]\n",
        "\n",
        "    name = config[\"dataset\"]\n",
        "    assert split in [\"train\", \"dev\", \"test\"]\n",
        "    self.split = split\n",
        "\n",
        "    tokenizer = get_tokenizer(name)\n",
        "\n",
        "    if name == 'ALL':\n",
        "      assert split != 'test'\n",
        "\n",
        "      data = []\n",
        "      for _name in dataset_names[:-1]:\n",
        "        data.extend(json.load(open(f\"{path}/{_name}/{split}.json\")))\n",
        "    else:\n",
        "      data = json.load(open(f\"{path}/{name}/{split}.json\"))\n",
        "\n",
        "    if split == 'test':\n",
        "      self.data = data\n",
        "      return\n",
        "\n",
        "    self.data = []\n",
        "    sentim_labels_stat = collections.Counter(SentExprTokenEnum)\n",
        "    target_labels_stat = collections.Counter(SentTargetTokenEnum)\n",
        "    holder_labels_stat = collections.Counter(SentHolderTokenEnum)\n",
        "    polarity_stat = collections.Counter()\n",
        "    for sent_idx, item in enumerate(data):\n",
        "      if not item['opinions']:\n",
        "          continue\n",
        "      if item['sent_id'] in ['multibooked/corpora/eu/kaype-quintamar-llanes_1-1',\n",
        "                              'temp_fbis/21.31.56-18015-2', '20020414/21.16.03-15717-6',\n",
        "                              'xbank/wsj_0583-27']:\n",
        "        # These samples are erroneous\n",
        "        continue\n",
        "\n",
        "      encoded = tokenizer([item['text']], add_special_tokens=False,\n",
        "                         return_offsets_mapping=True, return_length=True)\n",
        "      tokens_char_offsets = encoded['offset_mapping'][0]\n",
        "      length = encoded['length'][0]\n",
        "      if self.have_polarity_predictor:\n",
        "        tokens_labels_sentiment = [NonPolarSentExprTokenEnum.OUT] * length\n",
        "      else:\n",
        "        tokens_labels_sentiment = [SentExprTokenEnum.OUT] * length\n",
        "      tokens_labels_target = [SentTargetTokenEnum.OUT] * length\n",
        "      tokens_labels_holder = [SentHolderTokenEnum.OUT] * length\n",
        "      sentiment_nodes = []\n",
        "      target_nodes = []\n",
        "      holder_nodes = []\n",
        "      sentim_tgt_edges = {}\n",
        "      sentim_hld_edges = {}\n",
        "\n",
        "      gold_sentiment_nodes = []\n",
        "      gold_target_nodes = []\n",
        "      gold_holder_nodes = []\n",
        "      gold_sentim_tgt_edges = {}\n",
        "      gold_sentim_hld_edges = {}\n",
        "\n",
        "      for opinion in item['opinions']:\n",
        "        opinion_sentiment_nodes = []\n",
        "        opinion_target_nodes = []\n",
        "        opinion_holder_nodes = []\n",
        "\n",
        "        polarity_stat.update(opinion['Polarity'])\n",
        "\n",
        "        for char_span in opinion[\"Polar_expression\"][1]:\n",
        "          char_span_begin, char_span_end = (int(x) for x in char_span.split(':'))\n",
        "          token_span_begin, token_span_end = self._char_span_to_token_span_idx(\n",
        "              sent_idx, tokens_char_offsets, (char_span_begin, char_span_end)\n",
        "          )\n",
        "          node = SentimentGraphNode(\n",
        "              slice(token_span_begin, token_span_end), opinion['Polarity']\n",
        "          )\n",
        "          opinion_sentiment_nodes.append(node)\n",
        "          if node not in sentiment_nodes:\n",
        "            sentiment_nodes.append(node)\n",
        "\n",
        "            self._update_sequence_labels(\n",
        "                sent_idx, tokens_labels_sentiment,\n",
        "                token_span_begin, token_span_end, \"sentiment\", opinion[\"Polarity\"]\n",
        "            )\n",
        "\n",
        "        for char_span in opinion[\"Target\"][1]:\n",
        "          char_span_begin, char_span_end = (int(x) for x in char_span.split(':'))\n",
        "          token_span_begin, token_span_end = self._char_span_to_token_span_idx(\n",
        "              sent_idx, tokens_char_offsets, (char_span_begin, char_span_end)\n",
        "          )\n",
        "          node = SentimentGraphNode(\n",
        "              slice(token_span_begin, token_span_end), \"target\"\n",
        "          )\n",
        "          opinion_target_nodes.append(node)\n",
        "          if node not in target_nodes:\n",
        "            target_nodes.append(node)\n",
        "\n",
        "            self._update_sequence_labels(\n",
        "                sent_idx, tokens_labels_target,\n",
        "                token_span_begin, token_span_end, \"target\"\n",
        "            )\n",
        "\n",
        "        for char_span in opinion[\"Source\"][1]:\n",
        "          char_span_begin, char_span_end = (int(x) for x in char_span.split(':'))\n",
        "          token_span_begin, token_span_end = self._char_span_to_token_span_idx(\n",
        "              sent_idx, tokens_char_offsets, (char_span_begin, char_span_end)\n",
        "          )\n",
        "          node = SentimentGraphNode(\n",
        "              slice(token_span_begin, token_span_end), \"holder\"\n",
        "          )\n",
        "          opinion_holder_nodes.append(node)\n",
        "          if node not in holder_nodes:\n",
        "            holder_nodes.append(node)\n",
        "\n",
        "            self._update_sequence_labels(\n",
        "                sent_idx, tokens_labels_holder,\n",
        "                token_span_begin, token_span_end, \"holder\"\n",
        "            )\n",
        "\n",
        "        for sentiment_node in opinion_sentiment_nodes:\n",
        "          sentim_tgt_edges[sentiment_node] = opinion_target_nodes\n",
        "          sentim_hld_edges[sentiment_node] = opinion_holder_nodes\n",
        "        \n",
        "        gold_sentiment_node = SentimentGraphGoldNode(opinion_sentiment_nodes)\n",
        "        gold_target_node = SentimentGraphGoldNode(opinion_target_nodes)\n",
        "        gold_holder_node = SentimentGraphGoldNode(opinion_holder_nodes)\n",
        "        \n",
        "        gold_sentiment_nodes.append(gold_sentiment_node)\n",
        "        gold_target_nodes.append(gold_target_node)\n",
        "        gold_holder_nodes.append(gold_holder_node)\n",
        "\n",
        "        gold_sentim_tgt_edges[gold_sentiment_node] = gold_target_node\n",
        "        gold_sentim_hld_edges[gold_sentiment_node] = gold_holder_node\n",
        "\n",
        "      sentiment_nodes.sort(key=attrgetter(\"span_in_sentence\"))\n",
        "      target_nodes.sort(key=attrgetter(\"span_in_sentence\"))\n",
        "      holder_nodes.sort(key=attrgetter(\"span_in_sentence\"))\n",
        "\n",
        "      sentim_tgt_adj_matrix = torch.zeros((len(sentiment_nodes), len(target_nodes)))\n",
        "      sentim_hld_adj_matrix = torch.zeros((len(sentiment_nodes), len(holder_nodes)))\n",
        "      for i, sentim_node in enumerate(sentiment_nodes):\n",
        "\n",
        "        for neighbor_tgt_node in sentim_tgt_edges[sentim_node]:\n",
        "          sentim_tgt_adj_matrix[i, target_nodes.index(neighbor_tgt_node)] = 1\n",
        "\n",
        "        for neighbor_hld_node in sentim_hld_edges[sentim_node]:\n",
        "          sentim_hld_adj_matrix[i, holder_nodes.index(neighbor_hld_node)] = 1\n",
        "      \n",
        "      gold_node_set = SentimentGraphGoldNodeSet(gold_sentiment_nodes, gold_target_nodes,\n",
        "                                                gold_holder_nodes)\n",
        "      gold_edge_set = SentimentGraphGoldEdgeSet(gold_sentim_tgt_edges, gold_sentim_hld_edges)\n",
        "      gold_graph = GoldSentimentGraph(gold_node_set, gold_edge_set)\n",
        "      \n",
        "\n",
        "      self.data.append({\n",
        "          \"sent_id\": item['sent_id'],\n",
        "          \"text\": item['text'],\n",
        "          \"seq_labels\": {\n",
        "              \"sentiment\": tokens_labels_sentiment,\n",
        "              \"target\": tokens_labels_target,\n",
        "              \"holder\": tokens_labels_holder},\n",
        "          \"graph\":SentimentGraph(\n",
        "              SentimentGraphNodeSet(\n",
        "                sentiment_nodes, target_nodes, holder_nodes\n",
        "              ),\n",
        "              SentimentGraphEdgeSet(\n",
        "                sentim_tgt_adj_matrix, sentim_hld_adj_matrix\n",
        "              )\n",
        "          ),\n",
        "          \"gold_graph\": gold_graph}\n",
        "        )\n",
        "\n",
        "      sentim_labels_stat.update(tokens_labels_sentiment)\n",
        "      target_labels_stat.update(tokens_labels_target)\n",
        "      holder_labels_stat.update(tokens_labels_holder)\n",
        "\n",
        "    self.sentim_seq_label_weights = torch.Tensor(\n",
        "        [sentim_labels_stat[label] for label in sorted(sentim_labels_stat)])\n",
        "    self.sentim_seq_label_weights = self.sentim_seq_label_weights.max() / \\\n",
        "                                          self.sentim_seq_label_weights\n",
        "\n",
        "    self.target_seq_label_weights = torch.Tensor(\n",
        "        [target_labels_stat[label] for label in sorted(target_labels_stat)])\n",
        "    self.target_seq_label_weights = self.target_seq_label_weights.max() / \\\n",
        "                                          self.target_seq_label_weights\n",
        "\n",
        "    self.holder_seq_label_weights = torch.Tensor(\n",
        "        [holder_labels_stat[label] for label in sorted(holder_labels_stat)])\n",
        "    self.holder_seq_label_weights = self.holder_seq_label_weights.max() / \\\n",
        "                                          self.holder_seq_label_weights\n",
        "\n",
        "    self.polarity_weights = torch.Tensor([polarity_stat['Positive'], polarity_stat['Neutral'],\n",
        "                                          polarity_stat['Negative']])\n",
        "\n",
        "  def _update_sequence_labels(self, sent_idx: int, sequence: List[TokenBIOLabelEnum],\n",
        "                              start_token: int, end_token: int,\n",
        "                              expr_type: str, polarity: str=None):\n",
        "    if expr_type == 'sentiment':\n",
        "      if self.have_polarity_predictor:\n",
        "        begin_label = NonPolarSentExprTokenEnum.EXPR_BEGIN\n",
        "        in_label = NonPolarSentExprTokenEnum.EXPR_IN\n",
        "        out = NonPolarSentExprTokenEnum.OUT\n",
        "      else:\n",
        "        if polarity == 'Positive':\n",
        "          begin_label = SentExprTokenEnum.POSITIVE_EXPR_BEGIN\n",
        "          in_label = SentExprTokenEnum.POSITIVE_EXPR_IN\n",
        "        elif polarity == 'Negative':\n",
        "          begin_label = SentExprTokenEnum.NEGATIVE_EXPR_BEGIN\n",
        "          in_label = SentExprTokenEnum.NEGATIVE_EXPR_IN\n",
        "        elif polarity == 'Neutral':\n",
        "          begin_label = SentExprTokenEnum.NEUTRAL_EXPR_BEGIN\n",
        "          in_label = SentExprTokenEnum.NEUTRAL_EXPR_IN\n",
        "        else:\n",
        "          raise ValueError(\"Given expr_type is 'sentiment' but 'polarity' is None.\")\n",
        "      out = SentExprTokenEnum.OUT\n",
        "    elif expr_type == 'target':\n",
        "      begin_label = SentTargetTokenEnum.EXPR_BEGIN\n",
        "      in_label = SentTargetTokenEnum.EXPR_IN\n",
        "      out = SentTargetTokenEnum.OUT\n",
        "    elif expr_type == 'holder':\n",
        "      begin_label = SentHolderTokenEnum.EXPR_BEGIN\n",
        "      in_label = SentHolderTokenEnum.EXPR_IN\n",
        "      out = SentHolderTokenEnum.OUT\n",
        "    else:\n",
        "      raise ValueError(f\"Given expr_type is not recognized. expr_type={expr_type}\")\n",
        "\n",
        "    # First time I saw these warnings in MPQA dataset. They were\n",
        "    # mistakes so I opened an issue. But generally such scenarios in which\n",
        "    # a part of an expression is itself another expression, are acceptable.\n",
        "    # So I took union of them as the final expression.\n",
        "    if sequence[start_token] != out:\n",
        "      warnings.warn(f\"Sequence is already updated at index {start_token}, \"\n",
        "                    f\"expr_type={expr_type}, sent_idx={sent_idx}\")\n",
        "\n",
        "      if expr_type == 'sentiment' and sequence[start_token].tag != begin_label.tag:\n",
        "        warnings.warn(\"Two expressions with conflicting polarities\"\n",
        "                      f\" in the same place. sent_idx={sent_idx} \"\n",
        "                      f\"polarities={sequence[start_token].tag}-{begin_label.tag}\")\n",
        "    else:\n",
        "      sequence[start_token] = begin_label\n",
        "    for i in range(start_token + 1, end_token):\n",
        "      if sequence[i] != out:\n",
        "        warnings.warn(f\"Sequence is already updated at index {i}, \"\n",
        "                      f\"expr_type={expr_type}, sent_idx={sent_idx}\")\n",
        "\n",
        "        if expr_type == 'sentiment' and sequence[i].tag != in_label.tag:\n",
        "          warnings.warn(\"Two expressions with conflicting polarities in the same place.\"\n",
        "                        f\" sent_idx={sent_idx} polarities={sequence[i].tag}-{in_label.tag}\")\n",
        "\n",
        "      sequence[i] = in_label\n",
        "\n",
        "\n",
        "  def _char_span_to_token_span_idx(\n",
        "      self, sent_idx: int, tokens_char_offsets: List[Tuple[int, int]],\n",
        "      char_span: Tuple[int, int]) -> Tuple[int, int]:\n",
        "\n",
        "    begin_token_idx, end_token_idx = None, None\n",
        "    for i, (char_offset_begin, char_offset_end) in enumerate(tokens_char_offsets):\n",
        "      if char_offset_begin == char_span[0] and begin_token_idx is None:\n",
        "        begin_token_idx = i\n",
        "\n",
        "      if char_offset_end == char_span[1] and end_token_idx is None:\n",
        "        end_token_idx = i + 1\n",
        "\n",
        "      if begin_token_idx is not None and end_token_idx is not None:\n",
        "        return begin_token_idx, end_token_idx\n",
        "\n",
        "    raise ValueError(\"Given char_span does not exist in given token char offsets. \"\n",
        "                     f\"sent_idx={sent_idx} char_span={char_span} \"\n",
        "                     f\"token_char_offsets={tokens_char_offsets}\")\n",
        "\n",
        "\n",
        "  def __len__(self):\n",
        "    return len(self.data)\n",
        "\n",
        "\n",
        "  def __getitem__(self, idx) -> Dict[str, Any] :\n",
        "    item = self.data[idx]\n",
        "\n",
        "    if self.split == 'train':\n",
        "      item[\"label_weights\"] = {\"sentiment\": self.sentim_seq_label_weights,\n",
        "                              \"target\": self.target_seq_label_weights,\n",
        "                              \"holder\": self.holder_seq_label_weights}\n",
        "\n",
        "      item[\"polarity_weights\"] = self.polarity_weights\n",
        "\n",
        "    return item"
      ]
    },
    {
      "cell_type": "code",
      "execution_count": null,
      "metadata": {
        "id": "bR0vcomazQDY"
      },
      "outputs": [],
      "source": [
        "train_ds = SemEval2022Task10Dataset('train', CONFIG)\n",
        "dev_ds = SemEval2022Task10Dataset('dev', CONFIG)"
      ]
    },
    {
      "cell_type": "markdown",
      "metadata": {
        "id": "ausHwICT5bHf"
      },
      "source": [
        "# Model Definition"
      ]
    },
    {
      "cell_type": "markdown",
      "metadata": {
        "id": "b9ML05fz8M9n"
      },
      "source": [
        "In SemEval2022 Task10 description, it is stated that we can see the sentiment, target and holder expressions in a sentence as a graph, which the expressions are its nodes and there is edge from a sentiment expression node to its pertaining target and holder ones."
      ]
    },
    {
      "cell_type": "code",
      "execution_count": null,
      "metadata": {
        "id": "vflsykjySi1w"
      },
      "outputs": [],
      "source": [
        "class BIOSchemeTokenClassification:\n",
        "\n",
        "  @classmethod\n",
        "  def _nstate(cls, state: str, label: TokenBIOLabelEnum) -> str:\n",
        "    if label.is_out():\n",
        "      return 'skipping'\n",
        "    if state == 'reading':\n",
        "      if label.is_begin():\n",
        "        return 'start_reading'\n",
        "      else: # label.is_in()\n",
        "        return 'reading'\n",
        "    elif state == 'skipping':\n",
        "      if label.is_begin():\n",
        "        return 'start_reading'\n",
        "      else:\n",
        "        return 'skipping'\n",
        "    else: # state == 'start_reading'\n",
        "      if label.is_begin():\n",
        "        return 'start_reading'\n",
        "      else: # label.is_in()\n",
        "        return 'reading'\n",
        "\n",
        "\n",
        "  @classmethod\n",
        "  def extract_spans(cls, token_labels: Sequence[TokenBIOLabelEnum]) -> List[Tuple[slice, Any]]:\n",
        "    state = 'skipping'\n",
        "    span_start = 0\n",
        "    span_length = 0\n",
        "    spans = []\n",
        "    for i in range(len(token_labels)):\n",
        "      label = token_labels[i]\n",
        "      nstate = BIOSchemeTokenClassification._nstate(state, label)\n",
        "      if nstate == 'start_reading':\n",
        "        if state == 'reading' or state == 'start_reading':\n",
        "          spans.append((slice(span_start, span_start + span_length), token_labels[i-1].tag))\n",
        "        span_start = i\n",
        "        span_length = 1\n",
        "      elif nstate == 'reading':\n",
        "        span_length += 1\n",
        "      else: # nstate == 'skipping'\n",
        "        if state == 'reading' or state == 'start_reading':\n",
        "          spans.append((slice(span_start, span_start + span_length), token_labels[i-1].tag))\n",
        "      state = nstate\n",
        "    if state != 'skipping':\n",
        "      spans.append((slice(span_start, span_start + span_length), token_labels[i].tag))\n",
        "    return spans"
      ]
    },
    {
      "cell_type": "markdown",
      "metadata": {
        "id": "OibGA1ghmxoc"
      },
      "source": [
        "## Sequence Labeler"
      ]
    },
    {
      "cell_type": "code",
      "execution_count": null,
      "metadata": {
        "id": "6_k4Fg1QhLKV"
      },
      "outputs": [],
      "source": [
        "class LinearSequenceLabeler(nn.Module):\n",
        "\n",
        "  def __init__(self, input_dim: int, hidden_dim: int, label_enum: TokenBIOLabelEnum):\n",
        "    super(LinearSequenceLabeler, self).__init__()\n",
        "\n",
        "    self.seq_label = nn.ModuleList([nn.Linear(input_dim, hidden_dim), nn.Dropout(), \n",
        "                                    nn.ReLU(), nn.Linear(hidden_dim, len(label_enum))])\n",
        "    self.label_enum = label_enum\n",
        "\n",
        "\n",
        "  def forward(self, ptm_output: BaseModelOutput) -> Tensor:\n",
        "    output = ptm_output.last_hidden_state\n",
        "    for layer in self.seq_label:\n",
        "      output = layer(output)\n",
        "    return output\n",
        "\n",
        "\n",
        "  @torch.no_grad()\n",
        "  def predict(self, output: Tensor,\n",
        "              padding_mask: Tensor) -> List[Sequence[TokenBIOLabelEnum]]:\n",
        "    output = torch.argmax(output, dim=2)\n",
        "    batch_size = output.shape[0]\n",
        "    preds_batch = []\n",
        "    for i in range(batch_size):\n",
        "      mask_i = padding_mask[i] == 1\n",
        "      output_i = output[i]\n",
        "      preds_batch.append(self.label_enum.from_integers(output_i[mask_i].cpu().numpy()))\n",
        "\n",
        "    return preds_batch"
      ]
    },
    {
      "cell_type": "markdown",
      "metadata": {
        "id": "cQc9C9pVnDuy"
      },
      "source": [
        "## Node Extractor"
      ]
    },
    {
      "cell_type": "code",
      "execution_count": null,
      "metadata": {
        "id": "_Y1McA1KJxA8"
      },
      "outputs": [],
      "source": [
        "class SentimentGraphNodeExtractor(nn.Module):\n",
        "\n",
        "  def __init__(self):\n",
        "    super(SentimentGraphNodeExtractor, self).__init__()\n",
        "\n",
        "    self.sentiment_labeler = LinearSequenceLabeler(768, 64, SentExprTokenEnum)\n",
        "    self.target_labeler = LinearSequenceLabeler(768, 64, SentTargetTokenEnum)\n",
        "    self.holder_labeler = LinearSequenceLabeler(768, 64, SentHolderTokenEnum)\n",
        "\n",
        "\n",
        "  def forward(self, ptm_output: BaseModelOutput) -> Tuple[Tensor, Tensor, Tensor]:\n",
        "    return (self.sentiment_labeler(ptm_output),\n",
        "            self.target_labeler(ptm_output),\n",
        "            self.holder_labeler(ptm_output))\n",
        "\n",
        "\n",
        "  @torch.no_grad()\n",
        "  def predict(self, output: Tuple[Tensor, Tensor, Tensor],\n",
        "              padding_mask: Tensor) -> List[SentimentGraphNodeSet]:\n",
        "                                                          \n",
        "    sentiment_labels = self.sentiment_labeler.predict(output[0], padding_mask)\n",
        "    target_labels = self.target_labeler.predict(output[1], padding_mask)\n",
        "    holder_labels = self.holder_labeler.predict(output[2], padding_mask)\n",
        "\n",
        "    batch_size = padding_mask.shape[0]\n",
        "    nodes_batch = []\n",
        "    for i in range(batch_size):\n",
        "\n",
        "      sentiment_nodes = BIOSchemeTokenClassification.extract_spans(sentiment_labels[i])\n",
        "      sentiment_nodes = [SentimentGraphNode(*tup) for tup in sentiment_nodes]\n",
        "\n",
        "      target_nodes = BIOSchemeTokenClassification.extract_spans(target_labels[i])\n",
        "      target_nodes = [SentimentGraphNode(*tup) for tup in target_nodes]\n",
        "\n",
        "      holder_nodes = BIOSchemeTokenClassification.extract_spans(holder_labels[i])\n",
        "      holder_nodes = [SentimentGraphNode(*tup) for tup in holder_nodes]\n",
        "\n",
        "      nodes_batch.append(SentimentGraphNodeSet(sentiment_nodes, target_nodes,\n",
        "                                               holder_nodes))\n",
        "    return nodes_batch"
      ]
    },
    {
      "cell_type": "markdown",
      "metadata": {
        "id": "t-Z6cpq6nIYn"
      },
      "source": [
        "## Polarity Predictor"
      ]
    },
    {
      "cell_type": "code",
      "execution_count": null,
      "metadata": {
        "id": "psxuIumVl3Uk"
      },
      "outputs": [],
      "source": [
        "class PolarityPredictor(nn.Module):\n",
        "\n",
        "  def __init__(self):\n",
        "    super(PolarityPredictor, self).__init__()\n",
        "\n",
        "    self.net = nn.ModuleList([nn.Linear(768, 64), nn.Dropout(), nn.ReLU(),\n",
        "                              nn.Linear(64, 16)])\n",
        "    self.cls = nn.Linear(16, 3)\n",
        "\n",
        "\n",
        "  def forward(self, ptm_output: BaseModelOutput,\n",
        "              graphs_nodes: List[SentimentGraphNodeSet]) -> List[Tensor]:\n",
        "\n",
        "    last_hidden_state_batch = ptm_output.last_hidden_state\n",
        "    batch_size = last_hidden_state_batch.shape[0]\n",
        "    fun_sum_over_span_tokens = functools.partial(torch.sum, dim=0)\n",
        "\n",
        "    preds_batch: List[Tensor] = []\n",
        "    for i in range(batch_size):\n",
        "      last_hidden_state = last_hidden_state_batch[i]\n",
        "      nodes = graphs_nodes[i].sentiment_nodes\n",
        "\n",
        "      if len(nodes) == 0: # This case arises when NodeExtractor has not predicted any Sentim. node.\n",
        "        preds_batch.append(torch.empty(0, device=DEVICE))\n",
        "        continue\n",
        "\n",
        "      nodes_h = torch.cat([last_hidden_state[node.span_in_sentence] for node in nodes])\n",
        "      for layer in self.net:\n",
        "        nodes_h = layer(nodes_h)\n",
        "\n",
        "      nodes_h = torch.split(nodes_h, [node.span_length for node in nodes])\n",
        "      nodes_h = torch.stack([fun_sum_over_span_tokens(node_h) for node_h in nodes_h])\n",
        "\n",
        "      preds_batch.append(self.cls(F.relu(nodes_h)))\n",
        "\n",
        "    return preds_batch\n",
        "\n",
        "\n",
        "  @torch.no_grad()\n",
        "  def predict(self, ptm_output: BaseModelOutput,\n",
        "              graphs_nodes: List[SentimentGraphNodeSet]) -> List[SentimentGraphNodeSet]:\n",
        "\n",
        "    output = self(ptm_output, graphs_nodes)\n",
        "    for i, graph_nodes in enumerate(graphs_nodes):\n",
        "      sentim_nodes = graph_nodes.sentiment_nodes\n",
        "      for j, node in enumerate(sentim_nodes):\n",
        "        pred = torch.argmax(output[i][j])\n",
        "        assert pred <= 2\n",
        "        if pred == 0:\n",
        "          node.tag = \"Positive\"\n",
        "        elif pred == 1:\n",
        "          node.tag = \"Neutral\"\n",
        "        else:\n",
        "          node.tag = \"Negative\"\n",
        "    return graphs_nodes"
      ]
    },
    {
      "cell_type": "markdown",
      "metadata": {
        "id": "Y3VoaDeWnR9w"
      },
      "source": [
        "## Edge Predictor"
      ]
    },
    {
      "cell_type": "code",
      "execution_count": null,
      "metadata": {
        "id": "YE2Rbbqr2e9u"
      },
      "outputs": [],
      "source": [
        "# Originally from <https://discuss.pytorch.org/t/does-nn-sigmoid-have-bias-parameter/10561/5>\n",
        "class BiasedSigmoid(nn.Module):\n",
        "\n",
        "  def __init__(self, device=None):\n",
        "    super(BiasedSigmoid, self).__init__()\n",
        "    self.bias = nn.Parameter(2 * torch.rand(1, device=device) - 1)\n",
        "\n",
        "\n",
        "  def forward(self, input: Tensor) -> Tensor:\n",
        "    return torch.sigmoid(input + self.bias)"
      ]
    },
    {
      "cell_type": "code",
      "execution_count": null,
      "metadata": {
        "id": "-usmqGvCRs5F"
      },
      "outputs": [],
      "source": [
        "class AttentionistSentimentGraphEdgePredictor(nn.Module):\n",
        "\n",
        "  def __init__(self, config: Dict[str, Any]):\n",
        "    super(AttentionistSentimentGraphEdgePredictor, self).__init__()\n",
        "\n",
        "    self.tgt_hld_separate_head = config[\"base_pooler\"][\"TARGET_AND_HOLDER_SEPARATE_HEAD\"]\n",
        "    if self.tgt_hld_separate_head:\n",
        "      if config[\"edge_predictor\"][\"USE_BIAS\"]:\n",
        "        self.target_edge_predictor = BiasedSigmoid()\n",
        "        self.holder_edge_predictor = BiasedSigmoid()\n",
        "      else:\n",
        "        self.target_edge_predictor = nn.Sigmoid()\n",
        "        self.holder_edge_predictor = nn.Sigmoid()\n",
        "    else:\n",
        "      if config[\"edge_predictor\"][\"USE_BIAS\"]:\n",
        "        self.edge_predictor = BiasedSigmoid()\n",
        "      else:\n",
        "        self.edge_predictor = nn.Sigmoid()\n",
        "\n",
        "\n",
        "  def forward(self, ptm_output: BaseModelOutput,\n",
        "              graphs_nodes: List[SentimentGraphNodeSet]) -> List[SentimentGraphEdgeSet]:\n",
        "\n",
        "    if self.tgt_hld_separate_head:\n",
        "      attentions_target_batch, attentions_holder_batch = ptm_output.attentions\n",
        "    else:\n",
        "      attentions_target_batch = ptm_output.attentions\n",
        "      attentions_holder_batch = ptm_output.attentions\n",
        "\n",
        "    batch_size = len(graphs_nodes)\n",
        "    graphs_edge_probs = []\n",
        "    for i in range(batch_size):\n",
        "      attentions_target = attentions_target_batch[i]\n",
        "      attentions_holder = attentions_holder_batch[i]\n",
        "\n",
        "      graph_nodes = graphs_nodes[i]\n",
        "\n",
        "      sentim_tgt_edges = []\n",
        "      for sentim_node, tgt_node in itertools.product(graph_nodes.sentiment_nodes,\n",
        "                                                     graph_nodes.target_nodes):\n",
        "        sentim_tgt_edges.append(\n",
        "            attentions_target[sentim_node.span_in_sentence, tgt_node.span_in_sentence].sum() + \\\n",
        "            attentions_target[tgt_node.span_in_sentence, sentim_node.span_in_sentence].sum()\n",
        "        )\n",
        "      if len(sentim_tgt_edges) == 0:\n",
        "        sentim_tgt_edges = None\n",
        "      else:\n",
        "        sentim_tgt_edges = torch.stack(sentim_tgt_edges).view(len(graph_nodes.sentiment_nodes),\n",
        "                                                              len(graph_nodes.target_nodes))\n",
        "        if self.tgt_hld_separate_head:\n",
        "          sentim_tgt_edges = self.target_edge_predictor(sentim_tgt_edges)\n",
        "        else:\n",
        "          sentim_tgt_edges = self.edge_predictor(sentim_tgt_edges)\n",
        "\n",
        "      sentim_hld_edges = []\n",
        "      for sentim_node, hld_node in itertools.product(graph_nodes.sentiment_nodes,\n",
        "                                                     graph_nodes.holder_nodes):\n",
        "        sentim_hld_edges.append(\n",
        "            attentions_holder[sentim_node.span_in_sentence, hld_node.span_in_sentence].sum() + \\\n",
        "            attentions_holder[hld_node.span_in_sentence, sentim_node.span_in_sentence].sum()\n",
        "        )\n",
        "      if len(sentim_hld_edges) == 0:\n",
        "        sentim_hld_edges = None\n",
        "      else:  \n",
        "        sentim_hld_edges = torch.stack(sentim_hld_edges).view(len(graph_nodes.sentiment_nodes),\n",
        "                                                            len(graph_nodes.holder_nodes))\n",
        "        if self.tgt_hld_separate_head:\n",
        "          sentim_hld_edges = self.holder_edge_predictor(sentim_hld_edges)\n",
        "        else:\n",
        "          sentim_hld_edges = self.edge_predictor(sentim_hld_edges)\n",
        "\n",
        "      graphs_edge_probs.append(SentimentGraphEdgeSet(sentim_tgt_edges, sentim_hld_edges))\n",
        "\n",
        "    return graphs_edge_probs\n",
        "\n",
        "\n",
        "  @torch.no_grad()\n",
        "  def predict(self, output: List[SentimentGraphEdgeSet]) -> List[SentimentGraphEdgeSet]:\n",
        "    edges = []\n",
        "    for graph_E in output:\n",
        "      tgt_edges = graph_E.sentiment_target_edges\n",
        "      tgt_edges = tgt_edges.round().int() if tgt_edges is not None else None\n",
        "\n",
        "      hld_edges = graph_E.sentiment_holder_edges\n",
        "      hld_edges = hld_edges.round().int() if hld_edges is not None else None\n",
        "\n",
        "      edges.append(SentimentGraphEdgeSet(tgt_edges, hld_edges))\n",
        "\n",
        "    return edges\n"
      ]
    },
    {
      "cell_type": "markdown",
      "metadata": {
        "id": "KW-XkdrvghUt"
      },
      "source": [
        "## Model Base - RoBERTa | BERT"
      ]
    },
    {
      "cell_type": "code",
      "execution_count": null,
      "metadata": {
        "id": "qfJiO-odgjOv"
      },
      "outputs": [],
      "source": [
        "class ModelBase(nn.Module):\n",
        "\n",
        "  def __init__(self, config: Dict[str, Any]):\n",
        "    super(ModelBase, self).__init__()\n",
        "\n",
        "    if config[\"dataset\"] in ['opener_en', 'mpqa', 'darmstadt_unis']:\n",
        "      self.ptm = RobertaModel.from_pretrained('roberta-base', output_attentions=True,\n",
        "                                              add_pooling_layer=False,)\n",
        "    else:\n",
        "      self.ptm = BertModel.from_pretrained('setu4993/LaBSE',\n",
        "                                           output_attentions=True, add_pooling_layer=False)\n",
        "\n",
        "\n",
        "  def forward(self, ptm_input: Dict[str, Any]) -> BaseModelOutput:\n",
        "    ptm_output = self.ptm(**ptm_input)\n",
        "\n",
        "    if not ptm_output.attentions:\n",
        "      raise ValueError(\n",
        "          \"Attentions should be included in model input. You might have forgotten \"\n",
        "          \"to set `output_attentions=True` on constructing PTM or calling it.\"\n",
        "      )\n",
        "\n",
        "    return ptm_output"
      ]
    },
    {
      "cell_type": "markdown",
      "metadata": {
        "id": "4FOEtQs0WQ6R"
      },
      "source": [
        "## Base Pooler"
      ]
    },
    {
      "cell_type": "code",
      "execution_count": null,
      "metadata": {
        "id": "7Sy0fkpwWXaB"
      },
      "outputs": [],
      "source": [
        "class BasePooler(nn.Module):\n",
        "\n",
        "  def __init__(self, config: Dict[str, Any]):\n",
        "    super(BasePooler, self).__init__()\n",
        "\n",
        "    self.avg_heads = config[\"base_pooler\"][\"AVERAGE_HEADS\"]\n",
        "    self.tgt_hld_separate_head = config[\"base_pooler\"][\"TARGET_AND_HOLDER_SEPARATE_HEAD\"]\n",
        "    self.dataset = config[\"dataset\"]\n",
        "\n",
        "    if self.avg_heads:\n",
        "      if self.tgt_hld_separate_head:\n",
        "        initial_attention_weights_target = torch.zeros(12, 12).float()\n",
        "        initial_attention_weights_holder = torch.zeros(12, 12).float()\n",
        "\n",
        "        if self.dataset in ['opener_en', 'mpqa', 'darmstadt_unis']:\n",
        "          initial_attention_weights_target[7, 6] = 1.\n",
        "          initial_attention_weights_holder[10, 9] = 1.\n",
        "        else:\n",
        "          initial_attention_weights_target[10, 8] = 1.\n",
        "          initial_attention_weights_holder[10, 3] = 1.\n",
        "\n",
        "        self.attention_weights_target = nn.Parameter(initial_attention_weights_target)\n",
        "        self.attention_weights_holder = nn.Parameter(initial_attention_weights_holder)\n",
        "      else:\n",
        "        initial_attention_weights = torch.zeros(12, 12).float()\n",
        "\n",
        "        if self.dataset in ['opener_en', 'mpqa', 'darmstadt_unis']:\n",
        "          initial_attention_weights[7, 6] = 1.\n",
        "        else:\n",
        "          initial_attention_weights[10, 8] = 1.\n",
        "\n",
        "        self.attention_weights = nn.Parameter(initial_attention_weights)\n",
        "\n",
        "\n",
        "  def forward(self, ptm_output: BaseModelOutput) -> BaseModelOutput:\n",
        "\n",
        "    ptm_output.last_hidden_state = ptm_output.last_hidden_state[:, 1:-1, :] # Excluding CLS,SEP\n",
        "\n",
        "    if not self.avg_heads:\n",
        "      if not self.tgt_hld_separate_head:\n",
        "        if self.dataset in ['opener_en', 'mpqa', 'darmstadt_unis']:\n",
        "          ptm_output.attentions = ptm_output.attentions[7][:, 6] # Head 7 (pink) of layer 8\n",
        "        else:\n",
        "          ptm_output.attentions = ptm_output.attentions[10][:, 8] # Head 9 (green) of layer 11\n",
        "      else:\n",
        "        if self.dataset in ['opener_en', 'mpqa', 'darmstadt_unis']:\n",
        "          ptm_output.attentions = [ptm_output.attentions[7][:, 6],# Head 7 (pink) of layer 8\n",
        "                                   ptm_output.attentions[10][:, 9]]# Head 10 of layer 11\n",
        "        else:\n",
        "          ptm_output.attentions = [ptm_output.attentions[10][:, 8],# Head 9 (green) of layer 11\n",
        "                                   ptm_output.attentions[10][:, 3]]# Head 4 (green) of layer 11\n",
        "    else:\n",
        "      if not self.tgt_hld_separate_head:\n",
        "        ptm_output.attentions = torch.tensordot(torch.stack(ptm_output.attentions),\n",
        "                                                self.attention_weights, dims=([0,2],[0,1]))\n",
        "      else:\n",
        "        ptm_output.attentions = [torch.tensordot(torch.stack(ptm_output.attentions),\n",
        "                                                self.attention_weights_target,\n",
        "                                                 dims=([0,2],[0,1])),\n",
        "                                 torch.tensordot(torch.stack(ptm_output.attentions),\n",
        "                                                self.attention_weights_holder,\n",
        "                                                 dims=([0,2],[0,1]))]\n",
        "      # Alternatively:\n",
        "      # ptm_output.attentions = torch.einsum(\n",
        "      #     'lbhmn, lh -> bmn', torch.stack(ptm_output.attentions), self.attention_weights\n",
        "      # )\n",
        "    \n",
        "    # Excluding CLS,SEP\n",
        "    if isinstance(ptm_output.attentions, list):\n",
        "      ptm_output.attentions = [item[:, 1:-1, 1:-1] for item in ptm_output.attentions]\n",
        "    else:\n",
        "      ptm_output.attentions = ptm_output.attentions[:, 1:-1, 1:-1] \n",
        "\n",
        "    return ptm_output"
      ]
    },
    {
      "cell_type": "markdown",
      "metadata": {
        "id": "JmPuPpTEnWbn"
      },
      "source": [
        "## Whole Model"
      ]
    },
    {
      "cell_type": "code",
      "execution_count": null,
      "metadata": {
        "id": "5pvRjzMJJM7h"
      },
      "outputs": [],
      "source": [
        "class StructuredSentimentPredictor(nn.Module):\n",
        "\n",
        "  def __init__(self, config: Dict[str, Any]):\n",
        "    super(StructuredSentimentPredictor, self).__init__()\n",
        "\n",
        "    self.base = ModelBase(config)\n",
        "\n",
        "    self.novelty = nn.ModuleDict({'base_pooler': BasePooler(config),\n",
        "                                  'edge_predictor': AttentionistSentimentGraphEdgePredictor(config),\n",
        "                                  'node_extractor': SentimentGraphNodeExtractor()})\n",
        "    self.have_polarity_predictor = config[\"polarity_predictor\"][\"exist\"]\n",
        "    if self.have_polarity_predictor:\n",
        "      self.novelty.update({\"polarity_predictor\":PolarityPredictor()})\n",
        "\n",
        "  @dataclass\n",
        "  class Output:\n",
        "    node_extractor_output: Tuple[Tensor, Tensor, Tensor]\n",
        "    edge_predictor_output: List[SentimentGraphEdgeSet]\n",
        "    polarity_predictor_output: List[Tensor] = None\n",
        "\n",
        "\n",
        "  def forward(self, inputs: Dict[str, Any]) -> Output:\n",
        "\n",
        "    base_output = self.base(inputs[\"ptm_input\"])\n",
        "\n",
        "    base_output = self.novelty['base_pooler'](base_output)\n",
        "\n",
        "    node_extractor_out = self.novelty['node_extractor'](base_output)\n",
        "\n",
        "    graphs_nodes = inputs[\"graphs_nodes\"]\n",
        "    edge_predictor_out = self.novelty['edge_predictor'](base_output, graphs_nodes)\n",
        "\n",
        "    if self.have_polarity_predictor:\n",
        "      polarity_predictor_out = self.novelty['polarity_predictor'](base_output, graphs_nodes)\n",
        "\n",
        "    return StructuredSentimentPredictor.Output(\n",
        "        node_extractor_out,\n",
        "        edge_predictor_out,\n",
        "        polarity_predictor_out if self.have_polarity_predictor else None\n",
        "    )\n",
        "\n",
        "\n",
        "  @torch.no_grad()\n",
        "  def predict(self, inputs: Dict[str, Any], output: Output) -> List[SentimentGraph]:\n",
        "\n",
        "    graphs_nodes = self.novelty['node_extractor'].predict(\n",
        "      output.node_extractor_output, inputs['padding_mask'])\n",
        "\n",
        "    base_output = self.base(inputs[\"ptm_input\"])\n",
        "    base_output = self.novelty['base_pooler'](base_output)\n",
        "\n",
        "    graphs_edges_probs = self.novelty['edge_predictor'](base_output, graphs_nodes)\n",
        "    graphs_edges = self.novelty['edge_predictor'].predict(graphs_edges_probs)\n",
        "\n",
        "    if self.have_polarity_predictor:\n",
        "      graphs_nodes = self.novelty['polarity_predictor'].predict(base_output, graphs_nodes)\n",
        "\n",
        "    return [SentimentGraph(graph_nodes, graph_edges) for graph_nodes,\n",
        "            graph_edges in zip(graphs_nodes, graphs_edges)]\n"
      ]
    },
    {
      "cell_type": "markdown",
      "metadata": {
        "id": "O9RU5OlBoJRW"
      },
      "source": [
        "# Loss functions"
      ]
    },
    {
      "cell_type": "markdown",
      "metadata": {
        "id": "xXb3b2XFtNFF"
      },
      "source": [
        "## Node Extractor Loss - Cross Entropy"
      ]
    },
    {
      "cell_type": "code",
      "execution_count": null,
      "metadata": {
        "id": "aWv9A9z0oL76"
      },
      "outputs": [],
      "source": [
        "def node_extractor_loss(y_pred: StructuredSentimentPredictor.Output,\n",
        "                        y: Dict[str,Any], weighted=False) -> torch.double:\n",
        "  sentim_labels_pred, tgt_labels_pred, hld_labels_pred = y_pred.node_extractor_output\n",
        "  sentim_labels, tgt_labels, hld_labels = y['seq_labels']\n",
        "\n",
        "  sentim_labels_loss = F.cross_entropy(\n",
        "      sentim_labels_pred.permute(0, 2, 1), sentim_labels,\n",
        "      ignore_index=-1, weight=y[\"seq_label_weights\"][\"sentiment\"] if weighted else None)\n",
        "  tgt_labels_loss = F.cross_entropy(\n",
        "      tgt_labels_pred.permute(0, 2, 1), tgt_labels,\n",
        "      ignore_index=-1, weight=y[\"seq_label_weights\"][\"target\"] if weighted else None)\n",
        "  hld_labels_loss = F.cross_entropy(\n",
        "      hld_labels_pred.permute(0, 2, 1), hld_labels,\n",
        "      ignore_index=-1, weight=y[\"seq_label_weights\"][\"holder\"] if weighted else None)\n",
        "\n",
        "  return sentim_labels_loss + tgt_labels_loss + hld_labels_loss"
      ]
    },
    {
      "cell_type": "markdown",
      "metadata": {
        "id": "GRk_8WLrJMFn"
      },
      "source": [
        "## Edge Extractor Loss - Binary Cross Entropy"
      ]
    },
    {
      "cell_type": "code",
      "execution_count": null,
      "metadata": {
        "id": "ZQP2WvpdDaJj"
      },
      "outputs": [],
      "source": [
        "def edge_extractor_loss(y_pred: StructuredSentimentPredictor.Output,\n",
        "                        y: Dict[str,Any]) -> torch.double:\n",
        "  adj_matrices_pred_batch: List[SentimentGraphEdgeSet] = y_pred.edge_predictor_output\n",
        "  adj_matrices_batch: List[SentimentGraphEdgeSet] = y[\"graphs_edges\"]\n",
        "\n",
        "  loss = torch.zeros((), device=DEVICE)\n",
        "\n",
        "  for edges_pred, edges in zip(adj_matrices_pred_batch, adj_matrices_batch):\n",
        "\n",
        "    target_edges_pred = edges_pred.sentiment_target_edges\n",
        "    target_edges = edges.sentiment_target_edges\n",
        "    if target_edges_pred is not None:\n",
        "      loss += F.binary_cross_entropy(target_edges_pred, target_edges)\n",
        "\n",
        "    holder_edges_pred = edges_pred.sentiment_holder_edges\n",
        "    holder_edges = edges.sentiment_holder_edges\n",
        "    if holder_edges_pred is not None:\n",
        "      loss += F.binary_cross_entropy(holder_edges_pred, holder_edges)\n",
        "\n",
        "  return loss"
      ]
    },
    {
      "cell_type": "markdown",
      "metadata": {
        "id": "YnmLbAzkGo9Y"
      },
      "source": [
        "## Polarity Predictor Loss - Cross Entropy"
      ]
    },
    {
      "cell_type": "code",
      "execution_count": null,
      "metadata": {
        "id": "T_d-xnYiGop3"
      },
      "outputs": [],
      "source": [
        "def polarity_predictor_loss(y_pred: StructuredSentimentPredictor.Output,\n",
        "                            y: Dict[str,Any], weighted: bool = False) -> torch.double:\n",
        "  polarities_pred_batch = pad_sequence(y_pred.polarity_predictor_output, batch_first=True)\n",
        "\n",
        "  return F.cross_entropy(polarities_pred_batch.permute(0, 2, 1),\n",
        "                         y[\"sentim_nodes_polarities\"],\n",
        "                         ignore_index=-1,\n",
        "                         weight=y[\"polarity_weights\"] if weighted else None)"
      ]
    },
    {
      "cell_type": "markdown",
      "metadata": {
        "id": "5H-MM7pdJWES"
      },
      "source": [
        "## Total Loss"
      ]
    },
    {
      "cell_type": "code",
      "execution_count": null,
      "metadata": {
        "id": "1-twf7CPJVlm"
      },
      "outputs": [],
      "source": [
        "def loss_fn(y_pred: StructuredSentimentPredictor.Output,\n",
        "                        y: Dict[str,Any], config: Dict[str, Any]) -> torch.double:\n",
        "  polarity_loss = polarity_predictor_loss(\n",
        "      y_pred, y,\n",
        "      weighted=config[\"polarity_predictor\"][\"WEIGHTED_LOSS\"]\n",
        "  ) if config[\"polarity_predictor\"][\"exist\"] else 0.\n",
        "\n",
        "  return node_extractor_loss(y_pred, y, weighted=config[\"sequence_labeler\"][\"WEIGHTED_LOSS\"]) + \\\n",
        "         edge_extractor_loss(y_pred, y) + polarity_loss"
      ]
    },
    {
      "cell_type": "markdown",
      "metadata": {
        "id": "iTTmw0a8lVXY"
      },
      "source": [
        "# Train & Evaluation"
      ]
    },
    {
      "cell_type": "markdown",
      "metadata": {
        "id": "D0m86-qRlZzu"
      },
      "source": [
        "## Data Loaders"
      ]
    },
    {
      "cell_type": "code",
      "execution_count": null,
      "metadata": {
        "id": "VNyvSz1alb9x"
      },
      "outputs": [],
      "source": [
        "def collate_fn(batch: List[Dict[str, Any]], tokenizer: RobertaTokenizerFast) -> Dict[str, Any]:\n",
        "\n",
        "  texts = [item['text'] for item in batch]\n",
        "  ptm_input = tokenizer(texts, padding=True, return_tensors='pt')\n",
        "  padding_mask = tokenizer(texts, padding=True, return_tensors='pt',\n",
        "                           add_special_tokens=False)[\"attention_mask\"]\n",
        "\n",
        "  sentim_labels = pad_sequence([torch.LongTensor(\n",
        "      SentExprTokenEnum.from_labels(item[\"seq_labels\"][\"sentiment\"])\n",
        "      ) for item in batch], batch_first=True, padding_value=-1)\n",
        "  target_labels = pad_sequence([torch.LongTensor(\n",
        "      SentTargetTokenEnum.from_labels(item[\"seq_labels\"][\"target\"])\n",
        "      ) for item in batch], batch_first=True, padding_value=-1)\n",
        "  holder_labels = pad_sequence([torch.LongTensor(\n",
        "      SentHolderTokenEnum.from_labels(item[\"seq_labels\"][\"holder\"])\n",
        "      ) for item in batch], batch_first=True, padding_value=-1)\n",
        "\n",
        "  seq_labels = (sentim_labels, target_labels, holder_labels)\n",
        "\n",
        "  graphs_edges = [item[\"graph\"].edges for item in batch]\n",
        "  graphs_nodes = [item[\"graph\"].nodes for item in batch]\n",
        "\n",
        "  # Only is used if config.polarity_predictor.exist == True\n",
        "  sentim_nodes_polarities = []\n",
        "  for node_set in graphs_nodes:\n",
        "    polarities = []\n",
        "    for node in node_set.sentiment_nodes:\n",
        "      if node.tag == 'Positive':\n",
        "        polarity = 0\n",
        "      elif node.tag == 'Neutral':\n",
        "        polarity = 1\n",
        "      elif node.tag == 'Negative':\n",
        "        polarity = 2\n",
        "      else:\n",
        "        raise ValueError(f\"Given invalid sentiment node tag: {node.tag}\")\n",
        "      polarities.append(polarity)\n",
        "    sentim_nodes_polarities.append(torch.LongTensor(polarities))\n",
        "  sentim_nodes_polarities = pad_sequence(sentim_nodes_polarities, batch_first=True,\n",
        "                                         padding_value=-1)\n",
        "\n",
        "  graphs = [item[\"graph\"] for item in batch]\n",
        "\n",
        "  gold_graphs = [item[\"gold_graph\"] for item in batch]\n",
        "\n",
        "  return {\"seq_labels\": seq_labels, \"graphs\": graphs,\n",
        "          \"seq_label_weights\": batch[0][\"label_weights\"],\n",
        "          \"graphs_nodes\": graphs_nodes, \"graphs_edges\": graphs_edges,\n",
        "          \"ptm_input\": ptm_input, \"padding_mask\": padding_mask,\n",
        "          'sentim_nodes_polarities': sentim_nodes_polarities,\n",
        "          \"polarity_weights\": batch[0][\"polarity_weights\"],\n",
        "          \"gold_graphs\": gold_graphs}\n"
      ]
    },
    {
      "cell_type": "code",
      "execution_count": null,
      "metadata": {
        "id": "sKeGupnojT8l"
      },
      "outputs": [],
      "source": [
        "train_dataloader = DataLoader(\n",
        "    train_ds, collate_fn=functools.partial(collate_fn, tokenizer=get_tokenizer(CONFIG[\"dataset\"])),\n",
        "    batch_size=CONFIG[\"batch_size\"])\n",
        "dev_dataloader = DataLoader(\n",
        "    dev_ds, collate_fn=functools.partial(collate_fn, tokenizer=get_tokenizer(CONFIG[\"dataset\"])),\n",
        "    batch_size= CONFIG[\"batch_size\"] * 2)"
      ]
    },
    {
      "cell_type": "markdown",
      "metadata": {
        "id": "Vs3lBy5iYHBm"
      },
      "source": [
        "## Model & Optimizer"
      ]
    },
    {
      "cell_type": "code",
      "execution_count": null,
      "metadata": {
        "id": "o3Cl23pwBmv6"
      },
      "outputs": [],
      "source": [
        "torch.cuda.empty_cache()"
      ]
    },
    {
      "cell_type": "code",
      "execution_count": null,
      "metadata": {
        "colab": {
          "base_uri": "https://localhost:8080/",
          "height": 121,
          "referenced_widgets": [
            "ff3313e048dd44e9ade1333ee6930a96",
            "c2a5f8d4419945098f960fbde735b05a",
            "2e6ceb3a182341909df7d1baf39f338b",
            "e8d55c2919c04f4ba766aa8780b291ac",
            "d37dabb2996543d5ae4dadb0367b6d9e",
            "855880f3b7b34c5d84a3fa9c1e6c19ee",
            "eb6f3250fd6246b5b2bbf454ad4c8b16",
            "1313855011d2411482d73c025e13accf",
            "6d6fe68ad5994c259f9962279edf49c0",
            "d017784c3b6749f194644cc5fbf49c23",
            "6108d45348d646de85b0cfbe00ae4207"
          ]
        },
        "id": "cbbp2W3AYJYI",
        "outputId": "9cc63eae-708e-4bfe-f8b9-99ab0a999529"
      },
      "outputs": [
        {
          "data": {
            "application/vnd.jupyter.widget-view+json": {
              "model_id": "ff3313e048dd44e9ade1333ee6930a96",
              "version_major": 2,
              "version_minor": 0
            },
            "text/plain": [
              "Downloading:   0%|          | 0.00/478M [00:00<?, ?B/s]"
            ]
          },
          "metadata": {},
          "output_type": "display_data"
        },
        {
          "name": "stderr",
          "output_type": "stream",
          "text": [
            "Some weights of the model checkpoint at roberta-base were not used when initializing RobertaModel: ['lm_head.dense.weight', 'lm_head.decoder.weight', 'lm_head.layer_norm.bias', 'roberta.pooler.dense.weight', 'lm_head.dense.bias', 'lm_head.bias', 'lm_head.layer_norm.weight', 'roberta.pooler.dense.bias']\n",
            "- This IS expected if you are initializing RobertaModel from the checkpoint of a model trained on another task or with another architecture (e.g. initializing a BertForSequenceClassification model from a BertForPreTraining model).\n",
            "- This IS NOT expected if you are initializing RobertaModel from the checkpoint of a model that you expect to be exactly identical (initializing a BertForSequenceClassification model from a BertForSequenceClassification model).\n"
          ]
        }
      ],
      "source": [
        "model = StructuredSentimentPredictor(CONFIG).to(DEVICE)\n",
        "\n",
        "optimizer_parameter_groups = [\n",
        "  {'params': list(model.base.parameters())},\n",
        "  {'params': list(model.novelty.parameters())}\n",
        "]\n",
        "optimizer = torch.optim.AdamW(optimizer_parameter_groups)"
      ]
    },
    {
      "cell_type": "markdown",
      "metadata": {
        "id": "x5y6xu_pjqrl"
      },
      "source": [
        "## Engines"
      ]
    },
    {
      "cell_type": "code",
      "execution_count": null,
      "metadata": {
        "id": "EOR_Ns2sjvrF"
      },
      "outputs": [],
      "source": [
        "def prepare_batch(\n",
        "    batch: Dict[str, Any],\n",
        "    device=DEVICE,\n",
        "    non_blocking=True\n",
        "    ) -> Tuple[Dict[str, Any], Dict[str, Any]]:\n",
        "  \n",
        "  padding_mask = batch[\"padding_mask\"].to(device, non_blocking=non_blocking)\n",
        "\n",
        "  x = {\n",
        "      \"ptm_input\": {\n",
        "           \"attention_mask\": batch[\"ptm_input\"][\"attention_mask\"].to(\n",
        "               device,\n",
        "               non_blocking=non_blocking),\n",
        "            \"input_ids\": batch[\"ptm_input\"][\"input_ids\"].to(\n",
        "                device,\n",
        "                non_blocking=non_blocking)\n",
        "            },\n",
        "       \"graphs_nodes\": batch[\"graphs_nodes\"],\n",
        "       \"padding_mask\": padding_mask\n",
        "       }\n",
        "\n",
        "  y = {\n",
        "      \"seq_labels\": tuple(tensor.to(\n",
        "          device,\n",
        "          non_blocking=non_blocking) for tensor in batch[\"seq_labels\"]),\n",
        "       \"graphs\": batch[\"graphs\"],\n",
        "       \"gold_graphs\": batch[\"gold_graphs\"],\n",
        "       \"graphs_edges\": [SentimentGraphEdgeSet(\n",
        "           item.sentiment_target_edges.to(device, non_blocking=non_blocking),\n",
        "           item.sentiment_holder_edges.to(device, non_blocking=non_blocking)\n",
        "           ) for item in batch[\"graphs_edges\"]\n",
        "           ],\n",
        "       \"padding_mask\": padding_mask,\n",
        "       \"seq_label_weights\": {k: v.to(\n",
        "           device,\n",
        "           non_blocking=non_blocking) for k,v in batch[\"seq_label_weights\"].items()\n",
        "           },\n",
        "       \"polarity_weights\": batch[\"polarity_weights\"].to(device, non_blocking=non_blocking),\n",
        "       \"sentim_nodes_polarities\": batch[\"sentim_nodes_polarities\"].to(\n",
        "           device,\n",
        "           non_blocking=non_blocking)\n",
        "       }\n",
        "\n",
        "  return x, y"
      ]
    },
    {
      "cell_type": "code",
      "execution_count": null,
      "metadata": {
        "id": "y8S-jfuTPRrq"
      },
      "outputs": [],
      "source": [
        "def train_output_transform(\n",
        "    x: Dict[str, Any],\n",
        "    y: Dict[str, Any],\n",
        "    y_pred: StructuredSentimentPredictor.Output,\n",
        "    loss: Tensor\n",
        "    ) -> Dict[str, Any]:\n",
        "\n",
        "  return {\"y\": y, \"y_pred_raw\": y_pred, \"loss\": loss.item()}"
      ]
    },
    {
      "cell_type": "code",
      "execution_count": null,
      "metadata": {
        "id": "17lRJnCru_oB"
      },
      "outputs": [],
      "source": [
        "# Submit issue on Ignite design about this\n",
        "def evaluate_output_transform(\n",
        "    x: Dict[str, Any],\n",
        "    y: Dict[str, Any],\n",
        "    y_pred: StructuredSentimentPredictor.Output,\n",
        "    model: nn.Module\n",
        "    ) -> Dict[str, Any]:\n",
        "\n",
        "  return {\"y\": y, \"y_pred_raw\": y_pred, \"y_pred\": model.predict(x, y_pred)}"
      ]
    },
    {
      "cell_type": "code",
      "execution_count": null,
      "metadata": {
        "id": "do_Y9qHwX_yn"
      },
      "outputs": [],
      "source": [
        "trainer = create_supervised_trainer(\n",
        "    model, optimizer, functools.partial(loss_fn, config=CONFIG),\n",
        "    deterministic=True, device=DEVICE,\n",
        "    prepare_batch=prepare_batch, output_transform=train_output_transform\n",
        "    )\n",
        "\n",
        "evaluator = create_supervised_evaluator(\n",
        "    model, prepare_batch=prepare_batch,\n",
        "    device=DEVICE, output_transform=functools.partial(evaluate_output_transform, model=model)\n",
        "    )\n",
        "\n",
        "train_evaluator = create_supervised_evaluator(\n",
        "    model, prepare_batch=prepare_batch,\n",
        "    device=DEVICE, output_transform=functools.partial(evaluate_output_transform, model=model)\n",
        "    )"
      ]
    },
    {
      "cell_type": "markdown",
      "metadata": {
        "id": "wk-wlWM4j6Iz"
      },
      "source": [
        "## Metrics"
      ]
    },
    {
      "cell_type": "code",
      "execution_count": null,
      "metadata": {
        "id": "e84-vMjTCciz"
      },
      "outputs": [],
      "source": [
        "class SeqLabelEntropy(Metric):\n",
        "  def __init__(self, output_transform=lambda x: x):\n",
        "    self.token_cnt = None\n",
        "    self.entropies = None\n",
        "\n",
        "    super(SeqLabelEntropy, self).__init__(output_transform=output_transform)\n",
        "\n",
        "\n",
        "  def reset(self):\n",
        "    self.token_cnt = {'sentiment': 0, 'target': 0, 'holder': 0}\n",
        "    self.entropies = {'sentiment': 0., 'target': 0., 'holder': 0.}\n",
        "    super(SeqLabelEntropy, self).reset()\n",
        "\n",
        "\n",
        "  def update(self, output: Tuple[StructuredSentimentPredictor.Output, Dict[str, Any]]):\n",
        "    sentim_labels, tgt_labels, hld_labels = output[0].node_extractor_output\n",
        "\n",
        "    padding_mask = output[1][\"padding_mask\"].detach().cpu().numpy()\n",
        "\n",
        "    sentim_labels = sentim_labels.detach().cpu().softmax(dim=2)\n",
        "    self.entropies['sentiment'] += (scipy.stats.entropy(sentim_labels,\n",
        "                                                        axis=2) * padding_mask).sum()\n",
        "    self.token_cnt['sentiment'] += sentim_labels.size()[:2].numel()\n",
        "  \n",
        "    tgt_labels = tgt_labels.detach().cpu().softmax(dim=2)\n",
        "    self.entropies['target'] += (scipy.stats.entropy(tgt_labels, axis=2) * padding_mask).sum()\n",
        "    self.token_cnt['target'] += tgt_labels.size()[:2].numel()\n",
        "  \n",
        "    hld_labels = hld_labels.detach().cpu().softmax(dim=2)\n",
        "    self.entropies['holder'] += (scipy.stats.entropy(hld_labels, axis=2) * padding_mask).sum()\n",
        "    self.token_cnt['holder'] += hld_labels.size()[:2].numel()\n",
        "\n",
        "\n",
        "  def compute(self) -> Dict[str, float]:\n",
        "    return {(k.capitalize() + \" Label Entropy\"): v / self.token_cnt[k] for k, v \\\n",
        "            in self.entropies.items()}\n"
      ]
    },
    {
      "cell_type": "code",
      "execution_count": null,
      "metadata": {
        "id": "WAN-QlBCoEC2"
      },
      "outputs": [],
      "source": [
        "class MatchLogicBase:\n",
        "  def is_match(self, sentim_overlap: int, target_overlap: int, holder_overlap: int,\n",
        "               is_polarity_matched: bool) -> bool:\n",
        "    ...\n",
        "\n",
        "\n",
        "  def weighted_match(self,\n",
        "                     sentim_nodes: List[SentimentGraphNode],\n",
        "                     target_neighbors: List[SentimentGraphNode],\n",
        "                     holder_neighbors: List[SentimentGraphNode],\n",
        "                     sentim_overlap: int, target_overlap: int, holder_overlap: int,\n",
        "                     ) -> float:\n",
        "    ...\n",
        "\n",
        "\n",
        "  def _union_length(self, nodes: List[SentimentGraphNode]) -> int:\n",
        "    if len(nodes) == 0:\n",
        "      return 1\n",
        "    return len(set(itertools.chain(*map(attrgetter('indices'), nodes))))"
      ]
    },
    {
      "cell_type": "code",
      "execution_count": null,
      "metadata": {
        "id": "-yR_KojGo2Hk"
      },
      "outputs": [],
      "source": [
        "class GraphMatchLogic(MatchLogicBase):\n",
        "\n",
        "  def __init__(self, keep_polarity: bool=True):\n",
        "    self.keep_polarity = keep_polarity\n",
        "\n",
        "\n",
        "  def is_match(self, sentim_overlap: int, target_overlap: int, holder_overlap: int,\n",
        "               is_polarity_matched: bool) -> bool:\n",
        "    return sentim_overlap > 0 and target_overlap > 0 and holder_overlap > 0 and \\\n",
        "              (is_polarity_matched or not self.keep_polarity)\n",
        "\n",
        "\n",
        "  def weighted_match(self,\n",
        "                     sentim_nodes: List[SentimentGraphNode],\n",
        "                     target_neighbors: List[SentimentGraphNode],\n",
        "                     holder_neighbors: List[SentimentGraphNode],\n",
        "                     sentim_overlap: int, target_overlap: int, holder_overlap: int,\n",
        "                     ) -> float:\n",
        "    return (sentim_overlap / float(self._union_length(sentim_nodes)) + \\\n",
        "            target_overlap / float(self._union_length(target_neighbors)) + \\\n",
        "            holder_overlap / float(self._union_length(holder_neighbors))\n",
        "            ) / 3."
      ]
    },
    {
      "cell_type": "code",
      "execution_count": null,
      "metadata": {
        "id": "tDIUHTRQpFX4"
      },
      "outputs": [],
      "source": [
        "class SentimentMatchLogic(MatchLogicBase):\n",
        "\n",
        "  def __init__(self, keep_polarity: bool=True):\n",
        "    self.keep_polarity = keep_polarity\n",
        "\n",
        "\n",
        "  def is_match(self, sentim_overlap: int, target_overlap: int, holder_overlap: int,\n",
        "               is_polarity_matched: bool) -> bool:\n",
        "    return sentim_overlap > 0 and (is_polarity_matched or not self.keep_polarity)\n",
        "\n",
        "\n",
        "  def weighted_match(self,\n",
        "                     sentim_nodes: List[SentimentGraphNode],\n",
        "                     target_neighbors: List[SentimentGraphNode],\n",
        "                     holder_neighbors: List[SentimentGraphNode],\n",
        "                     sentim_overlap: int, target_overlap: int, holder_overlap: int,\n",
        "                     ) -> float:\n",
        "    return sentim_overlap / float(self._union_length(sentim_nodes)) "
      ]
    },
    {
      "cell_type": "code",
      "execution_count": null,
      "metadata": {
        "id": "PSm7Azf9pfEc"
      },
      "outputs": [],
      "source": [
        "class TargetMatchLogic(MatchLogicBase):\n",
        "  def is_match(self, sentim_overlap: int, target_overlap: int, holder_overlap: int,\n",
        "               is_polarity_matched: bool) -> bool:\n",
        "    return target_overlap > 0\n",
        "\n",
        "\n",
        "  def weighted_match(self,\n",
        "                     sentim_nodes: List[SentimentGraphNode],\n",
        "                     target_neighbors: List[SentimentGraphNode],\n",
        "                     holder_neighbors: List[SentimentGraphNode],\n",
        "                     sentim_overlap: int, target_overlap: int, holder_overlap: int,\n",
        "                     ) -> float:\n",
        "    return target_overlap / float(self._union_length(target_neighbors)) "
      ]
    },
    {
      "cell_type": "code",
      "execution_count": null,
      "metadata": {
        "id": "ofz34FvUqL8q"
      },
      "outputs": [],
      "source": [
        "class HolderMatchLogic(MatchLogicBase):\n",
        "  def is_match(self, sentim_overlap: int, target_overlap: int, holder_overlap: int,\n",
        "               is_polarity_matched: bool) -> bool:\n",
        "    return holder_overlap > 0\n",
        "\n",
        "\n",
        "  def weighted_match(self,\n",
        "                     sentim_nodes: List[SentimentGraphNode],\n",
        "                     target_neighbors: List[SentimentGraphNode],\n",
        "                     holder_neighbors: List[SentimentGraphNode],\n",
        "                     sentim_overlap: int, target_overlap: int, holder_overlap: int,\n",
        "                     ) -> float:\n",
        "    return holder_overlap / float(self._union_length(holder_neighbors)) "
      ]
    },
    {
      "cell_type": "code",
      "execution_count": null,
      "metadata": {
        "id": "2Y5eg4-hM5fN"
      },
      "outputs": [],
      "source": [
        "class MetricBase(Metric):\n",
        "\n",
        "  def __init__(self, match_logic: MatchLogicBase, weighted=True, output_transform=lambda x:x):\n",
        "    self.weighted = weighted\n",
        "    self.match_logic = match_logic\n",
        "\n",
        "    super(MetricBase, self).__init__(output_transform=output_transform)\n",
        "\n",
        "\n",
        "  def extract_sentim_nodes_neighbors(\n",
        "    self, graph: SentimentGraph) -> List[Tuple[List[SentimentGraphNode], ...]]:\n",
        "    edges_sentim_tgt = graph.edges.sentiment_target_edges\n",
        "    if edges_sentim_tgt is not None:\n",
        "      edges_sentim_tgt = edges_sentim_tgt.detach().cpu()\n",
        "\n",
        "    edges_sentim_hld = graph.edges.sentiment_holder_edges\n",
        "    if edges_sentim_hld is not None:\n",
        "      edges_sentim_hld = edges_sentim_hld.detach().cpu()\n",
        "\n",
        "    sentim_nodes_neighbors = []\n",
        "    for i, sentim_node in enumerate(graph.nodes.sentiment_nodes):\n",
        "      assert sentim_node.tag is not None\n",
        "\n",
        "      if edges_sentim_tgt is not None:\n",
        "        target_neighbors = [\n",
        "          graph.nodes.target_nodes[j] for j in edges_sentim_tgt[i].nonzero()]\n",
        "      else:\n",
        "        target_neighbors = []\n",
        "\n",
        "      if edges_sentim_hld is not None:\n",
        "        holder_neighbors = [\n",
        "          graph.nodes.holder_nodes[j] for j in edges_sentim_hld[i].nonzero()]\n",
        "      else:\n",
        "        holder_neighbors = []\n",
        "\n",
        "      sentim_nodes_neighbors.append((target_neighbors, holder_neighbors))\n",
        "\n",
        "    return sentim_nodes_neighbors\n",
        "\n",
        "\n",
        "  def node_neighbors_overlap_length(self, nodes1: List[SentimentGraphNode],\n",
        "                      nodes2: List[SentimentGraphNode]) -> int:\n",
        "    if len(nodes1) == 0 and len(nodes2) == 0:\n",
        "      return 1\n",
        "\n",
        "    return len(set(itertools.chain(*map(attrgetter('indices'), nodes1))).intersection(\n",
        "        set(itertools.chain(*map(attrgetter('indices'), nodes2)))\n",
        "    ))\n",
        "\n",
        "\n",
        "  def update(self, output: Tuple[List[SentimentGraph], List[GoldSentimentGraph]]):\n",
        "\n",
        "    y_pred, y = output\n",
        "\n",
        "    for p_graph, g_graph in zip(y_pred, y):\n",
        "\n",
        "      p_nodes_neighbors = self.extract_sentim_nodes_neighbors(p_graph)\n",
        "\n",
        "      intersect_matrix = torch.zeros((len(p_graph.nodes.sentiment_nodes),\n",
        "                                         len(g_graph.nodes.sentiment_nodes)), dtype=int)\n",
        "\n",
        "      weighted_intersect_matrix_for_p = torch.zeros(len(p_graph.nodes.sentiment_nodes),\n",
        "                                        len(g_graph.nodes.sentiment_nodes))\n",
        "      weighted_intersect_matrix_for_g = torch.zeros(len(g_graph.nodes.sentiment_nodes),\n",
        "                                        len(p_graph.nodes.sentiment_nodes))\n",
        "\n",
        "      for i, p_sentim_node in enumerate(p_graph.nodes.sentiment_nodes):\n",
        "        for j, g_sentim_node in enumerate(g_graph.nodes.sentiment_nodes):\n",
        "\n",
        "          p_target_neighbors, p_holder_neighbors = p_nodes_neighbors[i]\n",
        "\n",
        "          g_target_neighbors = g_graph.edges.sentiment_target_edges[g_sentim_node].nodes\n",
        "          g_holder_neighbors = g_graph.edges.sentiment_holder_edges[g_sentim_node].nodes\n",
        "\n",
        "          sentim_overlap = self.node_neighbors_overlap_length([p_sentim_node], g_sentim_node.nodes)\n",
        "          target_overlap = self.node_neighbors_overlap_length(p_target_neighbors, g_target_neighbors)\n",
        "          holder_overlap = self.node_neighbors_overlap_length(p_holder_neighbors, g_holder_neighbors)\n",
        "\n",
        "          if self.match_logic.is_match(sentim_overlap, target_overlap, holder_overlap,\n",
        "                                       g_sentim_node.nodes[0].tag == p_sentim_node.tag):\n",
        "          \n",
        "            intersect_matrix[i, j] = 1\n",
        "\n",
        "            if self.weighted:\n",
        "              weighted_intersect_matrix_for_p[i, j] = \\\n",
        "                self.match_logic.weighted_match([p_sentim_node], p_target_neighbors,\n",
        "                                                p_holder_neighbors,\n",
        "                                                sentim_overlap, target_overlap, holder_overlap)\n",
        "\n",
        "              weighted_intersect_matrix_for_g[j, i] = \\\n",
        "                self.match_logic.weighted_match(g_sentim_node.nodes, g_target_neighbors,\n",
        "                                                g_holder_neighbors,\n",
        "                                                sentim_overlap, target_overlap, holder_overlap)\n",
        "\n",
        "      self.update_(intersect_matrix, weighted_intersect_matrix_for_g,\n",
        "                   weighted_intersect_matrix_for_p)\n"
      ]
    },
    {
      "cell_type": "code",
      "execution_count": null,
      "metadata": {
        "id": "KV8T-o_neQ0M"
      },
      "outputs": [],
      "source": [
        "class Precision(MetricBase):\n",
        "  def __init__(self, match_logic: MatchLogicBase, weighted=True, output_transform=lambda x:x):\n",
        "    self.weighted_tp = None\n",
        "    self.tp = None\n",
        "    self.fp = None\n",
        "\n",
        "    super(Precision, self).__init__(match_logic, weighted=weighted,\n",
        "                                    output_transform=output_transform)\n",
        "\n",
        "\n",
        "  def reset(self):\n",
        "      self.weighted_tp = 0.\n",
        "      self.tp = 0\n",
        "      self.fp = 0\n",
        "\n",
        "      super(Precision, self).reset()\n",
        "\n",
        "\n",
        "  def update_(self, intersect_matrix: Tensor, weighted_intersect_matrix_for_g: Tensor,\n",
        "               weighted_intersect_matrix_for_p: Tensor):\n",
        "    self.tp += intersect_matrix.any(dim=1).sum().item()\n",
        "    self.fp += (~ intersect_matrix.any(dim=1)).sum().item()\n",
        "\n",
        "    if self.weighted:\n",
        "      self.weighted_tp += weighted_intersect_matrix_for_p.max(dim=1).values.sum().item()\n",
        "\n",
        "\n",
        "  def compute(self) -> float:\n",
        "    if self.weighted:\n",
        "      return self.weighted_tp / (self.tp + self.fp + 1e-10)\n",
        "    else:\n",
        "      return self.tp / (self.tp + self.fp + 1e-10)"
      ]
    },
    {
      "cell_type": "code",
      "execution_count": null,
      "metadata": {
        "id": "Ug4WDkLXfUCk"
      },
      "outputs": [],
      "source": [
        "class Recall(MetricBase):\n",
        "\n",
        "  def __init__(self, match_logic: MatchLogicBase, weighted=True, output_transform=lambda x:x):\n",
        "    self.weighted_tp = None\n",
        "    self.tp = None\n",
        "    self.fn = None\n",
        "\n",
        "    super(Recall, self).__init__(match_logic, weighted=weighted,\n",
        "                                 output_transform=output_transform)\n",
        "\n",
        "\n",
        "  def reset(self):\n",
        "    self.weighted_tp = 0.\n",
        "    self.tp = 0\n",
        "    self.fn = 0\n",
        "\n",
        "    super(Recall, self).reset()\n",
        "\n",
        "\n",
        "  def update_(self, intersect_matrix: Tensor, weighted_intersect_matrix_for_g: Tensor,\n",
        "               weighted_intersect_matrix_for_p: Tensor):\n",
        "\n",
        "    self.tp += intersect_matrix.any(dim=0).sum().item()\n",
        "    self.fn += (~ intersect_matrix.any(dim=0)).sum().item()\n",
        "\n",
        "    if self.weighted:\n",
        "      try:\n",
        "        self.weighted_tp += weighted_intersect_matrix_for_g.max(dim=1).values.sum().item()\n",
        "      except IndexError:\n",
        "        pass\n",
        "\n",
        "\n",
        "  def compute(self) -> float:\n",
        "    if self.weighted:\n",
        "      return self.weighted_tp / (self.tp + self.fn + 1e-10)\n",
        "    else:\n",
        "      return self.tp / (self.tp + self.fn + 1e-10)"
      ]
    },
    {
      "cell_type": "code",
      "execution_count": null,
      "metadata": {
        "id": "R8uJNqXT7sH1"
      },
      "outputs": [],
      "source": [
        "def F1(match_logic: MatchLogicBase, weighted=True, output_transform=lambda x: x) -> MetricBase:\n",
        "  p = Precision(match_logic, weighted=weighted, output_transform=output_transform)\n",
        "  r = Recall(match_logic, weighted=weighted, output_transform=output_transform)\n",
        "  return 2 * p * r / (p + r + 1e-10)"
      ]
    },
    {
      "cell_type": "code",
      "execution_count": null,
      "metadata": {
        "id": "ncVPRE4zJkNG"
      },
      "outputs": [],
      "source": [
        "@torch.no_grad()\n",
        "def loss_metric(input, config: Dict[str, Any]):\n",
        "  y_pred, y = input[\"y_pred_raw\"], input[\"y\"]\n",
        "  return loss_fn(y_pred, y, config).item()"
      ]
    },
    {
      "cell_type": "code",
      "execution_count": null,
      "metadata": {
        "id": "zsZ6znpYQcvr"
      },
      "outputs": [],
      "source": [
        "@torch.no_grad()\n",
        "def acc_output_transform(\n",
        "    inputs: Dict[str, Any]\n",
        ") -> Tuple[List[SentimentGraph], List[GoldSentimentGraph]]:\n",
        "  return inputs['y_pred'], inputs['y']['gold_graphs']"
      ]
    },
    {
      "cell_type": "code",
      "execution_count": null,
      "metadata": {
        "id": "HTDmZ3z-QGVt"
      },
      "outputs": [],
      "source": [
        "def loss_output_transform(inputs):\n",
        "  return inputs[\"loss\"]"
      ]
    },
    {
      "cell_type": "markdown",
      "metadata": {
        "id": "PDpjme4EXXKJ"
      },
      "source": [
        "## Attach Metrics"
      ]
    },
    {
      "cell_type": "code",
      "execution_count": null,
      "metadata": {
        "id": "WwUaCGbklZZs"
      },
      "outputs": [],
      "source": [
        "train_loss = Average(output_transform=loss_output_transform)\n",
        "eval_loss = Average(output_transform=functools.partial(loss_metric, config=CONFIG))\n",
        "running_loss = RunningAverage(output_transform=loss_output_transform)"
      ]
    },
    {
      "cell_type": "code",
      "execution_count": null,
      "metadata": {
        "id": "jbt4kZdIwKzh"
      },
      "outputs": [],
      "source": [
        "graph_f1 = F1(GraphMatchLogic(), output_transform=acc_output_transform)\n",
        "\n",
        "sentiment_f1 = F1(SentimentMatchLogic(), output_transform=acc_output_transform)\n",
        "\n",
        "target_f1 = F1(TargetMatchLogic(), output_transform=acc_output_transform)\n",
        "\n",
        "holder_f1 = F1(HolderMatchLogic(), output_transform=acc_output_transform)"
      ]
    },
    {
      "cell_type": "code",
      "execution_count": null,
      "metadata": {
        "id": "6zA73D5MJPsu"
      },
      "outputs": [],
      "source": [
        "label_entropy = SeqLabelEntropy(output_transform=lambda out: (out['y_pred_raw'], out['y']))"
      ]
    },
    {
      "cell_type": "code",
      "execution_count": null,
      "metadata": {
        "id": "sglIkC8x9cH2"
      },
      "outputs": [],
      "source": [
        "train_loss.attach(trainer, 'Loss')\n",
        "\n",
        "graph_f1.attach(train_evaluator, 'Graph F1')\n",
        "sentiment_f1.attach(train_evaluator, 'Sentiment F1')\n",
        "target_f1.attach(train_evaluator, 'Target F1')\n",
        "holder_f1.attach(train_evaluator, 'Holder F1')\n",
        "\n",
        "\n",
        "eval_loss.attach(evaluator, 'Loss')\n",
        "\n",
        "graph_f1.attach(evaluator, 'Graph F1')\n",
        "sentiment_f1.attach(evaluator, 'Sentiment F1')\n",
        "target_f1.attach(evaluator, 'Target F1')\n",
        "holder_f1.attach(evaluator, 'Holder F1')\n",
        "\n",
        "\n",
        "running_loss.attach(trainer, 'Running Loss')"
      ]
    },
    {
      "cell_type": "code",
      "execution_count": null,
      "metadata": {
        "id": "CYh-AcmxOBDW"
      },
      "outputs": [],
      "source": [
        "label_entropy.attach(train_evaluator, 'Label Entropy')\n",
        "label_entropy.attach(evaluator, 'Label Entropy')"
      ]
    },
    {
      "cell_type": "markdown",
      "metadata": {
        "id": "nN1dFQSo4-6J"
      },
      "source": [
        "## Safety Measure (Terminate on NaN)"
      ]
    },
    {
      "cell_type": "code",
      "execution_count": null,
      "metadata": {
        "colab": {
          "base_uri": "https://localhost:8080/"
        },
        "id": "zBddLmc41U55",
        "outputId": "edde556b-26cc-46cb-f573-77d1d57116a2"
      },
      "outputs": [
        {
          "data": {
            "text/plain": [
              "<ignite.engine.events.RemovableEventHandle at 0x7faabae82710>"
            ]
          },
          "execution_count": 55,
          "metadata": {},
          "output_type": "execute_result"
        }
      ],
      "source": [
        "trainer.add_event_handler(Events.ITERATION_COMPLETED,\n",
        "                          TerminateOnNan(output_transform=itemgetter('loss')))"
      ]
    },
    {
      "cell_type": "markdown",
      "metadata": {
        "id": "D1yg5Gc0euM8"
      },
      "source": [
        "## Logging (WandB & Tqdm)"
      ]
    },
    {
      "cell_type": "code",
      "execution_count": null,
      "metadata": {
        "colab": {
          "base_uri": "https://localhost:8080/",
          "height": 104
        },
        "id": "NIEId7Si5Mpr",
        "outputId": "464366ce-cc04-498f-a9a5-76adf8b2678d"
      },
      "outputs": [
        {
          "name": "stderr",
          "output_type": "stream",
          "text": [
            "\u001b[34m\u001b[1mwandb\u001b[0m: Currently logged in as: \u001b[33msadra-barikbin\u001b[0m (use `wandb login --relogin` to force relogin)\n"
          ]
        },
        {
          "data": {
            "text/html": [
              "Tracking run with wandb version 0.12.13"
            ],
            "text/plain": [
              "<IPython.core.display.HTML object>"
            ]
          },
          "metadata": {},
          "output_type": "display_data"
        },
        {
          "data": {
            "text/html": [
              "Run data is saved locally in <code>/content/wandb/run-20220407_190629-1k6w8uqd</code>"
            ],
            "text/plain": [
              "<IPython.core.display.HTML object>"
            ]
          },
          "metadata": {},
          "output_type": "display_data"
        },
        {
          "data": {
            "text/html": [
              "Syncing run <strong><a href=\"https://wandb.ai/sadra-barikbin/SSA-DoubleAttentionist/runs/1k6w8uqd\" target=\"_blank\">test</a></strong> to <a href=\"https://wandb.ai/sadra-barikbin/SSA-DoubleAttentionist\" target=\"_blank\">Weights & Biases</a> (<a href=\"https://wandb.me/run\" target=\"_blank\">docs</a>)<br/>"
            ],
            "text/plain": [
              "<IPython.core.display.HTML object>"
            ]
          },
          "metadata": {},
          "output_type": "display_data"
        },
        {
          "data": {
            "text/plain": [
              "<ignite.engine.events.RemovableEventHandle at 0x7faab8d61c10>"
            ]
          },
          "execution_count": 56,
          "metadata": {},
          "output_type": "execute_result"
        }
      ],
      "source": [
        "note = 'SemEval2022 Task 10 Subtask 1'\n",
        "wandb_logger = WandBLogger(entity='sadra-barikbin',\n",
        "                           project='SSA-Attentionist',\n",
        "                           name='test',\n",
        "                           tags=[],\n",
        "                           notes=note, resume=True)\n",
        "\n",
        "wandb_logger.attach_opt_params_handler(trainer, event_name=Events.EPOCH_COMPLETED, \n",
        "                                       optimizer=optimizer)\n",
        "\n",
        "wandb_logger.attach_output_handler(trainer, event_name=Events.EPOCH_COMPLETED,\n",
        "                                   tag=\"training\", metric_names=[\"Loss\"])\n",
        "\n",
        "metric_names = [\"Graph F1\", \"Sentiment F1\", \"Target F1\", \"Holder F1\"]\n",
        "\n",
        "wandb_logger.attach_output_handler(train_evaluator, event_name=Events.COMPLETED,\n",
        "                                   global_step_transform=global_step_from_engine(trainer),\n",
        "                                   tag=\"training\", metric_names=metric_names)\n",
        "\n",
        "wandb_logger.attach_output_handler(evaluator, event_name=Events.COMPLETED,\n",
        "                                   global_step_transform=global_step_from_engine(trainer),\n",
        "                                   tag=\"evaluation\", metric_names=[\"Loss\"] + metric_names)"
      ]
    },
    {
      "cell_type": "code",
      "execution_count": null,
      "metadata": {
        "id": "lma8BF_mduxh"
      },
      "outputs": [],
      "source": [
        "@trainer.on(Events.COMPLETED)\n",
        "def close_logger():\n",
        "  wandb_logger.close()"
      ]
    },
    {
      "cell_type": "code",
      "execution_count": null,
      "metadata": {
        "id": "UMAWGCmTqq61"
      },
      "outputs": [],
      "source": [
        "pbar = ProgressBar()\n",
        "pbar.attach(trainer,metric_names=['Running Loss'])"
      ]
    },
    {
      "cell_type": "markdown",
      "metadata": {
        "id": "yOCGhIPsxtnt"
      },
      "source": [
        "## LR Scheduling"
      ]
    },
    {
      "cell_type": "markdown",
      "metadata": {
        "id": "tLt88l8PNu-e"
      },
      "source": [
        "### StepLR"
      ]
    },
    {
      "cell_type": "code",
      "execution_count": null,
      "metadata": {
        "id": "8zYPs0AnR4yJ"
      },
      "outputs": [],
      "source": [
        "lr_scheduler = LRScheduler(StepLR(optimizer, 9, gamma=0.1), save_history=True)\n",
        "scheduler_handler = trainer.add_event_handler(\n",
        "    Events.EPOCH_COMPLETED, lr_scheduler)"
      ]
    },
    {
      "cell_type": "markdown",
      "metadata": {
        "id": "kW7fX5z7MCG6"
      },
      "source": [
        "### Warm-Up"
      ]
    },
    {
      "cell_type": "code",
      "execution_count": null,
      "metadata": {
        "id": "qnOzowJZMGfs"
      },
      "outputs": [],
      "source": [
        "base_scheduler = PiecewiseLinear(\n",
        "    optimizer, \"lr\",\n",
        "    milestones_values=[(1, 1e-6), (len(train_ds) // CONFIG[\"batch_size\"], 1e-4)],\n",
        "    param_group_index=0\n",
        ")\n",
        "\n",
        "novelty_scheduler = PiecewiseLinear(\n",
        "    optimizer, \"lr\",\n",
        "    milestones_values=[(1, 1e-5), (len(train_ds) // CONFIG[\"batch_size\"], 1e-3)],\n",
        "    param_group_index=1\n",
        ")\n",
        "\n",
        "event_filter = lambda _, event: event < (len(train_ds) // CONFIG[\"batch_size\"]) + 1\n",
        "scheduler1_handler = trainer.add_event_handler(Events.ITERATION_STARTED(event_filter),\n",
        "                                               base_scheduler)\n",
        "scheduler2_handler = trainer.add_event_handler(Events.ITERATION_STARTED(event_filter),\n",
        "                                               novelty_scheduler)"
      ]
    },
    {
      "cell_type": "code",
      "execution_count": null,
      "metadata": {
        "id": "5-8qOiJ0zKrp"
      },
      "outputs": [],
      "source": [
        "wandb_logger.config['LR_scheduler'] = 'Linear Warm-Up + StepLR(9,0.1)'"
      ]
    },
    {
      "cell_type": "markdown",
      "metadata": {
        "id": "czLYS-FYxktA"
      },
      "source": [
        "## Early Stopping"
      ]
    },
    {
      "cell_type": "code",
      "execution_count": null,
      "metadata": {
        "id": "njc-6s9isXAs"
      },
      "outputs": [],
      "source": [
        "stopper = EarlyStopping(patience=6, score_function=lambda engine: engine.state.metrics['Graph F1'],\n",
        "                        trainer=trainer)\n",
        "stopper_handle = evaluator.add_event_handler(Events.COMPLETED, stopper)"
      ]
    },
    {
      "cell_type": "markdown",
      "metadata": {
        "id": "kmH6SctP4whd"
      },
      "source": [
        "## Checkpointing"
      ]
    },
    {
      "cell_type": "code",
      "execution_count": null,
      "metadata": {
        "colab": {
          "base_uri": "https://localhost:8080/"
        },
        "id": "z85LOTI00P_e",
        "outputId": "c45b0a3b-73d6-4a7e-d273-6fba34da51de"
      },
      "outputs": [
        {
          "data": {
            "text/plain": [
              "<ignite.engine.events.RemovableEventHandle at 0x7f7a5b266190>"
            ]
          },
          "execution_count": 59,
          "metadata": {},
          "output_type": "execute_result"
        }
      ],
      "source": [
        "# /tmp/run\n",
        "checkpointer = ModelCheckpoint(wandb_logger.run.dir, 'Attentionist',\n",
        "                               score_name='Graph F1', n_saved=2, require_empty=False)\n",
        "# How can I do it every 2 evaluator epochs ?\n",
        "evaluator.add_event_handler(Events.EPOCH_COMPLETED, checkpointer, {'model': model})"
      ]
    },
    {
      "cell_type": "markdown",
      "metadata": {
        "id": "Vm9CL9tmf4vR"
      },
      "source": [
        "## Run"
      ]
    },
    {
      "cell_type": "code",
      "execution_count": null,
      "metadata": {
        "id": "dfAuMhYjqIAv"
      },
      "outputs": [],
      "source": [
        "@trainer.on(Events.EPOCH_COMPLETED)\n",
        "def evaluate():\n",
        "  evaluator.run(dev_dataloader)\n",
        "  train_evaluator.run(train_dataloader)"
      ]
    },
    {
      "cell_type": "code",
      "execution_count": null,
      "metadata": {
        "id": "G9ZcJA_NsGLE"
      },
      "outputs": [],
      "source": [
        "wandb_logger.config['random_seed'] = CONFIG[\"random_seed\"]\n",
        "trainer.run(train_dataloader,max_epochs=20)"
      ]
    },
    {
      "cell_type": "markdown",
      "metadata": {
        "id": "OVt0xvzkN03p"
      },
      "source": [
        "<a name=\"inference\"></a>\n",
        "# Inference"
      ]
    },
    {
      "cell_type": "markdown",
      "metadata": {
        "id": "z7kP83EJM9JV"
      },
      "source": [
        "## Load Best Model"
      ]
    },
    {
      "cell_type": "code",
      "execution_count": null,
      "metadata": {
        "id": "6Cjx49fLUxpE"
      },
      "outputs": [],
      "source": [
        "variant_name = \"%%VARIANT_NAME%%\"\n",
        "dataset_name = \"%%DATASET_NAME%%\"\n",
        "project_name = 'SSA-Attentionist'"
      ]
    },
    {
      "cell_type": "code",
      "execution_count": null,
      "metadata": {
        "id": "DutMhCk9yU0H"
      },
      "outputs": [],
      "source": [
        "api = wandb.Api()\n",
        "runs = api.runs(\n",
        "    f'sadra-barikbin/{project_name}',\n",
        "    order='summary_metrics.evaluation/Graph F1',\n",
        "    filters={'tags': DATASET_NAMES_MAP[dataset_name]}\n",
        "    # As per MongoDB query lang, this way, order of array's elements matters.\n",
        "    # If you want to ignore order:\n",
        "    # filters={'tags': {'$all': [DATASET_NAMES_MAP[dataset_name], variant_name]} }\n",
        ")\n",
        "model_path = list(list(runs)[0].files())[1].download()\n",
        "state_dict = torch.load(model_path.name)"
      ]
    },
    {
      "cell_type": "code",
      "execution_count": null,
      "metadata": {
        "colab": {
          "base_uri": "https://localhost:8080/"
        },
        "id": "tYxyAMuMLITI",
        "outputId": "4c56e6e0-dc6e-430a-a7b0-7ffd1963567c"
      },
      "outputs": [
        {
          "name": "stderr",
          "output_type": "stream",
          "text": [
            "Some weights of the model checkpoint at roberta-base were not used when initializing RobertaModel: ['lm_head.decoder.weight', 'roberta.pooler.dense.bias', 'lm_head.layer_norm.weight', 'roberta.pooler.dense.weight', 'lm_head.dense.weight', 'lm_head.layer_norm.bias', 'lm_head.dense.bias', 'lm_head.bias']\n",
            "- This IS expected if you are initializing RobertaModel from the checkpoint of a model trained on another task or with another architecture (e.g. initializing a BertForSequenceClassification model from a BertForPreTraining model).\n",
            "- This IS NOT expected if you are initializing RobertaModel from the checkpoint of a model that you expect to be exactly identical (initializing a BertForSequenceClassification model from a BertForSequenceClassification model).\n"
          ]
        },
        {
          "data": {
            "text/plain": [
              "<All keys matched successfully>"
            ]
          },
          "execution_count": 82,
          "metadata": {},
          "output_type": "execute_result"
        }
      ],
      "source": [
        "model = StructuredSentimentPredictor()\n",
        "model.load_state_dict(state_dict)"
      ]
    },
    {
      "cell_type": "code",
      "execution_count": null,
      "metadata": {
        "id": "TSmbLEozRG_u"
      },
      "outputs": [],
      "source": [
        "tokenizer = get_tokenizer(CONFIG[\"dataset\"])"
      ]
    },
    {
      "cell_type": "markdown",
      "metadata": {
        "id": "eLPLVSUeNEco"
      },
      "source": [
        "## Dataset, DataLoader and Engine"
      ]
    },
    {
      "cell_type": "code",
      "execution_count": null,
      "metadata": {
        "id": "rPgNZrgKQ4Co"
      },
      "outputs": [],
      "source": [
        "def test_collate_fn(batch: List[Dict[str, Any]], device: str='cuda') -> Dict[str, Any]:\n",
        "\n",
        "  texts = [item['text'] for item in batch]\n",
        "  ptm_input = tokenizer(texts, padding=True, return_tensors='pt')\n",
        "  ptm_input['input_ids'] = ptm_input['input_ids'].to(device)\n",
        "  ptm_input['attention_mask'] = ptm_input['attention_mask'].to(device)\n",
        "  if 'token_type_ids' in ptm_input:\n",
        "    ptm_input['token_type_ids'] = ptm_input['token_type_ids'].to(device)\n",
        "  padding_mask = tokenizer(texts, padding=True, return_tensors='pt',\n",
        "                           add_special_tokens=False)[\"attention_mask\"].to(device)\n",
        "\n",
        "  return {\"pred_template\": batch, \"ptm_input\": ptm_input, \"padding_mask\": padding_mask}\n"
      ]
    },
    {
      "cell_type": "code",
      "execution_count": null,
      "metadata": {
        "id": "wznqcKLyQY1M"
      },
      "outputs": [],
      "source": [
        "test_ds = SemEval2022Task10Dataset(CONFIG[\"dataset\"], 'test')\n",
        "test_dataloader = DataLoader(test_ds, batch_size=CONFIG[\"batch_size\"] * 2,\n",
        "                             collate_fn=test_collate_fn)"
      ]
    },
    {
      "cell_type": "code",
      "execution_count": null,
      "metadata": {
        "id": "nZaT5No6R2ca"
      },
      "outputs": [],
      "source": [
        "@torch.no_grad()\n",
        "def test_engine_process_function(engine: Engine, batch: Dict[str, Any]) -> List[Dict[str, Any]]:\n",
        "\n",
        "  model.eval()\n",
        "\n",
        "  base_output = model.base(batch[\"ptm_input\"])\n",
        "  base_output = model.novelty['base_pooler'](base_output)\n",
        "  node_extractor_out = model.novelty['node_extractor'](base_output)\n",
        "  output: List[SentimentGraph] = model.predict(\n",
        "      batch, StructuredSentimentPredictor.Output(node_extractor_out, None)\n",
        "  )\n",
        "\n",
        "  pred_template = batch['pred_template']\n",
        "\n",
        "  tokens_char_offsets_batch = tokenizer([item['text'] for item in pred_template],\n",
        "                                  add_special_tokens=False, return_offsets_mapping=True,\n",
        "                                  return_length=True)['offset_mapping']\n",
        "  \n",
        "  for sent_idx in range(len(output)):\n",
        "    sentim_nodes = output[sent_idx].nodes.sentiment_nodes\n",
        "    tgt_nodes = output[sent_idx].nodes.target_nodes\n",
        "    hld_nodes = output[sent_idx].nodes.holder_nodes\n",
        "\n",
        "    edges = output[sent_idx].edges\n",
        "\n",
        "    text = pred_template[sent_idx]['text']\n",
        "\n",
        "    pred_template[sent_idx]['opinions'] = []\n",
        "\n",
        "    for i in range(len(sentim_nodes)):\n",
        "      opinion = {}\n",
        "      \n",
        "      node_tokens_char_offsets = tokens_char_offsets_batch[\n",
        "                                                      sent_idx][sentim_nodes[i].span_in_sentence]\n",
        "      node_char_idx_begin = node_tokens_char_offsets[0][0]\n",
        "      node_char_idx_end = node_tokens_char_offsets[-1][1]\n",
        "\n",
        "      opinion['Polar_expression'] = [[text[node_char_idx_begin:node_char_idx_end]],\n",
        "                                     [f\"{node_char_idx_begin}:{node_char_idx_end}\"]]\n",
        "      \n",
        "      tgt_neighbors_exprs = []\n",
        "      tgt_neighbors_char_spans = []\n",
        "      if edges.sentiment_target_edges is not None:\n",
        "        for tgt_node_idx in edges.sentiment_target_edges[i].nonzero():\n",
        "          neighbor_tgt_node = tgt_nodes[tgt_node_idx]\n",
        "\n",
        "          node_tokens_char_offsets = tokens_char_offsets_batch[\n",
        "                                                      sent_idx][neighbor_tgt_node.span_in_sentence]\n",
        "\n",
        "          node_char_idx_begin = node_tokens_char_offsets[0][0]\n",
        "          node_char_idx_end = node_tokens_char_offsets[-1][1]\n",
        "\n",
        "          tgt_neighbors_exprs.append(text[node_char_idx_begin:node_char_idx_end])\n",
        "          tgt_neighbors_char_spans.append(f\"{node_char_idx_begin}:{node_char_idx_end}\")\n",
        "      opinion['Target'] = [tgt_neighbors_exprs, tgt_neighbors_char_spans]\n",
        "\n",
        "      hld_neighbors_exprs = []\n",
        "      hld_neighbors_char_spans = []\n",
        "      if edges.sentiment_holder_edges is not None:\n",
        "        for hld_node_idx in edges.sentiment_holder_edges[i].nonzero():\n",
        "          neighbor_hld_node = hld_nodes[hld_node_idx]\n",
        "\n",
        "          node_tokens_char_offsets = tokens_char_offsets_batch[\n",
        "                                                      sent_idx][neighbor_hld_node.span_in_sentence]\n",
        "\n",
        "          node_char_idx_begin = node_tokens_char_offsets[0][0]\n",
        "          node_char_idx_end = node_tokens_char_offsets[-1][1]\n",
        "\n",
        "          hld_neighbors_exprs.append(text[node_char_idx_begin:node_char_idx_end])\n",
        "          hld_neighbors_char_spans.append(f\"{node_char_idx_begin}:{node_char_idx_end}\")\n",
        "      opinion['Source'] = [hld_neighbors_exprs, hld_neighbors_char_spans]\n",
        "\n",
        "      opinion['Polarity'] = sentim_nodes[i].tag\n",
        "\n",
        "      pred_template[sent_idx]['opinions'].append(opinion)\n",
        "\n",
        "  return pred_template\n"
      ]
    },
    {
      "cell_type": "code",
      "execution_count": null,
      "metadata": {
        "id": "ieUBfgz9R7tC"
      },
      "outputs": [],
      "source": [
        "tester = Engine(test_engine_process_function)"
      ]
    },
    {
      "cell_type": "code",
      "execution_count": null,
      "metadata": {
        "id": "yC4eNOxcDMU5"
      },
      "outputs": [],
      "source": [
        "output_store = EpochOutputStore()\n",
        "output_store.attach(tester, 'outputs')"
      ]
    },
    {
      "cell_type": "code",
      "execution_count": null,
      "metadata": {
        "id": "xz3ZmCkmMgOy"
      },
      "outputs": [],
      "source": [
        "pbar = ProgressBar()\n",
        "pbar.attach(tester)"
      ]
    },
    {
      "cell_type": "code",
      "execution_count": null,
      "metadata": {
        "colab": {
          "base_uri": "https://localhost:8080/",
          "height": 225,
          "referenced_widgets": [
            "dde73bb0d5884cb595f92c6c809f4466",
            "238a5a4edfc34f13a506f64b93f1edb7",
            "8e9ed6d73c4f4486b4c25d2b8897aaaf",
            "33991f37b8654cd5a2fbafc62b4b3d07",
            "f4d7652aadde4acc9ec311361d078a0d",
            "b833e9d68c914d0986205d1fc1fd0c1c",
            "5edd756ad6ce431fbdecd71bf07f61cc",
            "274fca48544e4de6bb4a698adc1d86ba",
            "24f256d260e3470983c395e0afde1f19",
            "1403ed76fe5e4667bc3d1ee5b5c3be68",
            "35c562339d7c44858a971eca932b1a91"
          ]
        },
        "id": "etdbgLqBDmyZ",
        "outputId": "3fa557a6-be61-4f30-c4e9-a846ad08a391"
      },
      "outputs": [
        {
          "data": {
            "application/vnd.jupyter.widget-view+json": {
              "model_id": "dde73bb0d5884cb595f92c6c809f4466",
              "version_major": 2,
              "version_minor": 0
            },
            "text/plain": [
              "[1/39]   3%|2          [00:00<?]"
            ]
          },
          "metadata": {},
          "output_type": "display_data"
        },
        {
          "data": {
            "text/plain": [
              "State:\n",
              "\titeration: 39\n",
              "\tepoch: 1\n",
              "\tepoch_length: 39\n",
              "\tmax_epochs: 1\n",
              "\toutput: <class 'list'>\n",
              "\tbatch: <class 'dict'>\n",
              "\tmetrics: <class 'dict'>\n",
              "\tdataloader: <class 'torch.utils.data.dataloader.DataLoader'>\n",
              "\tseed: <class 'NoneType'>\n",
              "\ttimes: <class 'dict'>\n",
              "\toutputs: <class 'list'>"
            ]
          },
          "execution_count": 112,
          "metadata": {},
          "output_type": "execute_result"
        }
      ],
      "source": [
        "tester.run(test_dataloader)"
      ]
    },
    {
      "cell_type": "markdown",
      "metadata": {
        "id": "_XPbId-zNSUp"
      },
      "source": [
        "## Save Predictions"
      ]
    },
    {
      "cell_type": "code",
      "execution_count": null,
      "metadata": {
        "id": "1IFBFYwHNYX1"
      },
      "outputs": [],
      "source": [
        "path = f\"monolingual/{CONFIG['dataset']}\"\n",
        "os.makedirs(path)\n",
        "\n",
        "with open(f\"{path}/predictions.json\", 'w') as f:\n",
        "  json.dump(list(itertools.chain(*tester.state.outputs)), f)"
      ]
    },
    {
      "cell_type": "code",
      "execution_count": null,
      "metadata": {
        "colab": {
          "base_uri": "https://localhost:8080/"
        },
        "id": "RMgEhn29WMl2",
        "outputId": "66ad20ec-6c46-40ca-ccbf-62f7ac90b9ee"
      },
      "outputs": [
        {
          "name": "stdout",
          "output_type": "stream",
          "text": [
            "  adding: monolingual/ (stored 0%)\n",
            "  adding: monolingual/opener_es/ (stored 0%)\n",
            "  adding: monolingual/opener_es/predictions.json (deflated 83%)\n",
            "  adding: monolingual/norec/ (stored 0%)\n",
            "  adding: monolingual/norec/predictions.json (deflated 80%)\n",
            "  adding: monolingual/multibooked_eu/ (stored 0%)\n",
            "  adding: monolingual/multibooked_eu/predictions.json (deflated 84%)\n",
            "  adding: monolingual/multibooked_ca/ (stored 0%)\n",
            "  adding: monolingual/multibooked_ca/predictions.json (deflated 83%)\n"
          ]
        }
      ],
      "source": [
        "! zip -r monolingual.zip monolingual"
      ]
    },
    {
      "cell_type": "markdown",
      "metadata": {
        "id": "_WRS9j9cR1bA"
      },
      "source": [
        "## Out of Dataset Example"
      ]
    },
    {
      "cell_type": "code",
      "execution_count": null,
      "metadata": {
        "id": "32pPA2LERMS5"
      },
      "outputs": [],
      "source": [
        "@torch.no_grad()\n",
        "def predict(text: Union[List[str], str]) -> SentimentGraph:\n",
        "\n",
        "  if type(text) == str:\n",
        "    text = [text]\n",
        "  ptm_input = tokenizer(text, padding=True, return_tensors='pt')\n",
        "  ptm_input[\"input_ids\"] = ptm_input[\"input_ids\"].to(DEVICE)\n",
        "  ptm_input[\"attention_mask\"] = ptm_input[\"attention_mask\"].to(DEVICE)\n",
        "  padding_mask = tokenizer(text, padding=True, return_tensors='pt',\n",
        "                          add_special_tokens=False)[\"attention_mask\"].to(DEVICE)\n",
        "  inputs = {'ptm_input': ptm_input, 'padding_mask': padding_mask}\n",
        "  model.eval()\n",
        "  base_output = model.base(inputs[\"ptm_input\"])\n",
        "  node_extractor_out = model.novelty['node_extractor'](base_output)\n",
        "  return model.predict(inputs, StructuredSentimentPredictor.Output(node_extractor_out, None))[0]"
      ]
    },
    {
      "cell_type": "code",
      "execution_count": null,
      "metadata": {
        "id": "3bVeQHpGR6s3"
      },
      "outputs": [],
      "source": [
        "predict(\"I love this book!\")"
      ]
    },
    {
      "cell_type": "markdown",
      "source": [
        "# Analysis"
      ],
      "metadata": {
        "id": "2Ri3aoVAhNiS"
      }
    },
    {
      "cell_type": "markdown",
      "metadata": {
        "id": "AjQj9471uMhx"
      },
      "source": [
        "## Ablation Study"
      ]
    },
    {
      "cell_type": "markdown",
      "metadata": {
        "id": "3jhJxMc6PMIC"
      },
      "source": [
        "### Helper classes & functions"
      ]
    },
    {
      "cell_type": "code",
      "execution_count": null,
      "metadata": {
        "id": "fjBZsMtmuRbV"
      },
      "outputs": [],
      "source": [
        "class ModelFactory:\n",
        "\n",
        "  def __init__(self, model_class: Type[nn.Module], config: Dict[str, Any]):\n",
        "    self.model_class = model_class\n",
        "    self.config = config\n",
        "\n",
        "  def With(self, key: str, value: Any):\n",
        "    father, _, item = key.rpartition('.')\n",
        "    keychain = father.split('.')\n",
        "    if keychain[0] == '':\n",
        "      keychain = []\n",
        "    father = functools.reduce(lambda x, k: x[k], keychain, self.config)\n",
        "    father[item] = value\n",
        "    return self\n",
        "\n",
        "\n",
        "  def build(\n",
        "      self,\n",
        "      factory_function: Optional[Callable[[Type[nn.Module], Dict[str, Any]], nn.Module]] = None\n",
        "  ) -> nn.Module:\n",
        "\n",
        "    if factory_function is None:\n",
        "      return self.model_class(**self.config)\n",
        "    else:\n",
        "      return factory_function(self.model_class, self.config)\n"
      ]
    },
    {
      "cell_type": "code",
      "execution_count": null,
      "metadata": {
        "id": "Xzr9gLIVNQXD"
      },
      "outputs": [],
      "source": [
        "def factory_function(cls, config):\n",
        "  return cls(copy.deepcopy(config))"
      ]
    },
    {
      "cell_type": "code",
      "execution_count": null,
      "metadata": {
        "id": "IQrmKI_tCNbE"
      },
      "outputs": [],
      "source": [
        "def attach_handlers(trainer: Engine, evaluator: Engine):\n",
        "  trainer.add_event_handler(Events.ITERATION_COMPLETED,\n",
        "                            TerminateOnNan(output_transform=itemgetter('loss')))\n",
        "  pbar = ProgressBar()\n",
        "  pbar.attach(trainer,metric_names=['Running Loss'])\n",
        "\n",
        "  stopper = EarlyStopping(patience=6, score_function=lambda engine: engine.state.metrics['Graph F1'],\n",
        "                          trainer=trainer)\n",
        "  evaluator.add_event_handler(Events.COMPLETED, stopper)"
      ]
    },
    {
      "cell_type": "code",
      "execution_count": null,
      "metadata": {
        "id": "0FLQGo5wRSi0"
      },
      "outputs": [],
      "source": [
        "def create_engines(model, optimizer, config) -> Tuple[Engine, Engine, Engine]:\n",
        "  trainer = create_supervised_trainer(\n",
        "      model, optimizer, functools.partial(loss_fn, config=config), deterministic=True,\n",
        "      device=DEVICE, prepare_batch=prepare_batch, output_transform=train_output_transform)\n",
        "\n",
        "  evaluator = create_supervised_evaluator(\n",
        "      model, prepare_batch=prepare_batch,\n",
        "      device=DEVICE, output_transform=functools.partial(evaluate_output_transform, model=model))\n",
        "\n",
        "  train_evaluator = create_supervised_evaluator(\n",
        "      model, prepare_batch=prepare_batch,\n",
        "      device=DEVICE, output_transform=functools.partial(evaluate_output_transform, model=model))\n",
        "\n",
        "  return trainer, evaluator, train_evaluator"
      ]
    },
    {
      "cell_type": "code",
      "execution_count": null,
      "metadata": {
        "id": "XYKny9kNSIjr"
      },
      "outputs": [],
      "source": [
        "def create_and_attach_common_metrics(trainer, evaluator, train_evaluator, config):\n",
        "  train_loss = Average(output_transform=loss_output_transform)\n",
        "  eval_loss = Average(output_transform=functools.partial(loss_metric, config=config))\n",
        "  running_loss = RunningAverage(output_transform=loss_output_transform)\n",
        "\n",
        "  graph_f1 = F1(GraphMatchLogic(), output_transform=acc_output_transform)\n",
        "  sentiment_f1 = F1(SentimentMatchLogic(), output_transform=acc_output_transform)\n",
        "  nsentiment_f1 = F1(SentimentMatchLogic(keep_polarity=False), output_transform=acc_output_transform)\n",
        "  target_f1 = F1(TargetMatchLogic(), output_transform=acc_output_transform)\n",
        "  holder_f1 = F1(HolderMatchLogic(), output_transform=acc_output_transform)\n",
        "\n",
        "  graph_f1.attach(train_evaluator, 'Graph F1')\n",
        "  sentiment_f1.attach(train_evaluator, 'Sentiment F1')\n",
        "  nsentiment_f1.attach(train_evaluator, 'NSentiment F1')\n",
        "  target_f1.attach(train_evaluator, 'Target F1')\n",
        "  holder_f1.attach(train_evaluator, 'Holder F1')\n",
        "\n",
        "  graph_f1.attach(evaluator, 'Graph F1')\n",
        "  sentiment_f1.attach(evaluator, 'Sentiment F1')\n",
        "  nsentiment_f1.attach(evaluator, 'NSentiment F1')\n",
        "  target_f1.attach(evaluator, 'Target F1')\n",
        "  holder_f1.attach(evaluator, 'Holder F1')\n",
        "\n",
        "  train_loss.attach(trainer, 'Loss')\n",
        "  eval_loss.attach(evaluator, 'Loss')\n",
        "  running_loss.attach(trainer, 'Running Loss')"
      ]
    },
    {
      "cell_type": "code",
      "execution_count": null,
      "metadata": {
        "id": "RIysxv2CceVh"
      },
      "outputs": [],
      "source": [
        "def attach_wandb_logger(trainer, evaluator, train_evaluator,\n",
        "                        optimizer, name: str, config: Dict[str, Any]) -> WandBLogger:\n",
        "\n",
        "  note = 'SemEval2022 Task 10 Subtask 1'\n",
        "  wandb_logger = WandBLogger(entity='sadra-barikbin', project='SSA-Attentionist-Ablation-Study',\n",
        "                             config=config, group=f\"{DATASET_NAMES_MAP[config['dataset']]}:{name}\",\n",
        "                             notes=note, resume=True,\n",
        "                            tags=[DATASET_NAMES_MAP[config[\"dataset\"]], name])\n",
        "\n",
        "  wandb_logger.attach_opt_params_handler(trainer, event_name=Events.EPOCH_COMPLETED, \n",
        "                                         optimizer=optimizer)\n",
        "\n",
        "  wandb_logger.attach_output_handler(trainer, event_name=Events.EPOCH_COMPLETED,\n",
        "                                    tag=\"training\", metric_names=[\"Loss\"])\n",
        "\n",
        "  metric_names = [\"Graph F1\", \"Sentiment F1\", \"NSentiment F1\", \"Target F1\", \"Holder F1\"]\n",
        "\n",
        "  wandb_logger.attach_output_handler(train_evaluator, event_name=Events.COMPLETED,\n",
        "                                    global_step_transform=global_step_from_engine(trainer),\n",
        "                                    tag=\"training\", metric_names=metric_names)\n",
        "\n",
        "  wandb_logger.attach_output_handler(evaluator, event_name=Events.COMPLETED,\n",
        "                                    global_step_transform=global_step_from_engine(trainer),\n",
        "                                    tag=\"evaluation\", metric_names=[\"Loss\"] + metric_names)\n",
        "  @trainer.on(Events.COMPLETED)\n",
        "  def close_logger():\n",
        "    wandb_logger.close()\n",
        "\n",
        "  return wandb_logger"
      ]
    },
    {
      "cell_type": "markdown",
      "metadata": {
        "id": "sHF8ivZNPTY5"
      },
      "source": [
        "### Variants"
      ]
    },
    {
      "cell_type": "code",
      "execution_count": null,
      "metadata": {
        "id": "2_W4l1K_HmZ3"
      },
      "outputs": [],
      "source": [
        "variants = [\n",
        "            (ModelFactory(StructuredSentimentPredictor, copy.deepcopy(CONFIG)).With(\n",
        "                \"edge_predictor.USE_BIAS\", True).With(\n",
        "                    \"base_pooler.TARGET_AND_HOLDER_SEPARATE_HEAD\", True).With(\n",
        "                        \"base_pooler.AVERAGE_HEADS\", True).With(\n",
        "                            \"sequence_labeler.WEIGHTED_LOSS\", True\n",
        "                        ),\n",
        "             \"+Bias+SepH+AvgH+wSeq\"\n",
        "             ),\n",
        "            (ModelFactory(StructuredSentimentPredictor, copy.deepcopy(CONFIG)).With(\n",
        "                \"edge_predictor.USE_BIAS\", True).With(\n",
        "                    \"base_pooler.TARGET_AND_HOLDER_SEPARATE_HEAD\", True).With(\n",
        "                        \"base_pooler.AVERAGE_HEADS\", True),\n",
        "             \"+Bias+SepH+AvgH\"\n",
        "             ),\n",
        "            (ModelFactory(StructuredSentimentPredictor, copy.deepcopy(CONFIG)).With(\n",
        "                \"edge_predictor.USE_BIAS\", True).With(\n",
        "                    \"base_pooler.AVERAGE_HEADS\", True),\n",
        "             \"+Bias+AvgH\"\n",
        "             ),\n",
        "            (ModelFactory(StructuredSentimentPredictor, copy.deepcopy(CONFIG)).With(\n",
        "                \"edge_predictor.USE_BIAS\", True).With(\n",
        "                    \"base_pooler.TARGET_AND_HOLDER_SEPARATE_HEAD\", True),\n",
        "             \"+Bias+SepH\"\n",
        "             ),\n",
        "            (ModelFactory(StructuredSentimentPredictor, copy.deepcopy(CONFIG)).With(\n",
        "                \"base_pooler.AVERAGE_HEADS\", True),\n",
        "             \"+AvgH\"\n",
        "             ),\n",
        "            (ModelFactory(StructuredSentimentPredictor, copy.deepcopy(CONFIG)).With(\n",
        "                \"base_pooler.TARGET_AND_HOLDER_SEPARATE_HEAD\", True),\n",
        "             \"+SepH\"\n",
        "             ),\n",
        "            (ModelFactory(StructuredSentimentPredictor, copy.deepcopy(CONFIG)).With(\n",
        "                \"edge_predictor.USE_BIAS\", True),\n",
        "             \"+Bias\"\n",
        "             ),\n",
        "            (ModelFactory(StructuredSentimentPredictor, copy.deepcopy(CONFIG)),\n",
        "             \"base\"\n",
        "            ),     \n",
        "]"
      ]
    },
    {
      "cell_type": "markdown",
      "metadata": {
        "id": "OMPjFl8NPxrn"
      },
      "source": [
        "### Run"
      ]
    },
    {
      "cell_type": "code",
      "execution_count": null,
      "metadata": {
        "id": "Ule1T2-6UsC8"
      },
      "outputs": [],
      "source": [
        "for random_seed in [41, 666, 1567, 4447, 37773]:\n",
        "\n",
        "  if random_seed == 41 or random_seed == 666 or random_seed == 1567 or random_seed == 4447:\n",
        "    continue\n",
        "\n",
        "  torch.manual_seed(random_seed)\n",
        "\n",
        "  for dataset_name in ['opener_en', 'mpqa', 'darmstadt_unis',\n",
        "                       'opener_es', 'norec', 'multibooked_ca', 'multibooked_eu']:\n",
        "    \n",
        "    if (dataset_name == 'opener_en' or \\\n",
        "        dataset_name == 'mpqa' or \\\n",
        "        # dataset_name == 'darmstadt_unis' or \\\n",
        "        dataset_name == 'opener_es' or \\\n",
        "        dataset_name == 'norec' or \\\n",
        "        dataset_name == 'multibooked_ca'):\n",
        "      continue\n",
        "\n",
        "    for variant_idx, (m_factory, variant_name) in enumerate(variants):\n",
        "      \n",
        "      m_factory.With(\"dataset\", dataset_name)\n",
        "      if dataset_name in ['opener_es', 'multibooked_ca', 'multibooked_eu']:\n",
        "        m_factory.With(\"batch_size\", 16)\n",
        "      else:\n",
        "        m_factory.With(\"batch_size\", 32)\n",
        "\n",
        "      m_factory.With(\"random_seed\", random_seed)\n",
        "\n",
        "      config = m_factory.config\n",
        "\n",
        "      with warnings.catch_warnings():\n",
        "        warnings.simplefilter(\"ignore\")\n",
        "        train_ds = SemEval2022Task10Dataset('train', config)\n",
        "        dev_ds = SemEval2022Task10Dataset('dev', config)\n",
        "\n",
        "      train_dataloader = DataLoader(\n",
        "          train_ds,\n",
        "          collate_fn=functools.partial(collate_fn, tokenizer=get_tokenizer(config[\"dataset\"])),\n",
        "          batch_size=config[\"batch_size\"])\n",
        "\n",
        "      dev_dataloader = DataLoader(\n",
        "          dev_ds,\n",
        "          collate_fn=functools.partial(collate_fn, tokenizer=get_tokenizer(config[\"dataset\"])),\n",
        "          batch_size= config[\"batch_size\"] * 2)\n",
        "\n",
        "      # torch.cuda.empty_cache()\n",
        "      print(\n",
        "          f\"Variant: {variant_name}, Dataset: {dataset_name}, Random seed: {random_seed}\"\n",
        "          f\", Batch size: {config['batch_size']}\"\n",
        "      )\n",
        "      model = m_factory.build(factory_function).to(DEVICE)\n",
        "\n",
        "      optimizer_parameter_groups = [\n",
        "        {'params': list(model.base.parameters())},\n",
        "        {'params': list(model.novelty.parameters())}\n",
        "      ]\n",
        "      optimizer = torch.optim.AdamW(optimizer_parameter_groups)\n",
        "\n",
        "      trainer, evaluator, train_evaluator = create_engines(model, optimizer, config)\n",
        "\n",
        "      create_and_attach_common_metrics(trainer, evaluator, train_evaluator, config)\n",
        "\n",
        "      attach_handlers(trainer, evaluator)\n",
        "\n",
        "      wandb_handler = attach_wandb_logger(trainer, evaluator, train_evaluator, optimizer,\n",
        "                                          variant_name, config)\n",
        "    \n",
        "\n",
        "      lr_scheduler = LRScheduler(StepLR(optimizer, 9, gamma=0.1), save_history=True)\n",
        "      scheduler_handler = trainer.add_event_handler(\n",
        "          Events.EPOCH_COMPLETED, lr_scheduler\n",
        "      )\n",
        "\n",
        "      base_warmup_scheduler = PiecewiseLinear(\n",
        "          optimizer, \"lr\",\n",
        "          milestones_values=[(1, 1e-6), (len(train_ds) // config[\"batch_size\"], 1e-4)],\n",
        "          param_group_index=0\n",
        "      )\n",
        "\n",
        "      novelty_warmup_scheduler = PiecewiseLinear(\n",
        "          optimizer, \"lr\",\n",
        "          milestones_values=[(1, 1e-5), (len(train_ds) // config[\"batch_size\"], 1e-3)],\n",
        "          param_group_index=1\n",
        "      )\n",
        "\n",
        "      event_filter = lambda _, event: event < (len(train_ds) // config[\"batch_size\"]) + 1\n",
        "      trainer.add_event_handler(\n",
        "          Events.ITERATION_STARTED(event_filter),\n",
        "          base_warmup_scheduler\n",
        "      )\n",
        "      trainer.add_event_handler(\n",
        "          Events.ITERATION_STARTED(event_filter),\n",
        "          novelty_warmup_scheduler\n",
        "      )\n",
        "\n",
        "      @trainer.on(Events.EPOCH_COMPLETED)\n",
        "      def evaluate():\n",
        "        evaluator.run(dev_dataloader)\n",
        "        train_evaluator.run(train_dataloader)\n",
        "\n",
        "      trainer.run(train_dataloader,max_epochs=20)\n",
        "\n",
        "      # I encountered a lot of trouble without line bottom. Without that, CUDA_OUT_OF_MEMORY\n",
        "      # was raised. In previous version, I did'nt face that because I had checkpointing that\n",
        "      # implicitly did this job.\n",
        "      model.cpu()"
      ]
    },
    {
      "cell_type": "code",
      "execution_count": null,
      "metadata": {
        "colab": {
          "base_uri": "https://localhost:8080/",
          "height": 483,
          "referenced_widgets": [
            "b839d7953bbe4110b02e2dd70755bf85",
            "fc96a95888ec44278c39c0164ecbc8ef",
            "cf77037f0da1420b843da81909d630e7",
            "63709b64a5474020a00d15c100dfa46b",
            "84ae0dd7c13648d7af26bec236433c9d",
            "04ac6b8cbf8e4a8dbf4ca382a2384b49",
            "9c50ff6154054403bf875cc659b1a1f4",
            "90c28aed30444b02984b80445aec1821"
          ]
        },
        "id": "3uaaTwg_Xmzx",
        "outputId": "48e9792e-79ab-44c9-b308-1a7464ec7ca1"
      },
      "outputs": [
        {
          "data": {
            "text/html": [
              "Waiting for W&B process to finish... <strong style=\"color:green\">(success).</strong>"
            ],
            "text/plain": [
              "<IPython.core.display.HTML object>"
            ]
          },
          "metadata": {},
          "output_type": "display_data"
        },
        {
          "data": {
            "application/vnd.jupyter.widget-view+json": {
              "model_id": "b839d7953bbe4110b02e2dd70755bf85",
              "version_major": 2,
              "version_minor": 0
            },
            "text/plain": [
              "VBox(children=(Label(value='0.001 MB of 0.001 MB uploaded (0.000 MB deduped)\\r'), FloatProgress(value=1.0, max…"
            ]
          },
          "metadata": {},
          "output_type": "display_data"
        },
        {
          "data": {
            "text/html": [
              "<style>\n",
              "    table.wandb td:nth-child(1) { padding: 0 10px; text-align: right }\n",
              "    .wandb-row { display: flex; flex-direction: row; flex-wrap: wrap; width: 100% }\n",
              "    .wandb-col { display: flex; flex-direction: column; flex-basis: 100%; flex: 1; padding: 10px; }\n",
              "    </style>\n",
              "<div class=\"wandb-row\"><div class=\"wandb-col\"><h3>Run history:</h3><br/><table class=\"wandb\"><tr><td>evaluation/Graph F1</td><td>▂▁▂▁▃▇▇▆█████</td></tr><tr><td>evaluation/Holder F1</td><td>▅▁▄▆▅▇▇▇█████</td></tr><tr><td>evaluation/Loss</td><td>▄▁▁▅▄▅▅▇▇▇▇▇█</td></tr><tr><td>evaluation/NSentiment F1</td><td>▁▄▄▄▆▇▇▆█████</td></tr><tr><td>evaluation/Sentiment F1</td><td>▁▄▃▁▃▇▇▆█▇▇██</td></tr><tr><td>evaluation/Target F1</td><td>▂▁▃▅▅▆▆▅▇▇▇██</td></tr><tr><td>lr/group_0</td><td>█████████▁▁▁▁</td></tr><tr><td>lr/group_1</td><td>█████████▁▁▁▁</td></tr><tr><td>training/Graph F1</td><td>▁▁▂▂▄▆▆▇█████</td></tr><tr><td>training/Holder F1</td><td>▄▁▃▅▆▇▇██████</td></tr><tr><td>training/Loss</td><td>█▆▄▄▃▃▂▂▁▁▁▁▁</td></tr><tr><td>training/NSentiment F1</td><td>▁▄▄▄▆▇▇▇█████</td></tr><tr><td>training/Sentiment F1</td><td>▁▄▃▃▅▇▇▇█████</td></tr><tr><td>training/Target F1</td><td>▁▂▂▅▅▅▆▇█████</td></tr></table><br/></div><div class=\"wandb-col\"><h3>Run summary:</h3><br/><table class=\"wandb\"><tr><td>evaluation/Graph F1</td><td>0.63964</td></tr><tr><td>evaluation/Holder F1</td><td>0.93756</td></tr><tr><td>evaluation/Loss</td><td>11.38285</td></tr><tr><td>evaluation/NSentiment F1</td><td>0.8361</td></tr><tr><td>evaluation/Sentiment F1</td><td>0.81649</td></tr><tr><td>evaluation/Target F1</td><td>0.7679</td></tr><tr><td>lr/group_0</td><td>1e-05</td></tr><tr><td>lr/group_1</td><td>0.0001</td></tr><tr><td>training/Graph F1</td><td>0.87952</td></tr><tr><td>training/Holder F1</td><td>0.96531</td></tr><tr><td>training/Loss</td><td>0.4025</td></tr><tr><td>training/NSentiment F1</td><td>0.9339</td></tr><tr><td>training/Sentiment F1</td><td>0.93143</td></tr><tr><td>training/Target F1</td><td>0.95326</td></tr></table><br/></div></div>"
            ],
            "text/plain": [
              "<IPython.core.display.HTML object>"
            ]
          },
          "metadata": {},
          "output_type": "display_data"
        },
        {
          "data": {
            "text/html": [
              "Synced <strong style=\"color:#cdcd00\">copper-leaf-279</strong>: <a href=\"https://wandb.ai/sadra-barikbin/SSA-Attentionist-Ablation-Study/runs/k0tfzqrs\" target=\"_blank\">https://wandb.ai/sadra-barikbin/SSA-Attentionist-Ablation-Study/runs/k0tfzqrs</a><br/>Synced 5 W&B file(s), 0 media file(s), 0 artifact file(s) and 0 other file(s)"
            ],
            "text/plain": [
              "<IPython.core.display.HTML object>"
            ]
          },
          "metadata": {},
          "output_type": "display_data"
        },
        {
          "data": {
            "text/html": [
              "Find logs at: <code>./wandb/run-20220429_141633-k0tfzqrs/logs</code>"
            ],
            "text/plain": [
              "<IPython.core.display.HTML object>"
            ]
          },
          "metadata": {},
          "output_type": "display_data"
        }
      ],
      "source": [
        "wandb_handler.close()"
      ]
    },
    {
      "cell_type": "markdown",
      "source": [
        "### Compare"
      ],
      "metadata": {
        "id": "Rq_TrErypHra"
      }
    },
    {
      "cell_type": "code",
      "source": [
        "api = wandb.Api()\n",
        "runs = api.runs(\n",
        "    f'sadra-barikbin/SSA-Attentionist-Ablation-Study',\n",
        "    order='summary_metrics.evaluation/Graph F1'\n",
        ")"
      ],
      "metadata": {
        "id": "P3aUO7LHpHXU"
      },
      "execution_count": null,
      "outputs": []
    },
    {
      "cell_type": "code",
      "source": [
        "settings = [\"base\", \"+AvgH\", \"+SepH\", \"+Bias\", \"+Bias+AvgH\", \"+Bias+SepH\", \"+Bias+SepH+AvgH\"]"
      ],
      "metadata": {
        "id": "0CzeSECXrz4N"
      },
      "execution_count": null,
      "outputs": []
    },
    {
      "cell_type": "code",
      "source": [
        "for ds in DATASET_NAMES_MAP:\n",
        "  for setting in settings:\n",
        "    print([r.history(keys=[\"evaluation/Graph F1\"]).max()[\"evaluation/Graph F1\"] for r in runs if DATASET_NAMES_MAP[ds] in r.tags and setting in r.tags])"
      ],
      "metadata": {
        "id": "iBqijKSivEF7"
      },
      "execution_count": null,
      "outputs": []
    },
    {
      "cell_type": "code",
      "source": [
        "results = []\n",
        "base_result = None\n",
        "for setting in settings:\n",
        "  \n",
        "  f1_s = [\n",
        "    np.mean([\n",
        "     run.history(\n",
        "      keys=[\"evaluation/Graph F1\"]\n",
        "     ).max()[\"evaluation/Graph F1\"] for run in runs if DATASET_NAMES_MAP[ds] in run.tags and \\\n",
        "                                                       setting in run.tags\n",
        "    ]\n",
        "  ) for ds in DATASET_NAMES_MAP ]\n",
        "  f1_s.append(np.mean(f1_s))\n",
        "  \n",
        "  if setting == 'base':\n",
        "    base_result = np.array(f1_s)\n",
        "  else:\n",
        "    f1_s = (np.array(f1_s) - base_result).tolist()\n",
        "\n",
        "  results.append([setting] + f1_s)"
      ],
      "metadata": {
        "id": "Q5untxdItIBH"
      },
      "execution_count": null,
      "outputs": []
    },
    {
      "cell_type": "code",
      "source": [
        "print(tabulate(results, headers=list(DATASET_NAMES_MAP.values())+[\"Average\"]))"
      ],
      "metadata": {
        "colab": {
          "base_uri": "https://localhost:8080/"
        },
        "id": "CMK5tTONqwok",
        "outputId": "5d44d66b-ffda-4a3c-e418-c2281a18cd73"
      },
      "execution_count": null,
      "outputs": [
        {
          "output_type": "stream",
          "name": "stdout",
          "text": [
            "                    Opener_En     Opener_Es        Norec    Darmstadt_unis    Multibooked_eu    Multibooked_ca        MPQA      Average\n",
            "---------------  ------------  ------------  -----------  ----------------  ----------------  ----------------  ----------  -----------\n",
            "base              0.670929      0.627744      0.45091            0.432957         0.667957          0.609643     0.387436    0.549654\n",
            "+AvgH            -0.0583241     0.0186089    -0.0549741         -0.117793         0.00157354        0.0423888   -0.331165   -0.0713835\n",
            "+SepH            -0.00351852   -0.00114257    0.00168822         0.0280018       -0.00140467       -0.0201359   -0.0920118  -0.0126462\n",
            "+Bias            -0.0341817     0.0172585    -0.0135171          0.0142917        0.00257007        0.028886    -0.0122436   0.00043769\n",
            "+Bias+AvgH       -0.0640342     0.000325614  -0.0615373         -0.128843         0.0213508         0.0386022   -0.320668   -0.0735435\n",
            "+Bias+SepH        0.000599423   0.0376719    -0.0655302         -0.0145009       -0.00058482        0.00786397  -0.0960499  -0.0186472\n",
            "+Bias+SepH+AvgH  -0.0282056     0.0165437    -0.0428176         -0.0554709       -0.0165432         0.0263116   -0.251764   -0.050278\n"
          ]
        }
      ]
    },
    {
      "cell_type": "code",
      "source": [
        "settings = [\"+Bias\", \"+Bias+AvgH\", \"+Bias+SepH\", \"+Bias+SepH+AvgH\"]"
      ],
      "metadata": {
        "id": "IzG0qWye_52z"
      },
      "execution_count": null,
      "outputs": []
    },
    {
      "cell_type": "code",
      "source": [
        "results = []\n",
        "base_result = None\n",
        "for setting in settings:\n",
        "  \n",
        "  f1_s = [\n",
        "    np.mean([\n",
        "     run.history(\n",
        "      keys=[\"evaluation/Graph F1\"]\n",
        "     ).max()[\"evaluation/Graph F1\"] for run in runs if DATASET_NAMES_MAP[ds] in run.tags and \\\n",
        "                                                       setting in run.tags\n",
        "    ]\n",
        "  ) for ds in DATASET_NAMES_MAP ]\n",
        "  f1_s.append(np.mean(f1_s))\n",
        "  \n",
        "  if setting == '+Bias':\n",
        "    base_result = np.array(f1_s)\n",
        "  else:\n",
        "    f1_s = (np.array(f1_s) - base_result).tolist()\n",
        "\n",
        "  if setting == '+Bias':\n",
        "    s = 'base'\n",
        "  else:\n",
        "    s = setting[5:]\n",
        "  results.append([s] + f1_s)"
      ],
      "metadata": {
        "id": "2BanjDXWCTJY"
      },
      "execution_count": null,
      "outputs": []
    },
    {
      "cell_type": "code",
      "source": [
        "print(tabulate(results, headers=list(DATASET_NAMES_MAP.values())+[\"Average\"],tablefmt='latex',floatfmt=\".2f\"))"
      ],
      "metadata": {
        "colab": {
          "base_uri": "https://localhost:8080/"
        },
        "outputId": "8467a1bb-c324-4e80-e803-e3b2944ad07e",
        "id": "VbryEHL6CTJZ"
      },
      "execution_count": null,
      "outputs": [
        {
          "output_type": "stream",
          "name": "stdout",
          "text": [
            "\\begin{tabular}{lrrrrrrrr}\n",
            "\\hline\n",
            "            &   Opener\\_En &   Opener\\_Es &   Norec &   Darmstadt\\_unis &   Multibooked\\_eu &   Multibooked\\_ca &   MPQA &   Average \\\\\n",
            "\\hline\n",
            " base       &        0.64 &        0.65 &    0.44 &             0.45 &             0.67 &             0.64 &   0.38 &      0.55 \\\\\n",
            " +AvgH      &       -0.03 &       -0.02 &   -0.05 &            -0.14 &             0.02 &             0.01 &  -0.31 &     -0.07 \\\\\n",
            " +SepH      &        0.03 &        0.02 &   -0.05 &            -0.03 &            -0.00 &            -0.02 &  -0.08 &     -0.02 \\\\\n",
            " +SepH+AvgH &        0.01 &       -0.00 &   -0.03 &            -0.07 &            -0.02 &            -0.00 &  -0.24 &     -0.05 \\\\\n",
            "\\hline\n",
            "\\end{tabular}\n"
          ]
        }
      ]
    },
    {
      "cell_type": "markdown",
      "source": [
        "## Other analyses (given by organizers)"
      ],
      "metadata": {
        "id": "MZXTpn-mhaoP"
      }
    },
    {
      "cell_type": "code",
      "source": [
        "!git clone https://github.com/sadra-barikbin/semeval22_structured_sentiment.git"
      ],
      "metadata": {
        "colab": {
          "base_uri": "https://localhost:8080/"
        },
        "id": "zMHkCt-_iM_S",
        "outputId": "d863fd01-8cdd-45c3-d6af-93c246695983"
      },
      "execution_count": null,
      "outputs": [
        {
          "output_type": "stream",
          "name": "stdout",
          "text": [
            "Cloning into 'semeval22_structured_sentiment'...\n",
            "remote: Enumerating objects: 1045, done.\u001b[K\n",
            "remote: Counting objects: 100% (151/151), done.\u001b[K\n",
            "remote: Compressing objects: 100% (86/86), done.\u001b[K\n",
            "remote: Total 1045 (delta 79), reused 112 (delta 56), pack-reused 894\u001b[K\n",
            "Receiving objects: 100% (1045/1045), 16.44 MiB | 20.50 MiB/s, done.\n",
            "Resolving deltas: 100% (508/508), done.\n"
          ]
        }
      ]
    },
    {
      "cell_type": "code",
      "source": [
        "! cd semeval22_structured_sentiment/data/mpqa && bash process_mpqa.sh\n",
        "! cd semeval22_structured_sentiment/data/darmstadt_unis && bash process_darmstadt.sh"
      ],
      "metadata": {
        "id": "bb6pZXlDlI7t"
      },
      "execution_count": null,
      "outputs": []
    },
    {
      "cell_type": "code",
      "source": [
        "! cd semeval22_structured_sentiment && git pull"
      ],
      "metadata": {
        "colab": {
          "base_uri": "https://localhost:8080/"
        },
        "id": "n8NPdppkpFuS",
        "outputId": "2fed1e1b-cf15-4389-d524-23102a4c775f"
      },
      "execution_count": null,
      "outputs": [
        {
          "output_type": "stream",
          "name": "stdout",
          "text": [
            "Already up to date.\n"
          ]
        }
      ]
    },
    {
      "cell_type": "code",
      "source": [
        "! cd semeval22_structured_sentiment/analysis && bash analysis_script.sh ../submissions/sadra-barikbin/monolingual/norec/predictions.json ../data ../submissions"
      ],
      "metadata": {
        "colab": {
          "base_uri": "https://localhost:8080/"
        },
        "id": "iGD-rU_WmCeG",
        "outputId": "d6f53099-fd58-48c1-ef6d-d80566c1c66a"
      },
      "execution_count": null,
      "outputs": [
        {
          "output_type": "stream",
          "name": "stdout",
          "text": [
            "  % Total    % Received % Xferd  Average Speed   Time    Time     Time  Current\n",
            "                                 Dload  Upload   Total   Spent    Left  Speed\n",
            "\r  0     0    0     0    0     0      0      0 --:--:-- --:--:-- --:--:--     0\r  0     0    0     0    0     0      0      0 --:--:-- --:--:-- --:--:--     0\r100  5877  100  5877    0     0  49805      0 --:--:-- --:--:-- --:--:-- 49805\n",
            "  % Total    % Received % Xferd  Average Speed   Time    Time     Time  Current\n",
            "                                 Dload  Upload   Total   Spent    Left  Speed\n",
            "100  4443  100  4443    0     0  33659      0 --:--:-- --:--:-- --:--:-- 33659\n",
            "Domain Analysis on Norec:\n",
            "stage:     \t44\n",
            "restaurants:     \t50\n",
            "games:     \t76\n",
            "literature:     \t165\n",
            "products:     \t224\n",
            "screen:     \t346\n",
            "music:     \t367\n",
            "\n",
            "\n",
            "stage: 0.396\n",
            "restaurants: 0.407\n",
            "games: 0.396\n",
            "literature: 0.314\n",
            "products: 0.312\n",
            "screen: 0.390\n",
            "music: 0.314\n",
            "Negation Analysis on Norec:\n",
            "\n",
            "\n",
            "Polar expression count:\n",
            "########################################\n",
            "In neg scope: 119\n",
            "Not in neg scope: 1109\n",
            "\n",
            "\n",
            "Polarity Error rate:\n",
            "########################################\n",
            "In neg scope: 21.0\n",
            "Not in neg scope: 12.0\n",
            "\n",
            "Recall:\n",
            "########################################\n",
            "In neg scope: 0.790\n",
            "Not in neg scope: 0.843\n",
            "Overlap Analysis:\n",
            "Team: sadra-barikbin\n",
            "Scattering darmstadt_unis\n",
            "Boxing darmstadt_unis\n",
            "Scattering mpqa\n",
            "Boxing mpqa\n",
            "Scattering multibooked_ca\n",
            "Boxing multibooked_ca\n",
            "Scattering multibooked_eu\n",
            "Boxing multibooked_eu\n",
            "Scattering norec\n",
            "Boxing norec\n",
            "Scattering opener_en\n",
            "Boxing opener_en\n",
            "Scattering opener_es\n",
            "Boxing opener_es\n",
            "Boxing monolingual\n",
            "Qualitative Analysis:\n",
            "\n",
            " ##### ANALYIS OPINION SPAN PREDICTIONS: p(exact e | weighted match (h, t))\n",
            "\n",
            "tot. opinions with match in holder, tgt by > half the teams vs. percent that also has match in exp\n",
            "\n",
            "monolingual\n",
            "2744 vs. 0.72%\n",
            "\n",
            " ##### ANALYIS OPINION SPAN PREDICTIONS: p(exact e | exact match (h, t))\n",
            "\n",
            "tot. opinions with match in holder, tgt by > half the teams vs. percent that also has match in exp\n",
            "\n",
            "monolingual\n",
            "2073 vs. 0.76%\n",
            "\n",
            "##### ANALYIS POLARITY: p(correct p | correct (h, t, e))\n",
            "\n",
            "tot. opinions with match in holder, tgt, exp by > half the teams vs. percent that also has match in polarity\n",
            "\n",
            "monolingual\n",
            "2744 vs. 0.92%\n",
            "\n",
            "##### ANALYSIS INTENSITY: distribution of opinions (with match in holder, tgt, exp by > half the teams predictions) with correct and wrong polarity across intensity levels\n",
            "\n",
            " monolingual : opener_es\n",
            "                     Standard  Strong\n",
            "Correct predictions       360     241\n",
            "Errors                    266      90\n",
            "\n",
            " monolingual : mpqa\n",
            "                     N0NE  ...  Strong\n",
            "Correct predictions     0  ...      46\n",
            "Errors                 13  ...      81\n",
            "\n",
            "[2 rows x 4 columns]\n",
            "\n",
            " monolingual : opener_en\n",
            "                     Standard  Strong\n",
            "Correct predictions       362     184\n",
            "Errors                    266      53\n",
            "\n",
            " monolingual : darmstadt_unis\n",
            "                     Weak  ...  Strong\n",
            "Correct predictions     3  ...      22\n",
            "Errors                  4  ...      18\n",
            "\n",
            "[2 rows x 3 columns]\n",
            "\n",
            " monolingual : norec\n",
            "                     N0NE  ...  Strong\n",
            "Correct predictions     2  ...     155\n",
            "Errors                  0  ...     159\n",
            "\n",
            "[2 rows x 4 columns]\n",
            "\n",
            " monolingual : multibooked_ca\n",
            "                     Standard  Strong\n",
            "Correct predictions       212     125\n",
            "Errors                    142      44\n",
            "\n",
            " monolingual : multibooked_eu\n",
            "                     Standard  Strong\n",
            "Correct predictions       153     127\n",
            "Errors                    106      51\n",
            "\n",
            " ##### ANALYSIS SPARSITY: how much h, t, e cover in a text\n",
            "sparsity of spans to be predicted in easy opinions \n",
            "(with match in h,t,e by > half the teams) vs. of difficult opinions (with no such match)\n",
            "\n",
            "monolingual\n",
            "0.65 vs. 0.73\n",
            "\n",
            " ##### ANALYIS NUM OPINONS\n",
            "\n",
            "avg numb of opinions in texts where easy items come from\n",
            "(with match in h,t,e by > half the teams) vs. of difficult opinions (with no such match)\n",
            "\n",
            "monolingual\n",
            "2.98 vs. 3.36\n",
            "\n",
            " ##### ANALYIS NUM OPINONS\n",
            "\n",
            "avg numb of opinions in texts where easy items come from\n",
            "(with all opinions in text having a match in h,t,e by > half the teams) vs. of difficult opinions (with no such match)\n",
            "\n",
            "monolingual\n",
            "1.46 vs. 2.36\n"
          ]
        }
      ]
    },
    {
      "cell_type": "markdown",
      "metadata": {
        "id": "9FW_t_kR6nUl"
      },
      "source": [
        "# Run on Test Data"
      ]
    },
    {
      "cell_type": "markdown",
      "metadata": {
        "id": "gJXlGizB68ZI"
      },
      "source": [
        "## Helper classes & functions"
      ]
    },
    {
      "cell_type": "code",
      "execution_count": null,
      "metadata": {
        "id": "hy9C7ngW68ZJ"
      },
      "outputs": [],
      "source": [
        "class ModelFactory:\n",
        "\n",
        "  def __init__(self, model_class: Type[nn.Module], config: Dict[str, Any]):\n",
        "    self.model_class = model_class\n",
        "    self.config = config\n",
        "\n",
        "  def With(self, key: str, value: Any):\n",
        "    father, _, item = key.rpartition('.')\n",
        "    keychain = father.split('.')\n",
        "    if keychain[0] == '':\n",
        "      keychain = []\n",
        "    father = functools.reduce(lambda x, k: x[k], keychain, self.config)\n",
        "    father[item] = value\n",
        "    return self\n",
        "\n",
        "\n",
        "  def build(\n",
        "      self,\n",
        "      factory_function: Optional[Callable[[Type[nn.Module], Dict[str, Any]], nn.Module]] = None\n",
        "  ) -> nn.Module:\n",
        "\n",
        "    if factory_function is None:\n",
        "      return self.model_class(**self.config)\n",
        "    else:\n",
        "      return factory_function(self.model_class, self.config)\n"
      ]
    },
    {
      "cell_type": "code",
      "execution_count": null,
      "metadata": {
        "id": "kA_q2kHZ68ZJ"
      },
      "outputs": [],
      "source": [
        "def factory_function(cls, config):\n",
        "  return cls(copy.deepcopy(config))"
      ]
    },
    {
      "cell_type": "code",
      "execution_count": null,
      "metadata": {
        "id": "Fhn1Wh5D68ZK"
      },
      "outputs": [],
      "source": [
        "def attach_handlers(trainer: Engine, evaluator: Engine, checkpoint_dir, checkpoint_name):\n",
        "  trainer.add_event_handler(Events.ITERATION_COMPLETED,\n",
        "                            TerminateOnNan(output_transform=itemgetter('loss')))\n",
        "  pbar = ProgressBar()\n",
        "  pbar.attach(trainer,metric_names=['Running Loss'])\n",
        "\n",
        "  stopper = EarlyStopping(patience=6, score_function=lambda engine: engine.state.metrics['Graph F1'],\n",
        "                          trainer=trainer)\n",
        "  evaluator.add_event_handler(Events.COMPLETED, stopper)\n",
        "\n",
        "  checkpointer = ModelCheckpoint(checkpoint_dir, checkpoint_name,\n",
        "                               score_name='Graph F1', n_saved=2, require_empty=False)\n",
        "  evaluator.add_event_handler(Events.EPOCH_COMPLETED, checkpointer, {'model': model})"
      ]
    },
    {
      "cell_type": "code",
      "execution_count": null,
      "metadata": {
        "id": "zZnVgzGC68ZK"
      },
      "outputs": [],
      "source": [
        "def create_engines(model, optimizer, config) -> Tuple[Engine, Engine, Engine]:\n",
        "  trainer = create_supervised_trainer(\n",
        "      model, optimizer, functools.partial(loss_fn, config=config), deterministic=True,\n",
        "      device=DEVICE, prepare_batch=prepare_batch, output_transform=train_output_transform)\n",
        "\n",
        "  evaluator = create_supervised_evaluator(\n",
        "      model, prepare_batch=prepare_batch,\n",
        "      device=DEVICE, output_transform=functools.partial(evaluate_output_transform, model=model))\n",
        "\n",
        "  train_evaluator = create_supervised_evaluator(\n",
        "      model, prepare_batch=prepare_batch,\n",
        "      device=DEVICE, output_transform=functools.partial(evaluate_output_transform, model=model))\n",
        "\n",
        "  return trainer, evaluator, train_evaluator"
      ]
    },
    {
      "cell_type": "code",
      "execution_count": null,
      "metadata": {
        "id": "raSTWsbJ68ZK"
      },
      "outputs": [],
      "source": [
        "def create_and_attach_common_metrics(trainer, evaluator, train_evaluator, config):\n",
        "  train_loss = Average(output_transform=loss_output_transform)\n",
        "  eval_loss = Average(output_transform=functools.partial(loss_metric, config=config))\n",
        "  running_loss = RunningAverage(output_transform=loss_output_transform)\n",
        "\n",
        "  graph_f1 = F1(GraphMatchLogic(), output_transform=acc_output_transform)\n",
        "  sentiment_f1 = F1(SentimentMatchLogic(), output_transform=acc_output_transform)\n",
        "  nsentiment_f1 = F1(SentimentMatchLogic(keep_polarity=False), output_transform=acc_output_transform)\n",
        "  target_f1 = F1(TargetMatchLogic(), output_transform=acc_output_transform)\n",
        "  holder_f1 = F1(HolderMatchLogic(), output_transform=acc_output_transform)\n",
        "\n",
        "  graph_f1.attach(train_evaluator, 'Graph F1')\n",
        "  sentiment_f1.attach(train_evaluator, 'Sentiment F1')\n",
        "  nsentiment_f1.attach(train_evaluator, 'NSentiment F1')\n",
        "  target_f1.attach(train_evaluator, 'Target F1')\n",
        "  holder_f1.attach(train_evaluator, 'Holder F1')\n",
        "\n",
        "  graph_f1.attach(evaluator, 'Graph F1')\n",
        "  sentiment_f1.attach(evaluator, 'Sentiment F1')\n",
        "  nsentiment_f1.attach(evaluator, 'NSentiment F1')\n",
        "  target_f1.attach(evaluator, 'Target F1')\n",
        "  holder_f1.attach(evaluator, 'Holder F1')\n",
        "\n",
        "  train_loss.attach(trainer, 'Loss')\n",
        "  eval_loss.attach(evaluator, 'Loss')\n",
        "  running_loss.attach(trainer, 'Running Loss')"
      ]
    },
    {
      "cell_type": "code",
      "execution_count": null,
      "metadata": {
        "id": "edE2CCX568ZL"
      },
      "outputs": [],
      "source": [
        "def attach_wandb_logger(trainer, evaluator, train_evaluator,\n",
        "                        optimizer, name: str, config: Dict[str, Any]) -> WandBLogger:\n",
        "\n",
        "  note = 'SemEval2022 Task 10 Subtask 1'\n",
        "  wandb_logger = WandBLogger(entity='sadra-barikbin', project='SSA-Attentionist-best-variants',\n",
        "                             config=config, group=f\"{DATASET_NAMES_MAP[config['dataset']]}:{name}\",\n",
        "                             notes=note, resume=True,\n",
        "                            tags=[DATASET_NAMES_MAP[config[\"dataset\"]], name])\n",
        "\n",
        "  wandb_logger.attach_opt_params_handler(trainer, event_name=Events.EPOCH_COMPLETED, \n",
        "                                         optimizer=optimizer)\n",
        "\n",
        "  wandb_logger.attach_output_handler(trainer, event_name=Events.EPOCH_COMPLETED,\n",
        "                                    tag=\"training\", metric_names=[\"Loss\"])\n",
        "\n",
        "  metric_names = [\"Graph F1\", \"Sentiment F1\", \"NSentiment F1\", \"Target F1\", \"Holder F1\"]\n",
        "\n",
        "  wandb_logger.attach_output_handler(train_evaluator, event_name=Events.COMPLETED,\n",
        "                                    global_step_transform=global_step_from_engine(trainer),\n",
        "                                    tag=\"training\", metric_names=metric_names)\n",
        "\n",
        "  wandb_logger.attach_output_handler(evaluator, event_name=Events.COMPLETED,\n",
        "                                    global_step_transform=global_step_from_engine(trainer),\n",
        "                                    tag=\"evaluation\", metric_names=[\"Loss\"] + metric_names)\n",
        "  @trainer.on(Events.COMPLETED)\n",
        "  def close_logger():\n",
        "    wandb_logger.close()\n",
        "\n",
        "  return wandb_logger"
      ]
    },
    {
      "cell_type": "markdown",
      "metadata": {
        "id": "-921Org4-F34"
      },
      "source": [
        "## Best Variants"
      ]
    },
    {
      "cell_type": "code",
      "execution_count": null,
      "metadata": {
        "id": "rcMwmfMg6yDa"
      },
      "outputs": [],
      "source": [
        "variants=[\n",
        "  (ModelFactory(StructuredSentimentPredictor, copy.deepcopy(CONFIG)).With(\n",
        "    \"edge_predictor.USE_BIAS\", True).With(\n",
        "        \"base_pooler.TARGET_AND_HOLDER_SEPARATE_HEAD\", True).With(\n",
        "            \"dataset\", \"multibooked_ca\"),\n",
        "  \"+Bias+SepH\" # I put this first because has the longest sentence therein. So as to prevent\n",
        "               # CUDA out of memory errors.\n",
        "  ),\n",
        "  (ModelFactory(StructuredSentimentPredictor, copy.deepcopy(CONFIG)).With(\n",
        "    \"edge_predictor.USE_BIAS\", True).With(\n",
        "        \"base_pooler.TARGET_AND_HOLDER_SEPARATE_HEAD\", True).With(\n",
        "            \"dataset\", \"opener_en\"),\n",
        "  \"+Bias+SepH\"\n",
        "  ),\n",
        "  (ModelFactory(StructuredSentimentPredictor, copy.deepcopy(CONFIG)).With(\n",
        "      \"dataset\", \"mpqa\"),\n",
        "    \"base\"\n",
        "  ),\n",
        "  (ModelFactory(StructuredSentimentPredictor, copy.deepcopy(CONFIG)).With(\n",
        "    \"base_pooler.TARGET_AND_HOLDER_SEPARATE_HEAD\", True).With(\n",
        "        \"dataset\", \"darmstadt_unis\"),\n",
        "  \"+SepH\"\n",
        "  ),\n",
        "  (ModelFactory(StructuredSentimentPredictor, copy.deepcopy(CONFIG)).With(\n",
        "    \"edge_predictor.USE_BIAS\", True).With(\n",
        "        \"base_pooler.TARGET_AND_HOLDER_SEPARATE_HEAD\", True).With(\n",
        "            \"dataset\", \"opener_es\"),\n",
        "  \"+Bias+SepH\"\n",
        "  ),\n",
        "  (ModelFactory(StructuredSentimentPredictor, copy.deepcopy(CONFIG)).With(\n",
        "    \"base_pooler.TARGET_AND_HOLDER_SEPARATE_HEAD\", True).With(\n",
        "        \"dataset\", \"norec\"),\n",
        "  \"+SepH\"\n",
        "  ),\n",
        "  (ModelFactory(StructuredSentimentPredictor, copy.deepcopy(CONFIG)).With(\n",
        "    \"base_pooler.AVERAGE_HEADS\", True).With(\n",
        "        \"dataset\", \"multibooked_eu\"),\n",
        "  \"+AvgH\"\n",
        "  ),\n",
        "]"
      ]
    },
    {
      "cell_type": "markdown",
      "metadata": {
        "id": "-IQcnkFgaj7Y"
      },
      "source": [
        "## Run"
      ]
    },
    {
      "cell_type": "code",
      "execution_count": null,
      "metadata": {
        "id": "KhIFE_iBaj7Y"
      },
      "outputs": [],
      "source": [
        "for variant_idx, (m_factory, variant_name) in enumerate(variants):\n",
        "\n",
        "  for random_seed in [41, 666, 1567, 4447, 37773]:\n",
        "\n",
        "    torch.manual_seed(random_seed)\n",
        "      \n",
        "    if m_factory.config[\"dataset\"] in ['opener_es', 'multibooked_ca', 'multibooked_eu']:\n",
        "      m_factory.With(\"batch_size\", 16)\n",
        "    else:\n",
        "      m_factory.With(\"batch_size\", 32)\n",
        "\n",
        "    m_factory.With(\"random_seed\", random_seed)\n",
        "\n",
        "    config = m_factory.config\n",
        "\n",
        "    dataset_name = config[\"dataset\"]\n",
        "\n",
        "    with warnings.catch_warnings():\n",
        "      warnings.simplefilter(\"ignore\")\n",
        "      train_ds = SemEval2022Task10Dataset('train', config)\n",
        "      dev_ds = SemEval2022Task10Dataset('dev', config)\n",
        "\n",
        "      train_dataloader = DataLoader(\n",
        "          train_ds,\n",
        "          collate_fn=functools.partial(collate_fn, tokenizer=get_tokenizer(config[\"dataset\"])),\n",
        "          batch_size=config[\"batch_size\"])\n",
        "\n",
        "      dev_dataloader = DataLoader(\n",
        "          dev_ds,\n",
        "          collate_fn=functools.partial(collate_fn, tokenizer=get_tokenizer(config[\"dataset\"])),\n",
        "          batch_size= config[\"batch_size\"] * 2)\n",
        "\n",
        "      print(\n",
        "          f\"Variant: {variant_name}, Dataset: {dataset_name}, Random seed: {random_seed}\"\n",
        "          f\", Batch size: {config['batch_size']}\"\n",
        "      )\n",
        "      model = m_factory.build(factory_function).to(DEVICE)\n",
        "\n",
        "      optimizer_parameter_groups = [\n",
        "        {'params': list(model.base.parameters())},\n",
        "        {'params': list(model.novelty.parameters())}\n",
        "      ]\n",
        "      optimizer = torch.optim.AdamW(optimizer_parameter_groups)\n",
        "\n",
        "      trainer, evaluator, train_evaluator = create_engines(model, optimizer, config)\n",
        "\n",
        "      create_and_attach_common_metrics(trainer, evaluator, train_evaluator, config)\n",
        "\n",
        "      wandb_handler = attach_wandb_logger(trainer, evaluator, train_evaluator, optimizer,\n",
        "                                          variant_name, config)\n",
        "\n",
        "      attach_handlers(trainer, evaluator, wandb_handler.run.dir,\n",
        "                      f\"Attentionist_{dataset_name}_{variant_name}\")\n",
        "\n",
        "    \n",
        "\n",
        "      lr_scheduler = LRScheduler(StepLR(optimizer, 9, gamma=0.1), save_history=True)\n",
        "      scheduler_handler = trainer.add_event_handler(\n",
        "          Events.EPOCH_COMPLETED, lr_scheduler\n",
        "      )\n",
        "\n",
        "      base_warmup_scheduler = PiecewiseLinear(\n",
        "          optimizer, \"lr\",\n",
        "          milestones_values=[(1, 1e-6), (len(train_ds) // config[\"batch_size\"], 1e-4)],\n",
        "          param_group_index=0\n",
        "      )\n",
        "\n",
        "      novelty_warmup_scheduler = PiecewiseLinear(\n",
        "          optimizer, \"lr\",\n",
        "          milestones_values=[(1, 1e-5), (len(train_ds) // config[\"batch_size\"], 1e-3)],\n",
        "          param_group_index=1\n",
        "      )\n",
        "\n",
        "      event_filter = lambda _, event: event < (len(train_ds) // config[\"batch_size\"]) + 1\n",
        "      trainer.add_event_handler(\n",
        "          Events.ITERATION_STARTED(event_filter),\n",
        "          base_warmup_scheduler\n",
        "      )\n",
        "      trainer.add_event_handler(\n",
        "          Events.ITERATION_STARTED(event_filter),\n",
        "          novelty_warmup_scheduler\n",
        "      )\n",
        "\n",
        "      @trainer.on(Events.EPOCH_COMPLETED)\n",
        "      def evaluate():\n",
        "        evaluator.run(dev_dataloader)\n",
        "        train_evaluator.run(train_dataloader)\n",
        "\n",
        "      trainer.run(train_dataloader,max_epochs=20)\n",
        "\n",
        "      # I encountered a lot of trouble without line bottom. Without that, CUDA_OUT_OF_MEMORY\n",
        "      # was raised. In previous version, I did'nt face that because I had checkpointing that\n",
        "      # implicitly did this job.\n",
        "      model.cpu()"
      ]
    },
    {
      "cell_type": "code",
      "execution_count": null,
      "metadata": {
        "id": "ysnaQJpqmTc-"
      },
      "outputs": [],
      "source": [
        "wandb_handler.close()"
      ]
    },
    {
      "cell_type": "markdown",
      "source": [
        "## Evaluate"
      ],
      "metadata": {
        "id": "9ULKgp4RtKh5"
      }
    },
    {
      "cell_type": "markdown",
      "source": [
        "> First run [Inference](#inference) section functions"
      ],
      "metadata": {
        "id": "1qJb5CVQw9w6"
      }
    },
    {
      "cell_type": "code",
      "execution_count": null,
      "metadata": {
        "colab": {
          "base_uri": "https://localhost:8080/",
          "height": 506,
          "referenced_widgets": [
            "0c5d45e61736437ea45f91fe0a243b4e",
            "800e3ea49cae4d709eeb1614fec80760",
            "81e7771d4e3147fc9075691bb6a9c968",
            "4a75f68cfadb47b2a2991d9461e8d96b",
            "a8cfb8c2824145a48a513d18b0a876f2",
            "c86a426eeaa84948becb5548e26c6c22",
            "7335eef7c3b34a3bbaa5b2584f2a5b2d",
            "a162a38d9bd7483b898b9fa66f9dc657",
            "b96914309a1c42ddb80538ae25f7f554",
            "fd2c35721ae34d15bb7a1f42801cf58e",
            "28e8898ef72343c8b7635bbda6b8ad90",
            "6afebe3510dc43e3a7373c677330a193",
            "497f087a03a142509cbc26a84cfb2def",
            "752eb7008cc24e8185026bfa28d52fc6",
            "aa6eeb7f338c4fab9f91468ca5f45a4b",
            "7de27e7e5ae14b8eb5128c1be6038c70",
            "082b10a819aa4b55be904f5e819f21e4",
            "85a9f70d879a435b84b210eca753eb4a",
            "8132e13183f948b989237b28eaaabac9",
            "a2af4d6276db4fc1a4c9846ae3b8fa1e",
            "8826352f6e8c420982c2f1f414b37784",
            "d287b942f5d64c459909a87ceb16cfb0",
            "81c4682130284fb89241754972f9e020",
            "c26782b0ecc54960a317e0d3778687e1",
            "b0b612eaaf624b4a9b6439136cc20520",
            "c5a5fdf11cbc41a3bff32ab95e8ef606",
            "b64d5fc086044682b295402d14a43ae2",
            "8acd27e6e5334a7a886ba69a9e51945c",
            "beb87105c3cf495db42d771dc02ed8bc",
            "3e79665508d6473e81a86b4fc2045d66",
            "d3265d17e2b9463e95b1679ad9c8c03e",
            "8641a6f476fd4693bcf052dd8e23813c",
            "caf97038ad954f0395323846885e8181",
            "6dbf9b683c07440196a5c28090f4bba8",
            "050890cda92448918682d29b682b910b",
            "7f69d53121b24bdf81bca9faf37218e0",
            "74e2828868294994a744369cc40d4964",
            "fc408c7c63564db9875767e3f9fcb5ad",
            "a8c1624e04a849bab495d93354fce5f2",
            "ddef02ec90ac4fd180c9239ca9bd0911",
            "96042c5eea9545dabbb21296b3c028a6",
            "4a3d8f863e314244aa0f7276d2cf78dc",
            "f313ff683419450fa7313b4188c9e07e",
            "f3f88d17258c49f18d93043f40ab3252",
            "04b6f328e88b439cb7e53c60c0602766",
            "8d99926f2e9647db81e9b06cd35a54fd",
            "207b5e5eb80641788b586e7dfbbba79c",
            "95906232557946c9a057cb351fdf3ed2",
            "16d447071fda4f198626aeb23b528cb6",
            "d378f1b23431415ca5d35f17afe3e865",
            "b436800b125244549b6b82096bed30da",
            "54a2b9fd62b04c1d8180495b8a8e507a",
            "f665dd092c294216bf5d399f955ab989",
            "0921c23645cd4c2bb19cef0b43b6cbf2",
            "0f94fd53443942d9a2cf048143a15030",
            "770ec62f741544c1ac91c6b3ec43b682",
            "92b55a33b0114602891b16d79a824ff8",
            "1fddc9a67cbe455cb44667882cd369d9",
            "4855b7542a2b4c29a2301b9e7b4ef718",
            "b38d0400259f4d4aaf32d75e8cf1734b",
            "2dac371552a743229fb35fdef3406280",
            "6035768201074fb597254577ef4978cd",
            "37352ca4780c4f278624b1bf86d42edb",
            "b8c078330b7340f7989cb6b9345f72fd",
            "3cbf2762c6024d33b4d043fb92c2c894",
            "07e5577f944e43c89bfc686e8ea4ff71",
            "6f54ea0ec3a44bcb8ae8cc4ba90caca8",
            "465e73a27f0e4cef8d1b1b4f867ccfa4",
            "97d23621ff6c4d1d9971aa886ac680c8",
            "a2e6849e29ee45578c07746e258f75fd",
            "3fb2cd834a92451cbd49c6650646e9a5",
            "827dc8826858431aad100eb52a66010f",
            "8572aa6abce24a36902f2a68421f7bc5",
            "d9cd0e31bce84db58a5b2ad58ecce3db",
            "4e70e0b0070c4dbf9a86c573cb2c23d2",
            "49d64179292746788cfff11469d4fdab",
            "8fb34c8d05614902b3ea3f325a03c0bc",
            "ef73d7d8f2a547dcbbaa91309472db17",
            "0943c3327c494840b3fa96ea3cf6e105",
            "570c2a543d104cef81b37a3a7920779b",
            "fa5435243a3b4ef1a3870d863182378e",
            "bdba8a8dc67d4ad0a642a892690e7002",
            "89ce57f1ebb440999c821ad568f9edaa",
            "460b5382cd814b0f842bb64934f39a65",
            "3b08439baaaf4e7ebdf70848269b069c",
            "44f2a9c91e304e2498558bb8420b699b",
            "3ca3442ca0994f52acdb6e867b62cb10",
            "ab0288c4c0d64cf1a00154b9d8c44118",
            "b9e5e93ff2a34a38b7b81a95e80d4d45",
            "d637ee28f72d4c39847fcad25458ae41",
            "c771519672bf45b4a8d61fd416d4f1f8",
            "60c0284d91cc40188c63f036153326a8",
            "fcc7d96a841d4bfdb653d98788b82192",
            "711204a9abf14e588809766c45cb95ac",
            "f3d5b07144c74c82b07a7bf955e86981",
            "1b1b59bd76a847fcb1996e559207fc5f",
            "fddc9591f7a8430f9507a7a30eda40d0",
            "fc5cd06b829843f0b335fd2adb33da39",
            "9533c73fb1db4f6ab4b9b24eaa62496a"
          ]
        },
        "id": "yGN56D8ttuqz",
        "outputId": "f7002244-8328-4ca9-c626-a32c9a839984"
      },
      "outputs": [
        {
          "output_type": "stream",
          "name": "stderr",
          "text": [
            "Some weights of the model checkpoint at setu4993/LaBSE were not used when initializing BertModel: ['pooler.dense.weight', 'pooler.dense.bias']\n",
            "- This IS expected if you are initializing BertModel from the checkpoint of a model trained on another task or with another architecture (e.g. initializing a BertForSequenceClassification model from a BertForPreTraining model).\n",
            "- This IS NOT expected if you are initializing BertModel from the checkpoint of a model that you expect to be exactly identical (initializing a BertForSequenceClassification model from a BertForSequenceClassification model).\n"
          ]
        },
        {
          "output_type": "display_data",
          "data": {
            "text/plain": [
              "[1/11]   9%|9          [00:00<?]"
            ],
            "application/vnd.jupyter.widget-view+json": {
              "version_major": 2,
              "version_minor": 0,
              "model_id": "0c5d45e61736437ea45f91fe0a243b4e"
            }
          },
          "metadata": {}
        },
        {
          "output_type": "stream",
          "name": "stderr",
          "text": [
            "Some weights of the model checkpoint at setu4993/LaBSE were not used when initializing BertModel: ['pooler.dense.weight', 'pooler.dense.bias']\n",
            "- This IS expected if you are initializing BertModel from the checkpoint of a model trained on another task or with another architecture (e.g. initializing a BertForSequenceClassification model from a BertForPreTraining model).\n",
            "- This IS NOT expected if you are initializing BertModel from the checkpoint of a model that you expect to be exactly identical (initializing a BertForSequenceClassification model from a BertForSequenceClassification model).\n"
          ]
        },
        {
          "output_type": "display_data",
          "data": {
            "text/plain": [
              "[1/11]   9%|9          [00:00<?]"
            ],
            "application/vnd.jupyter.widget-view+json": {
              "version_major": 2,
              "version_minor": 0,
              "model_id": "6afebe3510dc43e3a7373c677330a193"
            }
          },
          "metadata": {}
        },
        {
          "output_type": "stream",
          "name": "stderr",
          "text": [
            "Some weights of the model checkpoint at setu4993/LaBSE were not used when initializing BertModel: ['pooler.dense.weight', 'pooler.dense.bias']\n",
            "- This IS expected if you are initializing BertModel from the checkpoint of a model trained on another task or with another architecture (e.g. initializing a BertForSequenceClassification model from a BertForPreTraining model).\n",
            "- This IS NOT expected if you are initializing BertModel from the checkpoint of a model that you expect to be exactly identical (initializing a BertForSequenceClassification model from a BertForSequenceClassification model).\n"
          ]
        },
        {
          "output_type": "display_data",
          "data": {
            "text/plain": [
              "[1/11]   9%|9          [00:00<?]"
            ],
            "application/vnd.jupyter.widget-view+json": {
              "version_major": 2,
              "version_minor": 0,
              "model_id": "81c4682130284fb89241754972f9e020"
            }
          },
          "metadata": {}
        },
        {
          "output_type": "stream",
          "name": "stderr",
          "text": [
            "Some weights of the model checkpoint at setu4993/LaBSE were not used when initializing BertModel: ['pooler.dense.weight', 'pooler.dense.bias']\n",
            "- This IS expected if you are initializing BertModel from the checkpoint of a model trained on another task or with another architecture (e.g. initializing a BertForSequenceClassification model from a BertForPreTraining model).\n",
            "- This IS NOT expected if you are initializing BertModel from the checkpoint of a model that you expect to be exactly identical (initializing a BertForSequenceClassification model from a BertForSequenceClassification model).\n"
          ]
        },
        {
          "output_type": "display_data",
          "data": {
            "text/plain": [
              "[1/11]   9%|9          [00:00<?]"
            ],
            "application/vnd.jupyter.widget-view+json": {
              "version_major": 2,
              "version_minor": 0,
              "model_id": "6dbf9b683c07440196a5c28090f4bba8"
            }
          },
          "metadata": {}
        },
        {
          "output_type": "stream",
          "name": "stderr",
          "text": [
            "Some weights of the model checkpoint at roberta-base were not used when initializing RobertaModel: ['lm_head.dense.bias', 'lm_head.layer_norm.weight', 'lm_head.dense.weight', 'roberta.pooler.dense.weight', 'lm_head.bias', 'roberta.pooler.dense.bias', 'lm_head.decoder.weight', 'lm_head.layer_norm.bias']\n",
            "- This IS expected if you are initializing RobertaModel from the checkpoint of a model trained on another task or with another architecture (e.g. initializing a BertForSequenceClassification model from a BertForPreTraining model).\n",
            "- This IS NOT expected if you are initializing RobertaModel from the checkpoint of a model that you expect to be exactly identical (initializing a BertForSequenceClassification model from a BertForSequenceClassification model).\n"
          ]
        },
        {
          "output_type": "display_data",
          "data": {
            "text/plain": [
              "[1/33]   3%|3          [00:00<?]"
            ],
            "application/vnd.jupyter.widget-view+json": {
              "version_major": 2,
              "version_minor": 0,
              "model_id": "04b6f328e88b439cb7e53c60c0602766"
            }
          },
          "metadata": {}
        },
        {
          "output_type": "stream",
          "name": "stderr",
          "text": [
            "Some weights of the model checkpoint at roberta-base were not used when initializing RobertaModel: ['lm_head.dense.bias', 'lm_head.layer_norm.weight', 'lm_head.dense.weight', 'roberta.pooler.dense.weight', 'lm_head.bias', 'roberta.pooler.dense.bias', 'lm_head.decoder.weight', 'lm_head.layer_norm.bias']\n",
            "- This IS expected if you are initializing RobertaModel from the checkpoint of a model trained on another task or with another architecture (e.g. initializing a BertForSequenceClassification model from a BertForPreTraining model).\n",
            "- This IS NOT expected if you are initializing RobertaModel from the checkpoint of a model that you expect to be exactly identical (initializing a BertForSequenceClassification model from a BertForSequenceClassification model).\n"
          ]
        },
        {
          "output_type": "display_data",
          "data": {
            "text/plain": [
              "[1/33]   3%|3          [00:00<?]"
            ],
            "application/vnd.jupyter.widget-view+json": {
              "version_major": 2,
              "version_minor": 0,
              "model_id": "770ec62f741544c1ac91c6b3ec43b682"
            }
          },
          "metadata": {}
        },
        {
          "output_type": "stream",
          "name": "stderr",
          "text": [
            "Some weights of the model checkpoint at roberta-base were not used when initializing RobertaModel: ['lm_head.dense.bias', 'lm_head.layer_norm.weight', 'lm_head.dense.weight', 'roberta.pooler.dense.weight', 'lm_head.bias', 'roberta.pooler.dense.bias', 'lm_head.decoder.weight', 'lm_head.layer_norm.bias']\n",
            "- This IS expected if you are initializing RobertaModel from the checkpoint of a model trained on another task or with another architecture (e.g. initializing a BertForSequenceClassification model from a BertForPreTraining model).\n",
            "- This IS NOT expected if you are initializing RobertaModel from the checkpoint of a model that you expect to be exactly identical (initializing a BertForSequenceClassification model from a BertForSequenceClassification model).\n"
          ]
        },
        {
          "output_type": "display_data",
          "data": {
            "text/plain": [
              "[1/33]   3%|3          [00:00<?]"
            ],
            "application/vnd.jupyter.widget-view+json": {
              "version_major": 2,
              "version_minor": 0,
              "model_id": "6f54ea0ec3a44bcb8ae8cc4ba90caca8"
            }
          },
          "metadata": {}
        },
        {
          "output_type": "stream",
          "name": "stderr",
          "text": [
            "Some weights of the model checkpoint at roberta-base were not used when initializing RobertaModel: ['lm_head.dense.bias', 'lm_head.layer_norm.weight', 'lm_head.dense.weight', 'roberta.pooler.dense.weight', 'lm_head.bias', 'roberta.pooler.dense.bias', 'lm_head.decoder.weight', 'lm_head.layer_norm.bias']\n",
            "- This IS expected if you are initializing RobertaModel from the checkpoint of a model trained on another task or with another architecture (e.g. initializing a BertForSequenceClassification model from a BertForPreTraining model).\n",
            "- This IS NOT expected if you are initializing RobertaModel from the checkpoint of a model that you expect to be exactly identical (initializing a BertForSequenceClassification model from a BertForSequenceClassification model).\n"
          ]
        },
        {
          "output_type": "display_data",
          "data": {
            "text/plain": [
              "[1/33]   3%|3          [00:00<?]"
            ],
            "application/vnd.jupyter.widget-view+json": {
              "version_major": 2,
              "version_minor": 0,
              "model_id": "ef73d7d8f2a547dcbbaa91309472db17"
            }
          },
          "metadata": {}
        },
        {
          "output_type": "stream",
          "name": "stderr",
          "text": [
            "Some weights of the model checkpoint at roberta-base were not used when initializing RobertaModel: ['lm_head.dense.bias', 'lm_head.layer_norm.weight', 'lm_head.dense.weight', 'roberta.pooler.dense.weight', 'lm_head.bias', 'roberta.pooler.dense.bias', 'lm_head.decoder.weight', 'lm_head.layer_norm.bias']\n",
            "- This IS expected if you are initializing RobertaModel from the checkpoint of a model trained on another task or with another architecture (e.g. initializing a BertForSequenceClassification model from a BertForPreTraining model).\n",
            "- This IS NOT expected if you are initializing RobertaModel from the checkpoint of a model that you expect to be exactly identical (initializing a BertForSequenceClassification model from a BertForSequenceClassification model).\n"
          ]
        },
        {
          "output_type": "display_data",
          "data": {
            "text/plain": [
              "[1/33]   3%|3          [00:00<?]"
            ],
            "application/vnd.jupyter.widget-view+json": {
              "version_major": 2,
              "version_minor": 0,
              "model_id": "b9e5e93ff2a34a38b7b81a95e80d4d45"
            }
          },
          "metadata": {}
        }
      ],
      "source": [
        "api = wandb.Api()\n",
        "for ds in DATASET_NAMES_MAP:\n",
        "\n",
        "  if ds not in ['mpqa','multibooked_ca']:\n",
        "    continue\n",
        "\n",
        "  runs = api.runs(\n",
        "      f'sadra-barikbin/SSA-Attentionist-best-variants',\n",
        "      order='summary_metrics.evaluation/Graph F1',\n",
        "      filters={'tags': DATASET_NAMES_MAP[ds]}\n",
        "  )\n",
        "\n",
        "  for idx, run in enumerate(runs):\n",
        "\n",
        "    if ds == 'multibooked_ca' and idx==0:\n",
        "      continue\n",
        "  \n",
        "    model_path = run.files()[1].download(replace=True)\n",
        "\n",
        "    config = yaml.load(open(run.files()[2].download(replace=True).name, 'r'), yaml.Loader)\n",
        "    config = {k:v['value'] for k,v in config.items() if k != 'wandb_version'}\n",
        "\n",
        "    state_dict = torch.load(model_path.name)\n",
        "    model = StructuredSentimentPredictor(config)\n",
        "    model.load_state_dict(state_dict)\n",
        "    model.to(DEVICE)\n",
        "\n",
        "    tokenizer = get_tokenizer(ds)\n",
        "\n",
        "    test_ds = SemEval2022Task10Dataset('test', config)\n",
        "    test_dataloader = DataLoader(\n",
        "        test_ds,\n",
        "        batch_size=config[\"batch_size\"] * 2,\n",
        "        collate_fn=functools.partial(test_collate_fn, device=DEVICE)\n",
        "    )\n",
        "    \n",
        "    tester = Engine(test_engine_process_function)\n",
        "    output_store = EpochOutputStore()\n",
        "    output_store.attach(tester, 'outputs')\n",
        "\n",
        "    pbar = ProgressBar()\n",
        "    pbar.attach(tester)\n",
        "\n",
        "    tester.run(test_dataloader)\n",
        "\n",
        "    path = f\"test_preds/{ds}/{idx}\"\n",
        "    os.makedirs(path)\n",
        "\n",
        "    with open(f\"{path}/predictions.json\", 'w') as f:\n",
        "      json.dump(list(itertools.chain(*tester.state.outputs)), f)"
      ]
    },
    {
      "cell_type": "code",
      "source": [
        "! git clone https://github.com/sadra-barikbin/semeval22_structured_sentiment.git"
      ],
      "metadata": {
        "id": "Max3qRimvPQQ"
      },
      "execution_count": null,
      "outputs": []
    },
    {
      "cell_type": "code",
      "source": [
        "from semeval22_structured_sentiment.evaluation.evaluate import convert_opinion_to_tuple, tuple_f1"
      ],
      "metadata": {
        "id": "z_kWTVNmdFCH"
      },
      "execution_count": null,
      "outputs": []
    },
    {
      "cell_type": "code",
      "source": [
        "for ds in DATASET_NAMES_MAP:\n",
        "  \n",
        "  with open(f\"semeval22_structured_sentiment/data/{ds}/test.json\") as o:\n",
        "    gold = json.load(o)\n",
        "  gold = dict([(s[\"sent_id\"], convert_opinion_to_tuple(s)) for s in gold])\n",
        "  \n",
        "  f1_sum = 0\n",
        "  f1_argmax = 0\n",
        "  f1_max = -1\n",
        "  for idx in range(5):\n",
        "\n",
        "    with open(f\"test_preds/{ds}/{idx}/predictions.json\") as o:\n",
        "      preds = json.load(o)\n",
        "      preds = dict([(s[\"sent_id\"], convert_opinion_to_tuple(s)) for s in preds])\n",
        "\n",
        "    g = set(gold.keys())\n",
        "    p = set(preds.keys())\n",
        "\n",
        "    assert g.issubset(p), f\"missing some sentences: {g.difference(p)}\"\n",
        "    assert p.issubset(g), f\"predictions contain sentences that are not in golds: {p.difference(g)}\"\n",
        "\n",
        "    f1 = tuple_f1(gold, preds)\n",
        "    if f1 > f1_max:\n",
        "      f1_max = f1\n",
        "      f1_argmax = idx\n",
        "\n",
        "    f1_sum += f1\n",
        "  \n",
        "  print(f\"{DATASET_NAMES_MAP[ds]} F1: {f1_sum / 5.}, argbest rand_seed: {f1_argmax}\")"
      ],
      "metadata": {
        "colab": {
          "base_uri": "https://localhost:8080/"
        },
        "id": "Id4HrvQLceQs",
        "outputId": "2d77265f-6da1-408d-f5ac-45ae23815e32"
      },
      "execution_count": null,
      "outputs": [
        {
          "output_type": "stream",
          "name": "stdout",
          "text": [
            "Opener_En F1: 0.5898529367600808, argbest rand_seed: 4\n",
            "Opener_Es F1: 0.5538162046890416, argbest rand_seed: 3\n",
            "Norec F1: 0.3241464435669958, argbest rand_seed: 4\n",
            "Darmstadt_unis F1: 0.2586611903403816, argbest rand_seed: 2\n",
            "Multibooked_eu F1: 0.5956168588807508, argbest rand_seed: 4\n",
            "Multibooked_ca F1: 0.6173553271467782, argbest rand_seed: 2\n",
            "MPQA F1: 0.26075571778518675, argbest rand_seed: 4\n"
          ]
        }
      ]
    }
  ],
  "metadata": {
    "colab": {
      "collapsed_sections": [
        "BavWNgZOmqxv",
        "ausHwICT5bHf",
        "O9RU5OlBoJRW",
        "xXb3b2XFtNFF",
        "wk-wlWM4j6Iz",
        "3jhJxMc6PMIC",
        "gJXlGizB68ZI"
      ],
      "name": "Attentionist-SSA.ipynb",
      "provenance": [],
      "toc_visible": true,
      "mount_file_id": "1v0Sw6xGXqtVhLzfWiSAYqueza0ypUMcF",
      "authorship_tag": "ABX9TyNQlGBAfrUPBHHUe1nNAvP9",
      "include_colab_link": true
    },
    "kernelspec": {
      "display_name": "Python 3",
      "name": "python3"
    },
    "language_info": {
      "name": "python"
    },
    "widgets": {
      "application/vnd.jupyter.widget-state+json": {
        "04ac6b8cbf8e4a8dbf4ca382a2384b49": {
          "model_module": "@jupyter-widgets/controls",
          "model_module_version": "1.5.0",
          "model_name": "DescriptionStyleModel",
          "state": {
            "_model_module": "@jupyter-widgets/controls",
            "_model_module_version": "1.5.0",
            "_model_name": "DescriptionStyleModel",
            "_view_count": null,
            "_view_module": "@jupyter-widgets/base",
            "_view_module_version": "1.2.0",
            "_view_name": "StyleView",
            "description_width": ""
          }
        },
        "1313855011d2411482d73c025e13accf": {
          "model_module": "@jupyter-widgets/base",
          "model_module_version": "1.2.0",
          "model_name": "LayoutModel",
          "state": {
            "_model_module": "@jupyter-widgets/base",
            "_model_module_version": "1.2.0",
            "_model_name": "LayoutModel",
            "_view_count": null,
            "_view_module": "@jupyter-widgets/base",
            "_view_module_version": "1.2.0",
            "_view_name": "LayoutView",
            "align_content": null,
            "align_items": null,
            "align_self": null,
            "border": null,
            "bottom": null,
            "display": null,
            "flex": null,
            "flex_flow": null,
            "grid_area": null,
            "grid_auto_columns": null,
            "grid_auto_flow": null,
            "grid_auto_rows": null,
            "grid_column": null,
            "grid_gap": null,
            "grid_row": null,
            "grid_template_areas": null,
            "grid_template_columns": null,
            "grid_template_rows": null,
            "height": null,
            "justify_content": null,
            "justify_items": null,
            "left": null,
            "margin": null,
            "max_height": null,
            "max_width": null,
            "min_height": null,
            "min_width": null,
            "object_fit": null,
            "object_position": null,
            "order": null,
            "overflow": null,
            "overflow_x": null,
            "overflow_y": null,
            "padding": null,
            "right": null,
            "top": null,
            "visibility": null,
            "width": null
          }
        },
        "1403ed76fe5e4667bc3d1ee5b5c3be68": {
          "model_module": "@jupyter-widgets/base",
          "model_module_version": "1.2.0",
          "model_name": "LayoutModel",
          "state": {
            "_model_module": "@jupyter-widgets/base",
            "_model_module_version": "1.2.0",
            "_model_name": "LayoutModel",
            "_view_count": null,
            "_view_module": "@jupyter-widgets/base",
            "_view_module_version": "1.2.0",
            "_view_name": "LayoutView",
            "align_content": null,
            "align_items": null,
            "align_self": null,
            "border": null,
            "bottom": null,
            "display": null,
            "flex": null,
            "flex_flow": null,
            "grid_area": null,
            "grid_auto_columns": null,
            "grid_auto_flow": null,
            "grid_auto_rows": null,
            "grid_column": null,
            "grid_gap": null,
            "grid_row": null,
            "grid_template_areas": null,
            "grid_template_columns": null,
            "grid_template_rows": null,
            "height": null,
            "justify_content": null,
            "justify_items": null,
            "left": null,
            "margin": null,
            "max_height": null,
            "max_width": null,
            "min_height": null,
            "min_width": null,
            "object_fit": null,
            "object_position": null,
            "order": null,
            "overflow": null,
            "overflow_x": null,
            "overflow_y": null,
            "padding": null,
            "right": null,
            "top": null,
            "visibility": null,
            "width": null
          }
        },
        "238a5a4edfc34f13a506f64b93f1edb7": {
          "model_module": "@jupyter-widgets/controls",
          "model_module_version": "1.5.0",
          "model_name": "HTMLModel",
          "state": {
            "_dom_classes": [],
            "_model_module": "@jupyter-widgets/controls",
            "_model_module_version": "1.5.0",
            "_model_name": "HTMLModel",
            "_view_count": null,
            "_view_module": "@jupyter-widgets/controls",
            "_view_module_version": "1.5.0",
            "_view_name": "HTMLView",
            "description": "",
            "description_tooltip": null,
            "layout": "IPY_MODEL_b833e9d68c914d0986205d1fc1fd0c1c",
            "placeholder": "​",
            "style": "IPY_MODEL_5edd756ad6ce431fbdecd71bf07f61cc",
            "value": "Iteration: [38/39]  97%"
          }
        },
        "24f256d260e3470983c395e0afde1f19": {
          "model_module": "@jupyter-widgets/controls",
          "model_module_version": "1.5.0",
          "model_name": "ProgressStyleModel",
          "state": {
            "_model_module": "@jupyter-widgets/controls",
            "_model_module_version": "1.5.0",
            "_model_name": "ProgressStyleModel",
            "_view_count": null,
            "_view_module": "@jupyter-widgets/base",
            "_view_module_version": "1.2.0",
            "_view_name": "StyleView",
            "bar_color": null,
            "description_width": ""
          }
        },
        "274fca48544e4de6bb4a698adc1d86ba": {
          "model_module": "@jupyter-widgets/base",
          "model_module_version": "1.2.0",
          "model_name": "LayoutModel",
          "state": {
            "_model_module": "@jupyter-widgets/base",
            "_model_module_version": "1.2.0",
            "_model_name": "LayoutModel",
            "_view_count": null,
            "_view_module": "@jupyter-widgets/base",
            "_view_module_version": "1.2.0",
            "_view_name": "LayoutView",
            "align_content": null,
            "align_items": null,
            "align_self": null,
            "border": null,
            "bottom": null,
            "display": null,
            "flex": null,
            "flex_flow": null,
            "grid_area": null,
            "grid_auto_columns": null,
            "grid_auto_flow": null,
            "grid_auto_rows": null,
            "grid_column": null,
            "grid_gap": null,
            "grid_row": null,
            "grid_template_areas": null,
            "grid_template_columns": null,
            "grid_template_rows": null,
            "height": null,
            "justify_content": null,
            "justify_items": null,
            "left": null,
            "margin": null,
            "max_height": null,
            "max_width": null,
            "min_height": null,
            "min_width": null,
            "object_fit": null,
            "object_position": null,
            "order": null,
            "overflow": null,
            "overflow_x": null,
            "overflow_y": null,
            "padding": null,
            "right": null,
            "top": null,
            "visibility": null,
            "width": null
          }
        },
        "2e6ceb3a182341909df7d1baf39f338b": {
          "model_module": "@jupyter-widgets/controls",
          "model_module_version": "1.5.0",
          "model_name": "FloatProgressModel",
          "state": {
            "_dom_classes": [],
            "_model_module": "@jupyter-widgets/controls",
            "_model_module_version": "1.5.0",
            "_model_name": "FloatProgressModel",
            "_view_count": null,
            "_view_module": "@jupyter-widgets/controls",
            "_view_module_version": "1.5.0",
            "_view_name": "ProgressView",
            "bar_style": "success",
            "description": "",
            "description_tooltip": null,
            "layout": "IPY_MODEL_1313855011d2411482d73c025e13accf",
            "max": 501200538,
            "min": 0,
            "orientation": "horizontal",
            "style": "IPY_MODEL_6d6fe68ad5994c259f9962279edf49c0",
            "value": 501200538
          }
        },
        "33991f37b8654cd5a2fbafc62b4b3d07": {
          "model_module": "@jupyter-widgets/controls",
          "model_module_version": "1.5.0",
          "model_name": "HTMLModel",
          "state": {
            "_dom_classes": [],
            "_model_module": "@jupyter-widgets/controls",
            "_model_module_version": "1.5.0",
            "_model_name": "HTMLModel",
            "_view_count": null,
            "_view_module": "@jupyter-widgets/controls",
            "_view_module_version": "1.5.0",
            "_view_name": "HTMLView",
            "description": "",
            "description_tooltip": null,
            "layout": "IPY_MODEL_1403ed76fe5e4667bc3d1ee5b5c3be68",
            "placeholder": "​",
            "style": "IPY_MODEL_35c562339d7c44858a971eca932b1a91",
            "value": " [00:01&lt;00:00]"
          }
        },
        "35c562339d7c44858a971eca932b1a91": {
          "model_module": "@jupyter-widgets/controls",
          "model_module_version": "1.5.0",
          "model_name": "DescriptionStyleModel",
          "state": {
            "_model_module": "@jupyter-widgets/controls",
            "_model_module_version": "1.5.0",
            "_model_name": "DescriptionStyleModel",
            "_view_count": null,
            "_view_module": "@jupyter-widgets/base",
            "_view_module_version": "1.2.0",
            "_view_name": "StyleView",
            "description_width": ""
          }
        },
        "5edd756ad6ce431fbdecd71bf07f61cc": {
          "model_module": "@jupyter-widgets/controls",
          "model_module_version": "1.5.0",
          "model_name": "DescriptionStyleModel",
          "state": {
            "_model_module": "@jupyter-widgets/controls",
            "_model_module_version": "1.5.0",
            "_model_name": "DescriptionStyleModel",
            "_view_count": null,
            "_view_module": "@jupyter-widgets/base",
            "_view_module_version": "1.2.0",
            "_view_name": "StyleView",
            "description_width": ""
          }
        },
        "6108d45348d646de85b0cfbe00ae4207": {
          "model_module": "@jupyter-widgets/controls",
          "model_module_version": "1.5.0",
          "model_name": "DescriptionStyleModel",
          "state": {
            "_model_module": "@jupyter-widgets/controls",
            "_model_module_version": "1.5.0",
            "_model_name": "DescriptionStyleModel",
            "_view_count": null,
            "_view_module": "@jupyter-widgets/base",
            "_view_module_version": "1.2.0",
            "_view_name": "StyleView",
            "description_width": ""
          }
        },
        "63709b64a5474020a00d15c100dfa46b": {
          "model_module": "@jupyter-widgets/base",
          "model_module_version": "1.2.0",
          "model_name": "LayoutModel",
          "state": {
            "_model_module": "@jupyter-widgets/base",
            "_model_module_version": "1.2.0",
            "_model_name": "LayoutModel",
            "_view_count": null,
            "_view_module": "@jupyter-widgets/base",
            "_view_module_version": "1.2.0",
            "_view_name": "LayoutView",
            "align_content": null,
            "align_items": null,
            "align_self": null,
            "border": null,
            "bottom": null,
            "display": null,
            "flex": null,
            "flex_flow": null,
            "grid_area": null,
            "grid_auto_columns": null,
            "grid_auto_flow": null,
            "grid_auto_rows": null,
            "grid_column": null,
            "grid_gap": null,
            "grid_row": null,
            "grid_template_areas": null,
            "grid_template_columns": null,
            "grid_template_rows": null,
            "height": null,
            "justify_content": null,
            "justify_items": null,
            "left": null,
            "margin": null,
            "max_height": null,
            "max_width": null,
            "min_height": null,
            "min_width": null,
            "object_fit": null,
            "object_position": null,
            "order": null,
            "overflow": null,
            "overflow_x": null,
            "overflow_y": null,
            "padding": null,
            "right": null,
            "top": null,
            "visibility": null,
            "width": null
          }
        },
        "6d6fe68ad5994c259f9962279edf49c0": {
          "model_module": "@jupyter-widgets/controls",
          "model_module_version": "1.5.0",
          "model_name": "ProgressStyleModel",
          "state": {
            "_model_module": "@jupyter-widgets/controls",
            "_model_module_version": "1.5.0",
            "_model_name": "ProgressStyleModel",
            "_view_count": null,
            "_view_module": "@jupyter-widgets/base",
            "_view_module_version": "1.2.0",
            "_view_name": "StyleView",
            "bar_color": null,
            "description_width": ""
          }
        },
        "84ae0dd7c13648d7af26bec236433c9d": {
          "model_module": "@jupyter-widgets/base",
          "model_module_version": "1.2.0",
          "model_name": "LayoutModel",
          "state": {
            "_model_module": "@jupyter-widgets/base",
            "_model_module_version": "1.2.0",
            "_model_name": "LayoutModel",
            "_view_count": null,
            "_view_module": "@jupyter-widgets/base",
            "_view_module_version": "1.2.0",
            "_view_name": "LayoutView",
            "align_content": null,
            "align_items": null,
            "align_self": null,
            "border": null,
            "bottom": null,
            "display": null,
            "flex": null,
            "flex_flow": null,
            "grid_area": null,
            "grid_auto_columns": null,
            "grid_auto_flow": null,
            "grid_auto_rows": null,
            "grid_column": null,
            "grid_gap": null,
            "grid_row": null,
            "grid_template_areas": null,
            "grid_template_columns": null,
            "grid_template_rows": null,
            "height": null,
            "justify_content": null,
            "justify_items": null,
            "left": null,
            "margin": null,
            "max_height": null,
            "max_width": null,
            "min_height": null,
            "min_width": null,
            "object_fit": null,
            "object_position": null,
            "order": null,
            "overflow": null,
            "overflow_x": null,
            "overflow_y": null,
            "padding": null,
            "right": null,
            "top": null,
            "visibility": null,
            "width": null
          }
        },
        "855880f3b7b34c5d84a3fa9c1e6c19ee": {
          "model_module": "@jupyter-widgets/base",
          "model_module_version": "1.2.0",
          "model_name": "LayoutModel",
          "state": {
            "_model_module": "@jupyter-widgets/base",
            "_model_module_version": "1.2.0",
            "_model_name": "LayoutModel",
            "_view_count": null,
            "_view_module": "@jupyter-widgets/base",
            "_view_module_version": "1.2.0",
            "_view_name": "LayoutView",
            "align_content": null,
            "align_items": null,
            "align_self": null,
            "border": null,
            "bottom": null,
            "display": null,
            "flex": null,
            "flex_flow": null,
            "grid_area": null,
            "grid_auto_columns": null,
            "grid_auto_flow": null,
            "grid_auto_rows": null,
            "grid_column": null,
            "grid_gap": null,
            "grid_row": null,
            "grid_template_areas": null,
            "grid_template_columns": null,
            "grid_template_rows": null,
            "height": null,
            "justify_content": null,
            "justify_items": null,
            "left": null,
            "margin": null,
            "max_height": null,
            "max_width": null,
            "min_height": null,
            "min_width": null,
            "object_fit": null,
            "object_position": null,
            "order": null,
            "overflow": null,
            "overflow_x": null,
            "overflow_y": null,
            "padding": null,
            "right": null,
            "top": null,
            "visibility": null,
            "width": null
          }
        },
        "8e9ed6d73c4f4486b4c25d2b8897aaaf": {
          "model_module": "@jupyter-widgets/controls",
          "model_module_version": "1.5.0",
          "model_name": "FloatProgressModel",
          "state": {
            "_dom_classes": [],
            "_model_module": "@jupyter-widgets/controls",
            "_model_module_version": "1.5.0",
            "_model_name": "FloatProgressModel",
            "_view_count": null,
            "_view_module": "@jupyter-widgets/controls",
            "_view_module_version": "1.5.0",
            "_view_name": "ProgressView",
            "bar_style": "",
            "description": "",
            "description_tooltip": null,
            "layout": "IPY_MODEL_274fca48544e4de6bb4a698adc1d86ba",
            "max": 39,
            "min": 0,
            "orientation": "horizontal",
            "style": "IPY_MODEL_24f256d260e3470983c395e0afde1f19",
            "value": 39
          }
        },
        "90c28aed30444b02984b80445aec1821": {
          "model_module": "@jupyter-widgets/controls",
          "model_module_version": "1.5.0",
          "model_name": "ProgressStyleModel",
          "state": {
            "_model_module": "@jupyter-widgets/controls",
            "_model_module_version": "1.5.0",
            "_model_name": "ProgressStyleModel",
            "_view_count": null,
            "_view_module": "@jupyter-widgets/base",
            "_view_module_version": "1.2.0",
            "_view_name": "StyleView",
            "bar_color": null,
            "description_width": ""
          }
        },
        "9c50ff6154054403bf875cc659b1a1f4": {
          "model_module": "@jupyter-widgets/base",
          "model_module_version": "1.2.0",
          "model_name": "LayoutModel",
          "state": {
            "_model_module": "@jupyter-widgets/base",
            "_model_module_version": "1.2.0",
            "_model_name": "LayoutModel",
            "_view_count": null,
            "_view_module": "@jupyter-widgets/base",
            "_view_module_version": "1.2.0",
            "_view_name": "LayoutView",
            "align_content": null,
            "align_items": null,
            "align_self": null,
            "border": null,
            "bottom": null,
            "display": null,
            "flex": null,
            "flex_flow": null,
            "grid_area": null,
            "grid_auto_columns": null,
            "grid_auto_flow": null,
            "grid_auto_rows": null,
            "grid_column": null,
            "grid_gap": null,
            "grid_row": null,
            "grid_template_areas": null,
            "grid_template_columns": null,
            "grid_template_rows": null,
            "height": null,
            "justify_content": null,
            "justify_items": null,
            "left": null,
            "margin": null,
            "max_height": null,
            "max_width": null,
            "min_height": null,
            "min_width": null,
            "object_fit": null,
            "object_position": null,
            "order": null,
            "overflow": null,
            "overflow_x": null,
            "overflow_y": null,
            "padding": null,
            "right": null,
            "top": null,
            "visibility": null,
            "width": null
          }
        },
        "b833e9d68c914d0986205d1fc1fd0c1c": {
          "model_module": "@jupyter-widgets/base",
          "model_module_version": "1.2.0",
          "model_name": "LayoutModel",
          "state": {
            "_model_module": "@jupyter-widgets/base",
            "_model_module_version": "1.2.0",
            "_model_name": "LayoutModel",
            "_view_count": null,
            "_view_module": "@jupyter-widgets/base",
            "_view_module_version": "1.2.0",
            "_view_name": "LayoutView",
            "align_content": null,
            "align_items": null,
            "align_self": null,
            "border": null,
            "bottom": null,
            "display": null,
            "flex": null,
            "flex_flow": null,
            "grid_area": null,
            "grid_auto_columns": null,
            "grid_auto_flow": null,
            "grid_auto_rows": null,
            "grid_column": null,
            "grid_gap": null,
            "grid_row": null,
            "grid_template_areas": null,
            "grid_template_columns": null,
            "grid_template_rows": null,
            "height": null,
            "justify_content": null,
            "justify_items": null,
            "left": null,
            "margin": null,
            "max_height": null,
            "max_width": null,
            "min_height": null,
            "min_width": null,
            "object_fit": null,
            "object_position": null,
            "order": null,
            "overflow": null,
            "overflow_x": null,
            "overflow_y": null,
            "padding": null,
            "right": null,
            "top": null,
            "visibility": null,
            "width": null
          }
        },
        "b839d7953bbe4110b02e2dd70755bf85": {
          "model_module": "@jupyter-widgets/controls",
          "model_module_version": "1.5.0",
          "model_name": "VBoxModel",
          "state": {
            "_dom_classes": [],
            "_model_module": "@jupyter-widgets/controls",
            "_model_module_version": "1.5.0",
            "_model_name": "VBoxModel",
            "_view_count": null,
            "_view_module": "@jupyter-widgets/controls",
            "_view_module_version": "1.5.0",
            "_view_name": "VBoxView",
            "box_style": "",
            "children": [
              "IPY_MODEL_fc96a95888ec44278c39c0164ecbc8ef",
              "IPY_MODEL_cf77037f0da1420b843da81909d630e7"
            ],
            "layout": "IPY_MODEL_63709b64a5474020a00d15c100dfa46b"
          }
        },
        "c2a5f8d4419945098f960fbde735b05a": {
          "model_module": "@jupyter-widgets/controls",
          "model_module_version": "1.5.0",
          "model_name": "HTMLModel",
          "state": {
            "_dom_classes": [],
            "_model_module": "@jupyter-widgets/controls",
            "_model_module_version": "1.5.0",
            "_model_name": "HTMLModel",
            "_view_count": null,
            "_view_module": "@jupyter-widgets/controls",
            "_view_module_version": "1.5.0",
            "_view_name": "HTMLView",
            "description": "",
            "description_tooltip": null,
            "layout": "IPY_MODEL_855880f3b7b34c5d84a3fa9c1e6c19ee",
            "placeholder": "​",
            "style": "IPY_MODEL_eb6f3250fd6246b5b2bbf454ad4c8b16",
            "value": "Downloading: 100%"
          }
        },
        "cf77037f0da1420b843da81909d630e7": {
          "model_module": "@jupyter-widgets/controls",
          "model_module_version": "1.5.0",
          "model_name": "FloatProgressModel",
          "state": {
            "_dom_classes": [],
            "_model_module": "@jupyter-widgets/controls",
            "_model_module_version": "1.5.0",
            "_model_name": "FloatProgressModel",
            "_view_count": null,
            "_view_module": "@jupyter-widgets/controls",
            "_view_module_version": "1.5.0",
            "_view_name": "ProgressView",
            "bar_style": "",
            "description": "",
            "description_tooltip": null,
            "layout": "IPY_MODEL_9c50ff6154054403bf875cc659b1a1f4",
            "max": 1,
            "min": 0,
            "orientation": "horizontal",
            "style": "IPY_MODEL_90c28aed30444b02984b80445aec1821",
            "value": 1
          }
        },
        "d017784c3b6749f194644cc5fbf49c23": {
          "model_module": "@jupyter-widgets/base",
          "model_module_version": "1.2.0",
          "model_name": "LayoutModel",
          "state": {
            "_model_module": "@jupyter-widgets/base",
            "_model_module_version": "1.2.0",
            "_model_name": "LayoutModel",
            "_view_count": null,
            "_view_module": "@jupyter-widgets/base",
            "_view_module_version": "1.2.0",
            "_view_name": "LayoutView",
            "align_content": null,
            "align_items": null,
            "align_self": null,
            "border": null,
            "bottom": null,
            "display": null,
            "flex": null,
            "flex_flow": null,
            "grid_area": null,
            "grid_auto_columns": null,
            "grid_auto_flow": null,
            "grid_auto_rows": null,
            "grid_column": null,
            "grid_gap": null,
            "grid_row": null,
            "grid_template_areas": null,
            "grid_template_columns": null,
            "grid_template_rows": null,
            "height": null,
            "justify_content": null,
            "justify_items": null,
            "left": null,
            "margin": null,
            "max_height": null,
            "max_width": null,
            "min_height": null,
            "min_width": null,
            "object_fit": null,
            "object_position": null,
            "order": null,
            "overflow": null,
            "overflow_x": null,
            "overflow_y": null,
            "padding": null,
            "right": null,
            "top": null,
            "visibility": null,
            "width": null
          }
        },
        "d37dabb2996543d5ae4dadb0367b6d9e": {
          "model_module": "@jupyter-widgets/base",
          "model_module_version": "1.2.0",
          "model_name": "LayoutModel",
          "state": {
            "_model_module": "@jupyter-widgets/base",
            "_model_module_version": "1.2.0",
            "_model_name": "LayoutModel",
            "_view_count": null,
            "_view_module": "@jupyter-widgets/base",
            "_view_module_version": "1.2.0",
            "_view_name": "LayoutView",
            "align_content": null,
            "align_items": null,
            "align_self": null,
            "border": null,
            "bottom": null,
            "display": null,
            "flex": null,
            "flex_flow": null,
            "grid_area": null,
            "grid_auto_columns": null,
            "grid_auto_flow": null,
            "grid_auto_rows": null,
            "grid_column": null,
            "grid_gap": null,
            "grid_row": null,
            "grid_template_areas": null,
            "grid_template_columns": null,
            "grid_template_rows": null,
            "height": null,
            "justify_content": null,
            "justify_items": null,
            "left": null,
            "margin": null,
            "max_height": null,
            "max_width": null,
            "min_height": null,
            "min_width": null,
            "object_fit": null,
            "object_position": null,
            "order": null,
            "overflow": null,
            "overflow_x": null,
            "overflow_y": null,
            "padding": null,
            "right": null,
            "top": null,
            "visibility": null,
            "width": null
          }
        },
        "dde73bb0d5884cb595f92c6c809f4466": {
          "model_module": "@jupyter-widgets/controls",
          "model_module_version": "1.5.0",
          "model_name": "HBoxModel",
          "state": {
            "_dom_classes": [],
            "_model_module": "@jupyter-widgets/controls",
            "_model_module_version": "1.5.0",
            "_model_name": "HBoxModel",
            "_view_count": null,
            "_view_module": "@jupyter-widgets/controls",
            "_view_module_version": "1.5.0",
            "_view_name": "HBoxView",
            "box_style": "",
            "children": [
              "IPY_MODEL_238a5a4edfc34f13a506f64b93f1edb7",
              "IPY_MODEL_8e9ed6d73c4f4486b4c25d2b8897aaaf",
              "IPY_MODEL_33991f37b8654cd5a2fbafc62b4b3d07"
            ],
            "layout": "IPY_MODEL_f4d7652aadde4acc9ec311361d078a0d"
          }
        },
        "e8d55c2919c04f4ba766aa8780b291ac": {
          "model_module": "@jupyter-widgets/controls",
          "model_module_version": "1.5.0",
          "model_name": "HTMLModel",
          "state": {
            "_dom_classes": [],
            "_model_module": "@jupyter-widgets/controls",
            "_model_module_version": "1.5.0",
            "_model_name": "HTMLModel",
            "_view_count": null,
            "_view_module": "@jupyter-widgets/controls",
            "_view_module_version": "1.5.0",
            "_view_name": "HTMLView",
            "description": "",
            "description_tooltip": null,
            "layout": "IPY_MODEL_d017784c3b6749f194644cc5fbf49c23",
            "placeholder": "​",
            "style": "IPY_MODEL_6108d45348d646de85b0cfbe00ae4207",
            "value": " 478M/478M [00:08&lt;00:00, 56.0MB/s]"
          }
        },
        "eb6f3250fd6246b5b2bbf454ad4c8b16": {
          "model_module": "@jupyter-widgets/controls",
          "model_module_version": "1.5.0",
          "model_name": "DescriptionStyleModel",
          "state": {
            "_model_module": "@jupyter-widgets/controls",
            "_model_module_version": "1.5.0",
            "_model_name": "DescriptionStyleModel",
            "_view_count": null,
            "_view_module": "@jupyter-widgets/base",
            "_view_module_version": "1.2.0",
            "_view_name": "StyleView",
            "description_width": ""
          }
        },
        "f4d7652aadde4acc9ec311361d078a0d": {
          "model_module": "@jupyter-widgets/base",
          "model_module_version": "1.2.0",
          "model_name": "LayoutModel",
          "state": {
            "_model_module": "@jupyter-widgets/base",
            "_model_module_version": "1.2.0",
            "_model_name": "LayoutModel",
            "_view_count": null,
            "_view_module": "@jupyter-widgets/base",
            "_view_module_version": "1.2.0",
            "_view_name": "LayoutView",
            "align_content": null,
            "align_items": null,
            "align_self": null,
            "border": null,
            "bottom": null,
            "display": null,
            "flex": null,
            "flex_flow": null,
            "grid_area": null,
            "grid_auto_columns": null,
            "grid_auto_flow": null,
            "grid_auto_rows": null,
            "grid_column": null,
            "grid_gap": null,
            "grid_row": null,
            "grid_template_areas": null,
            "grid_template_columns": null,
            "grid_template_rows": null,
            "height": null,
            "justify_content": null,
            "justify_items": null,
            "left": null,
            "margin": null,
            "max_height": null,
            "max_width": null,
            "min_height": null,
            "min_width": null,
            "object_fit": null,
            "object_position": null,
            "order": null,
            "overflow": null,
            "overflow_x": null,
            "overflow_y": null,
            "padding": null,
            "right": null,
            "top": null,
            "visibility": null,
            "width": null
          }
        },
        "fc96a95888ec44278c39c0164ecbc8ef": {
          "model_module": "@jupyter-widgets/controls",
          "model_module_version": "1.5.0",
          "model_name": "LabelModel",
          "state": {
            "_dom_classes": [],
            "_model_module": "@jupyter-widgets/controls",
            "_model_module_version": "1.5.0",
            "_model_name": "LabelModel",
            "_view_count": null,
            "_view_module": "@jupyter-widgets/controls",
            "_view_module_version": "1.5.0",
            "_view_name": "LabelView",
            "description": "",
            "description_tooltip": null,
            "layout": "IPY_MODEL_84ae0dd7c13648d7af26bec236433c9d",
            "placeholder": "​",
            "style": "IPY_MODEL_04ac6b8cbf8e4a8dbf4ca382a2384b49",
            "value": "0.009 MB of 0.009 MB uploaded (0.000 MB deduped)\r"
          }
        },
        "ff3313e048dd44e9ade1333ee6930a96": {
          "model_module": "@jupyter-widgets/controls",
          "model_module_version": "1.5.0",
          "model_name": "HBoxModel",
          "state": {
            "_dom_classes": [],
            "_model_module": "@jupyter-widgets/controls",
            "_model_module_version": "1.5.0",
            "_model_name": "HBoxModel",
            "_view_count": null,
            "_view_module": "@jupyter-widgets/controls",
            "_view_module_version": "1.5.0",
            "_view_name": "HBoxView",
            "box_style": "",
            "children": [
              "IPY_MODEL_c2a5f8d4419945098f960fbde735b05a",
              "IPY_MODEL_2e6ceb3a182341909df7d1baf39f338b",
              "IPY_MODEL_e8d55c2919c04f4ba766aa8780b291ac"
            ],
            "layout": "IPY_MODEL_d37dabb2996543d5ae4dadb0367b6d9e"
          }
        },
        "0c5d45e61736437ea45f91fe0a243b4e": {
          "model_module": "@jupyter-widgets/controls",
          "model_name": "HBoxModel",
          "model_module_version": "1.5.0",
          "state": {
            "_dom_classes": [],
            "_model_module": "@jupyter-widgets/controls",
            "_model_module_version": "1.5.0",
            "_model_name": "HBoxModel",
            "_view_count": null,
            "_view_module": "@jupyter-widgets/controls",
            "_view_module_version": "1.5.0",
            "_view_name": "HBoxView",
            "box_style": "",
            "children": [
              "IPY_MODEL_800e3ea49cae4d709eeb1614fec80760",
              "IPY_MODEL_81e7771d4e3147fc9075691bb6a9c968",
              "IPY_MODEL_4a75f68cfadb47b2a2991d9461e8d96b"
            ],
            "layout": "IPY_MODEL_a8cfb8c2824145a48a513d18b0a876f2"
          }
        },
        "800e3ea49cae4d709eeb1614fec80760": {
          "model_module": "@jupyter-widgets/controls",
          "model_name": "HTMLModel",
          "model_module_version": "1.5.0",
          "state": {
            "_dom_classes": [],
            "_model_module": "@jupyter-widgets/controls",
            "_model_module_version": "1.5.0",
            "_model_name": "HTMLModel",
            "_view_count": null,
            "_view_module": "@jupyter-widgets/controls",
            "_view_module_version": "1.5.0",
            "_view_name": "HTMLView",
            "description": "",
            "description_tooltip": null,
            "layout": "IPY_MODEL_c86a426eeaa84948becb5548e26c6c22",
            "placeholder": "​",
            "style": "IPY_MODEL_7335eef7c3b34a3bbaa5b2584f2a5b2d",
            "value": "Iteration: [11/11] 100%"
          }
        },
        "81e7771d4e3147fc9075691bb6a9c968": {
          "model_module": "@jupyter-widgets/controls",
          "model_name": "FloatProgressModel",
          "model_module_version": "1.5.0",
          "state": {
            "_dom_classes": [],
            "_model_module": "@jupyter-widgets/controls",
            "_model_module_version": "1.5.0",
            "_model_name": "FloatProgressModel",
            "_view_count": null,
            "_view_module": "@jupyter-widgets/controls",
            "_view_module_version": "1.5.0",
            "_view_name": "ProgressView",
            "bar_style": "",
            "description": "",
            "description_tooltip": null,
            "layout": "IPY_MODEL_a162a38d9bd7483b898b9fa66f9dc657",
            "max": 11,
            "min": 0,
            "orientation": "horizontal",
            "style": "IPY_MODEL_b96914309a1c42ddb80538ae25f7f554",
            "value": 11
          }
        },
        "4a75f68cfadb47b2a2991d9461e8d96b": {
          "model_module": "@jupyter-widgets/controls",
          "model_name": "HTMLModel",
          "model_module_version": "1.5.0",
          "state": {
            "_dom_classes": [],
            "_model_module": "@jupyter-widgets/controls",
            "_model_module_version": "1.5.0",
            "_model_name": "HTMLModel",
            "_view_count": null,
            "_view_module": "@jupyter-widgets/controls",
            "_view_module_version": "1.5.0",
            "_view_name": "HTMLView",
            "description": "",
            "description_tooltip": null,
            "layout": "IPY_MODEL_fd2c35721ae34d15bb7a1f42801cf58e",
            "placeholder": "​",
            "style": "IPY_MODEL_28e8898ef72343c8b7635bbda6b8ad90",
            "value": " [00:04&lt;00:00]"
          }
        },
        "a8cfb8c2824145a48a513d18b0a876f2": {
          "model_module": "@jupyter-widgets/base",
          "model_name": "LayoutModel",
          "model_module_version": "1.2.0",
          "state": {
            "_model_module": "@jupyter-widgets/base",
            "_model_module_version": "1.2.0",
            "_model_name": "LayoutModel",
            "_view_count": null,
            "_view_module": "@jupyter-widgets/base",
            "_view_module_version": "1.2.0",
            "_view_name": "LayoutView",
            "align_content": null,
            "align_items": null,
            "align_self": null,
            "border": null,
            "bottom": null,
            "display": null,
            "flex": null,
            "flex_flow": null,
            "grid_area": null,
            "grid_auto_columns": null,
            "grid_auto_flow": null,
            "grid_auto_rows": null,
            "grid_column": null,
            "grid_gap": null,
            "grid_row": null,
            "grid_template_areas": null,
            "grid_template_columns": null,
            "grid_template_rows": null,
            "height": null,
            "justify_content": null,
            "justify_items": null,
            "left": null,
            "margin": null,
            "max_height": null,
            "max_width": null,
            "min_height": null,
            "min_width": null,
            "object_fit": null,
            "object_position": null,
            "order": null,
            "overflow": null,
            "overflow_x": null,
            "overflow_y": null,
            "padding": null,
            "right": null,
            "top": null,
            "visibility": null,
            "width": null
          }
        },
        "c86a426eeaa84948becb5548e26c6c22": {
          "model_module": "@jupyter-widgets/base",
          "model_name": "LayoutModel",
          "model_module_version": "1.2.0",
          "state": {
            "_model_module": "@jupyter-widgets/base",
            "_model_module_version": "1.2.0",
            "_model_name": "LayoutModel",
            "_view_count": null,
            "_view_module": "@jupyter-widgets/base",
            "_view_module_version": "1.2.0",
            "_view_name": "LayoutView",
            "align_content": null,
            "align_items": null,
            "align_self": null,
            "border": null,
            "bottom": null,
            "display": null,
            "flex": null,
            "flex_flow": null,
            "grid_area": null,
            "grid_auto_columns": null,
            "grid_auto_flow": null,
            "grid_auto_rows": null,
            "grid_column": null,
            "grid_gap": null,
            "grid_row": null,
            "grid_template_areas": null,
            "grid_template_columns": null,
            "grid_template_rows": null,
            "height": null,
            "justify_content": null,
            "justify_items": null,
            "left": null,
            "margin": null,
            "max_height": null,
            "max_width": null,
            "min_height": null,
            "min_width": null,
            "object_fit": null,
            "object_position": null,
            "order": null,
            "overflow": null,
            "overflow_x": null,
            "overflow_y": null,
            "padding": null,
            "right": null,
            "top": null,
            "visibility": null,
            "width": null
          }
        },
        "7335eef7c3b34a3bbaa5b2584f2a5b2d": {
          "model_module": "@jupyter-widgets/controls",
          "model_name": "DescriptionStyleModel",
          "model_module_version": "1.5.0",
          "state": {
            "_model_module": "@jupyter-widgets/controls",
            "_model_module_version": "1.5.0",
            "_model_name": "DescriptionStyleModel",
            "_view_count": null,
            "_view_module": "@jupyter-widgets/base",
            "_view_module_version": "1.2.0",
            "_view_name": "StyleView",
            "description_width": ""
          }
        },
        "a162a38d9bd7483b898b9fa66f9dc657": {
          "model_module": "@jupyter-widgets/base",
          "model_name": "LayoutModel",
          "model_module_version": "1.2.0",
          "state": {
            "_model_module": "@jupyter-widgets/base",
            "_model_module_version": "1.2.0",
            "_model_name": "LayoutModel",
            "_view_count": null,
            "_view_module": "@jupyter-widgets/base",
            "_view_module_version": "1.2.0",
            "_view_name": "LayoutView",
            "align_content": null,
            "align_items": null,
            "align_self": null,
            "border": null,
            "bottom": null,
            "display": null,
            "flex": null,
            "flex_flow": null,
            "grid_area": null,
            "grid_auto_columns": null,
            "grid_auto_flow": null,
            "grid_auto_rows": null,
            "grid_column": null,
            "grid_gap": null,
            "grid_row": null,
            "grid_template_areas": null,
            "grid_template_columns": null,
            "grid_template_rows": null,
            "height": null,
            "justify_content": null,
            "justify_items": null,
            "left": null,
            "margin": null,
            "max_height": null,
            "max_width": null,
            "min_height": null,
            "min_width": null,
            "object_fit": null,
            "object_position": null,
            "order": null,
            "overflow": null,
            "overflow_x": null,
            "overflow_y": null,
            "padding": null,
            "right": null,
            "top": null,
            "visibility": null,
            "width": null
          }
        },
        "b96914309a1c42ddb80538ae25f7f554": {
          "model_module": "@jupyter-widgets/controls",
          "model_name": "ProgressStyleModel",
          "model_module_version": "1.5.0",
          "state": {
            "_model_module": "@jupyter-widgets/controls",
            "_model_module_version": "1.5.0",
            "_model_name": "ProgressStyleModel",
            "_view_count": null,
            "_view_module": "@jupyter-widgets/base",
            "_view_module_version": "1.2.0",
            "_view_name": "StyleView",
            "bar_color": null,
            "description_width": ""
          }
        },
        "fd2c35721ae34d15bb7a1f42801cf58e": {
          "model_module": "@jupyter-widgets/base",
          "model_name": "LayoutModel",
          "model_module_version": "1.2.0",
          "state": {
            "_model_module": "@jupyter-widgets/base",
            "_model_module_version": "1.2.0",
            "_model_name": "LayoutModel",
            "_view_count": null,
            "_view_module": "@jupyter-widgets/base",
            "_view_module_version": "1.2.0",
            "_view_name": "LayoutView",
            "align_content": null,
            "align_items": null,
            "align_self": null,
            "border": null,
            "bottom": null,
            "display": null,
            "flex": null,
            "flex_flow": null,
            "grid_area": null,
            "grid_auto_columns": null,
            "grid_auto_flow": null,
            "grid_auto_rows": null,
            "grid_column": null,
            "grid_gap": null,
            "grid_row": null,
            "grid_template_areas": null,
            "grid_template_columns": null,
            "grid_template_rows": null,
            "height": null,
            "justify_content": null,
            "justify_items": null,
            "left": null,
            "margin": null,
            "max_height": null,
            "max_width": null,
            "min_height": null,
            "min_width": null,
            "object_fit": null,
            "object_position": null,
            "order": null,
            "overflow": null,
            "overflow_x": null,
            "overflow_y": null,
            "padding": null,
            "right": null,
            "top": null,
            "visibility": null,
            "width": null
          }
        },
        "28e8898ef72343c8b7635bbda6b8ad90": {
          "model_module": "@jupyter-widgets/controls",
          "model_name": "DescriptionStyleModel",
          "model_module_version": "1.5.0",
          "state": {
            "_model_module": "@jupyter-widgets/controls",
            "_model_module_version": "1.5.0",
            "_model_name": "DescriptionStyleModel",
            "_view_count": null,
            "_view_module": "@jupyter-widgets/base",
            "_view_module_version": "1.2.0",
            "_view_name": "StyleView",
            "description_width": ""
          }
        },
        "6afebe3510dc43e3a7373c677330a193": {
          "model_module": "@jupyter-widgets/controls",
          "model_name": "HBoxModel",
          "model_module_version": "1.5.0",
          "state": {
            "_dom_classes": [],
            "_model_module": "@jupyter-widgets/controls",
            "_model_module_version": "1.5.0",
            "_model_name": "HBoxModel",
            "_view_count": null,
            "_view_module": "@jupyter-widgets/controls",
            "_view_module_version": "1.5.0",
            "_view_name": "HBoxView",
            "box_style": "",
            "children": [
              "IPY_MODEL_497f087a03a142509cbc26a84cfb2def",
              "IPY_MODEL_752eb7008cc24e8185026bfa28d52fc6",
              "IPY_MODEL_aa6eeb7f338c4fab9f91468ca5f45a4b"
            ],
            "layout": "IPY_MODEL_7de27e7e5ae14b8eb5128c1be6038c70"
          }
        },
        "497f087a03a142509cbc26a84cfb2def": {
          "model_module": "@jupyter-widgets/controls",
          "model_name": "HTMLModel",
          "model_module_version": "1.5.0",
          "state": {
            "_dom_classes": [],
            "_model_module": "@jupyter-widgets/controls",
            "_model_module_version": "1.5.0",
            "_model_name": "HTMLModel",
            "_view_count": null,
            "_view_module": "@jupyter-widgets/controls",
            "_view_module_version": "1.5.0",
            "_view_name": "HTMLView",
            "description": "",
            "description_tooltip": null,
            "layout": "IPY_MODEL_082b10a819aa4b55be904f5e819f21e4",
            "placeholder": "​",
            "style": "IPY_MODEL_85a9f70d879a435b84b210eca753eb4a",
            "value": "Iteration: [11/11] 100%"
          }
        },
        "752eb7008cc24e8185026bfa28d52fc6": {
          "model_module": "@jupyter-widgets/controls",
          "model_name": "FloatProgressModel",
          "model_module_version": "1.5.0",
          "state": {
            "_dom_classes": [],
            "_model_module": "@jupyter-widgets/controls",
            "_model_module_version": "1.5.0",
            "_model_name": "FloatProgressModel",
            "_view_count": null,
            "_view_module": "@jupyter-widgets/controls",
            "_view_module_version": "1.5.0",
            "_view_name": "ProgressView",
            "bar_style": "",
            "description": "",
            "description_tooltip": null,
            "layout": "IPY_MODEL_8132e13183f948b989237b28eaaabac9",
            "max": 11,
            "min": 0,
            "orientation": "horizontal",
            "style": "IPY_MODEL_a2af4d6276db4fc1a4c9846ae3b8fa1e",
            "value": 11
          }
        },
        "aa6eeb7f338c4fab9f91468ca5f45a4b": {
          "model_module": "@jupyter-widgets/controls",
          "model_name": "HTMLModel",
          "model_module_version": "1.5.0",
          "state": {
            "_dom_classes": [],
            "_model_module": "@jupyter-widgets/controls",
            "_model_module_version": "1.5.0",
            "_model_name": "HTMLModel",
            "_view_count": null,
            "_view_module": "@jupyter-widgets/controls",
            "_view_module_version": "1.5.0",
            "_view_name": "HTMLView",
            "description": "",
            "description_tooltip": null,
            "layout": "IPY_MODEL_8826352f6e8c420982c2f1f414b37784",
            "placeholder": "​",
            "style": "IPY_MODEL_d287b942f5d64c459909a87ceb16cfb0",
            "value": " [00:04&lt;00:00]"
          }
        },
        "7de27e7e5ae14b8eb5128c1be6038c70": {
          "model_module": "@jupyter-widgets/base",
          "model_name": "LayoutModel",
          "model_module_version": "1.2.0",
          "state": {
            "_model_module": "@jupyter-widgets/base",
            "_model_module_version": "1.2.0",
            "_model_name": "LayoutModel",
            "_view_count": null,
            "_view_module": "@jupyter-widgets/base",
            "_view_module_version": "1.2.0",
            "_view_name": "LayoutView",
            "align_content": null,
            "align_items": null,
            "align_self": null,
            "border": null,
            "bottom": null,
            "display": null,
            "flex": null,
            "flex_flow": null,
            "grid_area": null,
            "grid_auto_columns": null,
            "grid_auto_flow": null,
            "grid_auto_rows": null,
            "grid_column": null,
            "grid_gap": null,
            "grid_row": null,
            "grid_template_areas": null,
            "grid_template_columns": null,
            "grid_template_rows": null,
            "height": null,
            "justify_content": null,
            "justify_items": null,
            "left": null,
            "margin": null,
            "max_height": null,
            "max_width": null,
            "min_height": null,
            "min_width": null,
            "object_fit": null,
            "object_position": null,
            "order": null,
            "overflow": null,
            "overflow_x": null,
            "overflow_y": null,
            "padding": null,
            "right": null,
            "top": null,
            "visibility": null,
            "width": null
          }
        },
        "082b10a819aa4b55be904f5e819f21e4": {
          "model_module": "@jupyter-widgets/base",
          "model_name": "LayoutModel",
          "model_module_version": "1.2.0",
          "state": {
            "_model_module": "@jupyter-widgets/base",
            "_model_module_version": "1.2.0",
            "_model_name": "LayoutModel",
            "_view_count": null,
            "_view_module": "@jupyter-widgets/base",
            "_view_module_version": "1.2.0",
            "_view_name": "LayoutView",
            "align_content": null,
            "align_items": null,
            "align_self": null,
            "border": null,
            "bottom": null,
            "display": null,
            "flex": null,
            "flex_flow": null,
            "grid_area": null,
            "grid_auto_columns": null,
            "grid_auto_flow": null,
            "grid_auto_rows": null,
            "grid_column": null,
            "grid_gap": null,
            "grid_row": null,
            "grid_template_areas": null,
            "grid_template_columns": null,
            "grid_template_rows": null,
            "height": null,
            "justify_content": null,
            "justify_items": null,
            "left": null,
            "margin": null,
            "max_height": null,
            "max_width": null,
            "min_height": null,
            "min_width": null,
            "object_fit": null,
            "object_position": null,
            "order": null,
            "overflow": null,
            "overflow_x": null,
            "overflow_y": null,
            "padding": null,
            "right": null,
            "top": null,
            "visibility": null,
            "width": null
          }
        },
        "85a9f70d879a435b84b210eca753eb4a": {
          "model_module": "@jupyter-widgets/controls",
          "model_name": "DescriptionStyleModel",
          "model_module_version": "1.5.0",
          "state": {
            "_model_module": "@jupyter-widgets/controls",
            "_model_module_version": "1.5.0",
            "_model_name": "DescriptionStyleModel",
            "_view_count": null,
            "_view_module": "@jupyter-widgets/base",
            "_view_module_version": "1.2.0",
            "_view_name": "StyleView",
            "description_width": ""
          }
        },
        "8132e13183f948b989237b28eaaabac9": {
          "model_module": "@jupyter-widgets/base",
          "model_name": "LayoutModel",
          "model_module_version": "1.2.0",
          "state": {
            "_model_module": "@jupyter-widgets/base",
            "_model_module_version": "1.2.0",
            "_model_name": "LayoutModel",
            "_view_count": null,
            "_view_module": "@jupyter-widgets/base",
            "_view_module_version": "1.2.0",
            "_view_name": "LayoutView",
            "align_content": null,
            "align_items": null,
            "align_self": null,
            "border": null,
            "bottom": null,
            "display": null,
            "flex": null,
            "flex_flow": null,
            "grid_area": null,
            "grid_auto_columns": null,
            "grid_auto_flow": null,
            "grid_auto_rows": null,
            "grid_column": null,
            "grid_gap": null,
            "grid_row": null,
            "grid_template_areas": null,
            "grid_template_columns": null,
            "grid_template_rows": null,
            "height": null,
            "justify_content": null,
            "justify_items": null,
            "left": null,
            "margin": null,
            "max_height": null,
            "max_width": null,
            "min_height": null,
            "min_width": null,
            "object_fit": null,
            "object_position": null,
            "order": null,
            "overflow": null,
            "overflow_x": null,
            "overflow_y": null,
            "padding": null,
            "right": null,
            "top": null,
            "visibility": null,
            "width": null
          }
        },
        "a2af4d6276db4fc1a4c9846ae3b8fa1e": {
          "model_module": "@jupyter-widgets/controls",
          "model_name": "ProgressStyleModel",
          "model_module_version": "1.5.0",
          "state": {
            "_model_module": "@jupyter-widgets/controls",
            "_model_module_version": "1.5.0",
            "_model_name": "ProgressStyleModel",
            "_view_count": null,
            "_view_module": "@jupyter-widgets/base",
            "_view_module_version": "1.2.0",
            "_view_name": "StyleView",
            "bar_color": null,
            "description_width": ""
          }
        },
        "8826352f6e8c420982c2f1f414b37784": {
          "model_module": "@jupyter-widgets/base",
          "model_name": "LayoutModel",
          "model_module_version": "1.2.0",
          "state": {
            "_model_module": "@jupyter-widgets/base",
            "_model_module_version": "1.2.0",
            "_model_name": "LayoutModel",
            "_view_count": null,
            "_view_module": "@jupyter-widgets/base",
            "_view_module_version": "1.2.0",
            "_view_name": "LayoutView",
            "align_content": null,
            "align_items": null,
            "align_self": null,
            "border": null,
            "bottom": null,
            "display": null,
            "flex": null,
            "flex_flow": null,
            "grid_area": null,
            "grid_auto_columns": null,
            "grid_auto_flow": null,
            "grid_auto_rows": null,
            "grid_column": null,
            "grid_gap": null,
            "grid_row": null,
            "grid_template_areas": null,
            "grid_template_columns": null,
            "grid_template_rows": null,
            "height": null,
            "justify_content": null,
            "justify_items": null,
            "left": null,
            "margin": null,
            "max_height": null,
            "max_width": null,
            "min_height": null,
            "min_width": null,
            "object_fit": null,
            "object_position": null,
            "order": null,
            "overflow": null,
            "overflow_x": null,
            "overflow_y": null,
            "padding": null,
            "right": null,
            "top": null,
            "visibility": null,
            "width": null
          }
        },
        "d287b942f5d64c459909a87ceb16cfb0": {
          "model_module": "@jupyter-widgets/controls",
          "model_name": "DescriptionStyleModel",
          "model_module_version": "1.5.0",
          "state": {
            "_model_module": "@jupyter-widgets/controls",
            "_model_module_version": "1.5.0",
            "_model_name": "DescriptionStyleModel",
            "_view_count": null,
            "_view_module": "@jupyter-widgets/base",
            "_view_module_version": "1.2.0",
            "_view_name": "StyleView",
            "description_width": ""
          }
        },
        "81c4682130284fb89241754972f9e020": {
          "model_module": "@jupyter-widgets/controls",
          "model_name": "HBoxModel",
          "model_module_version": "1.5.0",
          "state": {
            "_dom_classes": [],
            "_model_module": "@jupyter-widgets/controls",
            "_model_module_version": "1.5.0",
            "_model_name": "HBoxModel",
            "_view_count": null,
            "_view_module": "@jupyter-widgets/controls",
            "_view_module_version": "1.5.0",
            "_view_name": "HBoxView",
            "box_style": "",
            "children": [
              "IPY_MODEL_c26782b0ecc54960a317e0d3778687e1",
              "IPY_MODEL_b0b612eaaf624b4a9b6439136cc20520",
              "IPY_MODEL_c5a5fdf11cbc41a3bff32ab95e8ef606"
            ],
            "layout": "IPY_MODEL_b64d5fc086044682b295402d14a43ae2"
          }
        },
        "c26782b0ecc54960a317e0d3778687e1": {
          "model_module": "@jupyter-widgets/controls",
          "model_name": "HTMLModel",
          "model_module_version": "1.5.0",
          "state": {
            "_dom_classes": [],
            "_model_module": "@jupyter-widgets/controls",
            "_model_module_version": "1.5.0",
            "_model_name": "HTMLModel",
            "_view_count": null,
            "_view_module": "@jupyter-widgets/controls",
            "_view_module_version": "1.5.0",
            "_view_name": "HTMLView",
            "description": "",
            "description_tooltip": null,
            "layout": "IPY_MODEL_8acd27e6e5334a7a886ba69a9e51945c",
            "placeholder": "​",
            "style": "IPY_MODEL_beb87105c3cf495db42d771dc02ed8bc",
            "value": "Iteration: [11/11] 100%"
          }
        },
        "b0b612eaaf624b4a9b6439136cc20520": {
          "model_module": "@jupyter-widgets/controls",
          "model_name": "FloatProgressModel",
          "model_module_version": "1.5.0",
          "state": {
            "_dom_classes": [],
            "_model_module": "@jupyter-widgets/controls",
            "_model_module_version": "1.5.0",
            "_model_name": "FloatProgressModel",
            "_view_count": null,
            "_view_module": "@jupyter-widgets/controls",
            "_view_module_version": "1.5.0",
            "_view_name": "ProgressView",
            "bar_style": "",
            "description": "",
            "description_tooltip": null,
            "layout": "IPY_MODEL_3e79665508d6473e81a86b4fc2045d66",
            "max": 11,
            "min": 0,
            "orientation": "horizontal",
            "style": "IPY_MODEL_d3265d17e2b9463e95b1679ad9c8c03e",
            "value": 11
          }
        },
        "c5a5fdf11cbc41a3bff32ab95e8ef606": {
          "model_module": "@jupyter-widgets/controls",
          "model_name": "HTMLModel",
          "model_module_version": "1.5.0",
          "state": {
            "_dom_classes": [],
            "_model_module": "@jupyter-widgets/controls",
            "_model_module_version": "1.5.0",
            "_model_name": "HTMLModel",
            "_view_count": null,
            "_view_module": "@jupyter-widgets/controls",
            "_view_module_version": "1.5.0",
            "_view_name": "HTMLView",
            "description": "",
            "description_tooltip": null,
            "layout": "IPY_MODEL_8641a6f476fd4693bcf052dd8e23813c",
            "placeholder": "​",
            "style": "IPY_MODEL_caf97038ad954f0395323846885e8181",
            "value": " [00:04&lt;00:00]"
          }
        },
        "b64d5fc086044682b295402d14a43ae2": {
          "model_module": "@jupyter-widgets/base",
          "model_name": "LayoutModel",
          "model_module_version": "1.2.0",
          "state": {
            "_model_module": "@jupyter-widgets/base",
            "_model_module_version": "1.2.0",
            "_model_name": "LayoutModel",
            "_view_count": null,
            "_view_module": "@jupyter-widgets/base",
            "_view_module_version": "1.2.0",
            "_view_name": "LayoutView",
            "align_content": null,
            "align_items": null,
            "align_self": null,
            "border": null,
            "bottom": null,
            "display": null,
            "flex": null,
            "flex_flow": null,
            "grid_area": null,
            "grid_auto_columns": null,
            "grid_auto_flow": null,
            "grid_auto_rows": null,
            "grid_column": null,
            "grid_gap": null,
            "grid_row": null,
            "grid_template_areas": null,
            "grid_template_columns": null,
            "grid_template_rows": null,
            "height": null,
            "justify_content": null,
            "justify_items": null,
            "left": null,
            "margin": null,
            "max_height": null,
            "max_width": null,
            "min_height": null,
            "min_width": null,
            "object_fit": null,
            "object_position": null,
            "order": null,
            "overflow": null,
            "overflow_x": null,
            "overflow_y": null,
            "padding": null,
            "right": null,
            "top": null,
            "visibility": null,
            "width": null
          }
        },
        "8acd27e6e5334a7a886ba69a9e51945c": {
          "model_module": "@jupyter-widgets/base",
          "model_name": "LayoutModel",
          "model_module_version": "1.2.0",
          "state": {
            "_model_module": "@jupyter-widgets/base",
            "_model_module_version": "1.2.0",
            "_model_name": "LayoutModel",
            "_view_count": null,
            "_view_module": "@jupyter-widgets/base",
            "_view_module_version": "1.2.0",
            "_view_name": "LayoutView",
            "align_content": null,
            "align_items": null,
            "align_self": null,
            "border": null,
            "bottom": null,
            "display": null,
            "flex": null,
            "flex_flow": null,
            "grid_area": null,
            "grid_auto_columns": null,
            "grid_auto_flow": null,
            "grid_auto_rows": null,
            "grid_column": null,
            "grid_gap": null,
            "grid_row": null,
            "grid_template_areas": null,
            "grid_template_columns": null,
            "grid_template_rows": null,
            "height": null,
            "justify_content": null,
            "justify_items": null,
            "left": null,
            "margin": null,
            "max_height": null,
            "max_width": null,
            "min_height": null,
            "min_width": null,
            "object_fit": null,
            "object_position": null,
            "order": null,
            "overflow": null,
            "overflow_x": null,
            "overflow_y": null,
            "padding": null,
            "right": null,
            "top": null,
            "visibility": null,
            "width": null
          }
        },
        "beb87105c3cf495db42d771dc02ed8bc": {
          "model_module": "@jupyter-widgets/controls",
          "model_name": "DescriptionStyleModel",
          "model_module_version": "1.5.0",
          "state": {
            "_model_module": "@jupyter-widgets/controls",
            "_model_module_version": "1.5.0",
            "_model_name": "DescriptionStyleModel",
            "_view_count": null,
            "_view_module": "@jupyter-widgets/base",
            "_view_module_version": "1.2.0",
            "_view_name": "StyleView",
            "description_width": ""
          }
        },
        "3e79665508d6473e81a86b4fc2045d66": {
          "model_module": "@jupyter-widgets/base",
          "model_name": "LayoutModel",
          "model_module_version": "1.2.0",
          "state": {
            "_model_module": "@jupyter-widgets/base",
            "_model_module_version": "1.2.0",
            "_model_name": "LayoutModel",
            "_view_count": null,
            "_view_module": "@jupyter-widgets/base",
            "_view_module_version": "1.2.0",
            "_view_name": "LayoutView",
            "align_content": null,
            "align_items": null,
            "align_self": null,
            "border": null,
            "bottom": null,
            "display": null,
            "flex": null,
            "flex_flow": null,
            "grid_area": null,
            "grid_auto_columns": null,
            "grid_auto_flow": null,
            "grid_auto_rows": null,
            "grid_column": null,
            "grid_gap": null,
            "grid_row": null,
            "grid_template_areas": null,
            "grid_template_columns": null,
            "grid_template_rows": null,
            "height": null,
            "justify_content": null,
            "justify_items": null,
            "left": null,
            "margin": null,
            "max_height": null,
            "max_width": null,
            "min_height": null,
            "min_width": null,
            "object_fit": null,
            "object_position": null,
            "order": null,
            "overflow": null,
            "overflow_x": null,
            "overflow_y": null,
            "padding": null,
            "right": null,
            "top": null,
            "visibility": null,
            "width": null
          }
        },
        "d3265d17e2b9463e95b1679ad9c8c03e": {
          "model_module": "@jupyter-widgets/controls",
          "model_name": "ProgressStyleModel",
          "model_module_version": "1.5.0",
          "state": {
            "_model_module": "@jupyter-widgets/controls",
            "_model_module_version": "1.5.0",
            "_model_name": "ProgressStyleModel",
            "_view_count": null,
            "_view_module": "@jupyter-widgets/base",
            "_view_module_version": "1.2.0",
            "_view_name": "StyleView",
            "bar_color": null,
            "description_width": ""
          }
        },
        "8641a6f476fd4693bcf052dd8e23813c": {
          "model_module": "@jupyter-widgets/base",
          "model_name": "LayoutModel",
          "model_module_version": "1.2.0",
          "state": {
            "_model_module": "@jupyter-widgets/base",
            "_model_module_version": "1.2.0",
            "_model_name": "LayoutModel",
            "_view_count": null,
            "_view_module": "@jupyter-widgets/base",
            "_view_module_version": "1.2.0",
            "_view_name": "LayoutView",
            "align_content": null,
            "align_items": null,
            "align_self": null,
            "border": null,
            "bottom": null,
            "display": null,
            "flex": null,
            "flex_flow": null,
            "grid_area": null,
            "grid_auto_columns": null,
            "grid_auto_flow": null,
            "grid_auto_rows": null,
            "grid_column": null,
            "grid_gap": null,
            "grid_row": null,
            "grid_template_areas": null,
            "grid_template_columns": null,
            "grid_template_rows": null,
            "height": null,
            "justify_content": null,
            "justify_items": null,
            "left": null,
            "margin": null,
            "max_height": null,
            "max_width": null,
            "min_height": null,
            "min_width": null,
            "object_fit": null,
            "object_position": null,
            "order": null,
            "overflow": null,
            "overflow_x": null,
            "overflow_y": null,
            "padding": null,
            "right": null,
            "top": null,
            "visibility": null,
            "width": null
          }
        },
        "caf97038ad954f0395323846885e8181": {
          "model_module": "@jupyter-widgets/controls",
          "model_name": "DescriptionStyleModel",
          "model_module_version": "1.5.0",
          "state": {
            "_model_module": "@jupyter-widgets/controls",
            "_model_module_version": "1.5.0",
            "_model_name": "DescriptionStyleModel",
            "_view_count": null,
            "_view_module": "@jupyter-widgets/base",
            "_view_module_version": "1.2.0",
            "_view_name": "StyleView",
            "description_width": ""
          }
        },
        "6dbf9b683c07440196a5c28090f4bba8": {
          "model_module": "@jupyter-widgets/controls",
          "model_name": "HBoxModel",
          "model_module_version": "1.5.0",
          "state": {
            "_dom_classes": [],
            "_model_module": "@jupyter-widgets/controls",
            "_model_module_version": "1.5.0",
            "_model_name": "HBoxModel",
            "_view_count": null,
            "_view_module": "@jupyter-widgets/controls",
            "_view_module_version": "1.5.0",
            "_view_name": "HBoxView",
            "box_style": "",
            "children": [
              "IPY_MODEL_050890cda92448918682d29b682b910b",
              "IPY_MODEL_7f69d53121b24bdf81bca9faf37218e0",
              "IPY_MODEL_74e2828868294994a744369cc40d4964"
            ],
            "layout": "IPY_MODEL_fc408c7c63564db9875767e3f9fcb5ad"
          }
        },
        "050890cda92448918682d29b682b910b": {
          "model_module": "@jupyter-widgets/controls",
          "model_name": "HTMLModel",
          "model_module_version": "1.5.0",
          "state": {
            "_dom_classes": [],
            "_model_module": "@jupyter-widgets/controls",
            "_model_module_version": "1.5.0",
            "_model_name": "HTMLModel",
            "_view_count": null,
            "_view_module": "@jupyter-widgets/controls",
            "_view_module_version": "1.5.0",
            "_view_name": "HTMLView",
            "description": "",
            "description_tooltip": null,
            "layout": "IPY_MODEL_a8c1624e04a849bab495d93354fce5f2",
            "placeholder": "​",
            "style": "IPY_MODEL_ddef02ec90ac4fd180c9239ca9bd0911",
            "value": "Iteration: [11/11] 100%"
          }
        },
        "7f69d53121b24bdf81bca9faf37218e0": {
          "model_module": "@jupyter-widgets/controls",
          "model_name": "FloatProgressModel",
          "model_module_version": "1.5.0",
          "state": {
            "_dom_classes": [],
            "_model_module": "@jupyter-widgets/controls",
            "_model_module_version": "1.5.0",
            "_model_name": "FloatProgressModel",
            "_view_count": null,
            "_view_module": "@jupyter-widgets/controls",
            "_view_module_version": "1.5.0",
            "_view_name": "ProgressView",
            "bar_style": "",
            "description": "",
            "description_tooltip": null,
            "layout": "IPY_MODEL_96042c5eea9545dabbb21296b3c028a6",
            "max": 11,
            "min": 0,
            "orientation": "horizontal",
            "style": "IPY_MODEL_4a3d8f863e314244aa0f7276d2cf78dc",
            "value": 11
          }
        },
        "74e2828868294994a744369cc40d4964": {
          "model_module": "@jupyter-widgets/controls",
          "model_name": "HTMLModel",
          "model_module_version": "1.5.0",
          "state": {
            "_dom_classes": [],
            "_model_module": "@jupyter-widgets/controls",
            "_model_module_version": "1.5.0",
            "_model_name": "HTMLModel",
            "_view_count": null,
            "_view_module": "@jupyter-widgets/controls",
            "_view_module_version": "1.5.0",
            "_view_name": "HTMLView",
            "description": "",
            "description_tooltip": null,
            "layout": "IPY_MODEL_f313ff683419450fa7313b4188c9e07e",
            "placeholder": "​",
            "style": "IPY_MODEL_f3f88d17258c49f18d93043f40ab3252",
            "value": " [00:04&lt;00:00]"
          }
        },
        "fc408c7c63564db9875767e3f9fcb5ad": {
          "model_module": "@jupyter-widgets/base",
          "model_name": "LayoutModel",
          "model_module_version": "1.2.0",
          "state": {
            "_model_module": "@jupyter-widgets/base",
            "_model_module_version": "1.2.0",
            "_model_name": "LayoutModel",
            "_view_count": null,
            "_view_module": "@jupyter-widgets/base",
            "_view_module_version": "1.2.0",
            "_view_name": "LayoutView",
            "align_content": null,
            "align_items": null,
            "align_self": null,
            "border": null,
            "bottom": null,
            "display": null,
            "flex": null,
            "flex_flow": null,
            "grid_area": null,
            "grid_auto_columns": null,
            "grid_auto_flow": null,
            "grid_auto_rows": null,
            "grid_column": null,
            "grid_gap": null,
            "grid_row": null,
            "grid_template_areas": null,
            "grid_template_columns": null,
            "grid_template_rows": null,
            "height": null,
            "justify_content": null,
            "justify_items": null,
            "left": null,
            "margin": null,
            "max_height": null,
            "max_width": null,
            "min_height": null,
            "min_width": null,
            "object_fit": null,
            "object_position": null,
            "order": null,
            "overflow": null,
            "overflow_x": null,
            "overflow_y": null,
            "padding": null,
            "right": null,
            "top": null,
            "visibility": null,
            "width": null
          }
        },
        "a8c1624e04a849bab495d93354fce5f2": {
          "model_module": "@jupyter-widgets/base",
          "model_name": "LayoutModel",
          "model_module_version": "1.2.0",
          "state": {
            "_model_module": "@jupyter-widgets/base",
            "_model_module_version": "1.2.0",
            "_model_name": "LayoutModel",
            "_view_count": null,
            "_view_module": "@jupyter-widgets/base",
            "_view_module_version": "1.2.0",
            "_view_name": "LayoutView",
            "align_content": null,
            "align_items": null,
            "align_self": null,
            "border": null,
            "bottom": null,
            "display": null,
            "flex": null,
            "flex_flow": null,
            "grid_area": null,
            "grid_auto_columns": null,
            "grid_auto_flow": null,
            "grid_auto_rows": null,
            "grid_column": null,
            "grid_gap": null,
            "grid_row": null,
            "grid_template_areas": null,
            "grid_template_columns": null,
            "grid_template_rows": null,
            "height": null,
            "justify_content": null,
            "justify_items": null,
            "left": null,
            "margin": null,
            "max_height": null,
            "max_width": null,
            "min_height": null,
            "min_width": null,
            "object_fit": null,
            "object_position": null,
            "order": null,
            "overflow": null,
            "overflow_x": null,
            "overflow_y": null,
            "padding": null,
            "right": null,
            "top": null,
            "visibility": null,
            "width": null
          }
        },
        "ddef02ec90ac4fd180c9239ca9bd0911": {
          "model_module": "@jupyter-widgets/controls",
          "model_name": "DescriptionStyleModel",
          "model_module_version": "1.5.0",
          "state": {
            "_model_module": "@jupyter-widgets/controls",
            "_model_module_version": "1.5.0",
            "_model_name": "DescriptionStyleModel",
            "_view_count": null,
            "_view_module": "@jupyter-widgets/base",
            "_view_module_version": "1.2.0",
            "_view_name": "StyleView",
            "description_width": ""
          }
        },
        "96042c5eea9545dabbb21296b3c028a6": {
          "model_module": "@jupyter-widgets/base",
          "model_name": "LayoutModel",
          "model_module_version": "1.2.0",
          "state": {
            "_model_module": "@jupyter-widgets/base",
            "_model_module_version": "1.2.0",
            "_model_name": "LayoutModel",
            "_view_count": null,
            "_view_module": "@jupyter-widgets/base",
            "_view_module_version": "1.2.0",
            "_view_name": "LayoutView",
            "align_content": null,
            "align_items": null,
            "align_self": null,
            "border": null,
            "bottom": null,
            "display": null,
            "flex": null,
            "flex_flow": null,
            "grid_area": null,
            "grid_auto_columns": null,
            "grid_auto_flow": null,
            "grid_auto_rows": null,
            "grid_column": null,
            "grid_gap": null,
            "grid_row": null,
            "grid_template_areas": null,
            "grid_template_columns": null,
            "grid_template_rows": null,
            "height": null,
            "justify_content": null,
            "justify_items": null,
            "left": null,
            "margin": null,
            "max_height": null,
            "max_width": null,
            "min_height": null,
            "min_width": null,
            "object_fit": null,
            "object_position": null,
            "order": null,
            "overflow": null,
            "overflow_x": null,
            "overflow_y": null,
            "padding": null,
            "right": null,
            "top": null,
            "visibility": null,
            "width": null
          }
        },
        "4a3d8f863e314244aa0f7276d2cf78dc": {
          "model_module": "@jupyter-widgets/controls",
          "model_name": "ProgressStyleModel",
          "model_module_version": "1.5.0",
          "state": {
            "_model_module": "@jupyter-widgets/controls",
            "_model_module_version": "1.5.0",
            "_model_name": "ProgressStyleModel",
            "_view_count": null,
            "_view_module": "@jupyter-widgets/base",
            "_view_module_version": "1.2.0",
            "_view_name": "StyleView",
            "bar_color": null,
            "description_width": ""
          }
        },
        "f313ff683419450fa7313b4188c9e07e": {
          "model_module": "@jupyter-widgets/base",
          "model_name": "LayoutModel",
          "model_module_version": "1.2.0",
          "state": {
            "_model_module": "@jupyter-widgets/base",
            "_model_module_version": "1.2.0",
            "_model_name": "LayoutModel",
            "_view_count": null,
            "_view_module": "@jupyter-widgets/base",
            "_view_module_version": "1.2.0",
            "_view_name": "LayoutView",
            "align_content": null,
            "align_items": null,
            "align_self": null,
            "border": null,
            "bottom": null,
            "display": null,
            "flex": null,
            "flex_flow": null,
            "grid_area": null,
            "grid_auto_columns": null,
            "grid_auto_flow": null,
            "grid_auto_rows": null,
            "grid_column": null,
            "grid_gap": null,
            "grid_row": null,
            "grid_template_areas": null,
            "grid_template_columns": null,
            "grid_template_rows": null,
            "height": null,
            "justify_content": null,
            "justify_items": null,
            "left": null,
            "margin": null,
            "max_height": null,
            "max_width": null,
            "min_height": null,
            "min_width": null,
            "object_fit": null,
            "object_position": null,
            "order": null,
            "overflow": null,
            "overflow_x": null,
            "overflow_y": null,
            "padding": null,
            "right": null,
            "top": null,
            "visibility": null,
            "width": null
          }
        },
        "f3f88d17258c49f18d93043f40ab3252": {
          "model_module": "@jupyter-widgets/controls",
          "model_name": "DescriptionStyleModel",
          "model_module_version": "1.5.0",
          "state": {
            "_model_module": "@jupyter-widgets/controls",
            "_model_module_version": "1.5.0",
            "_model_name": "DescriptionStyleModel",
            "_view_count": null,
            "_view_module": "@jupyter-widgets/base",
            "_view_module_version": "1.2.0",
            "_view_name": "StyleView",
            "description_width": ""
          }
        },
        "04b6f328e88b439cb7e53c60c0602766": {
          "model_module": "@jupyter-widgets/controls",
          "model_name": "HBoxModel",
          "model_module_version": "1.5.0",
          "state": {
            "_dom_classes": [],
            "_model_module": "@jupyter-widgets/controls",
            "_model_module_version": "1.5.0",
            "_model_name": "HBoxModel",
            "_view_count": null,
            "_view_module": "@jupyter-widgets/controls",
            "_view_module_version": "1.5.0",
            "_view_name": "HBoxView",
            "box_style": "",
            "children": [
              "IPY_MODEL_8d99926f2e9647db81e9b06cd35a54fd",
              "IPY_MODEL_207b5e5eb80641788b586e7dfbbba79c",
              "IPY_MODEL_95906232557946c9a057cb351fdf3ed2"
            ],
            "layout": "IPY_MODEL_16d447071fda4f198626aeb23b528cb6"
          }
        },
        "8d99926f2e9647db81e9b06cd35a54fd": {
          "model_module": "@jupyter-widgets/controls",
          "model_name": "HTMLModel",
          "model_module_version": "1.5.0",
          "state": {
            "_dom_classes": [],
            "_model_module": "@jupyter-widgets/controls",
            "_model_module_version": "1.5.0",
            "_model_name": "HTMLModel",
            "_view_count": null,
            "_view_module": "@jupyter-widgets/controls",
            "_view_module_version": "1.5.0",
            "_view_name": "HTMLView",
            "description": "",
            "description_tooltip": null,
            "layout": "IPY_MODEL_d378f1b23431415ca5d35f17afe3e865",
            "placeholder": "​",
            "style": "IPY_MODEL_b436800b125244549b6b82096bed30da",
            "value": "Iteration: [33/33] 100%"
          }
        },
        "207b5e5eb80641788b586e7dfbbba79c": {
          "model_module": "@jupyter-widgets/controls",
          "model_name": "FloatProgressModel",
          "model_module_version": "1.5.0",
          "state": {
            "_dom_classes": [],
            "_model_module": "@jupyter-widgets/controls",
            "_model_module_version": "1.5.0",
            "_model_name": "FloatProgressModel",
            "_view_count": null,
            "_view_module": "@jupyter-widgets/controls",
            "_view_module_version": "1.5.0",
            "_view_name": "ProgressView",
            "bar_style": "",
            "description": "",
            "description_tooltip": null,
            "layout": "IPY_MODEL_54a2b9fd62b04c1d8180495b8a8e507a",
            "max": 33,
            "min": 0,
            "orientation": "horizontal",
            "style": "IPY_MODEL_f665dd092c294216bf5d399f955ab989",
            "value": 33
          }
        },
        "95906232557946c9a057cb351fdf3ed2": {
          "model_module": "@jupyter-widgets/controls",
          "model_name": "HTMLModel",
          "model_module_version": "1.5.0",
          "state": {
            "_dom_classes": [],
            "_model_module": "@jupyter-widgets/controls",
            "_model_module_version": "1.5.0",
            "_model_name": "HTMLModel",
            "_view_count": null,
            "_view_module": "@jupyter-widgets/controls",
            "_view_module_version": "1.5.0",
            "_view_name": "HTMLView",
            "description": "",
            "description_tooltip": null,
            "layout": "IPY_MODEL_0921c23645cd4c2bb19cef0b43b6cbf2",
            "placeholder": "​",
            "style": "IPY_MODEL_0f94fd53443942d9a2cf048143a15030",
            "value": " [00:34&lt;00:00]"
          }
        },
        "16d447071fda4f198626aeb23b528cb6": {
          "model_module": "@jupyter-widgets/base",
          "model_name": "LayoutModel",
          "model_module_version": "1.2.0",
          "state": {
            "_model_module": "@jupyter-widgets/base",
            "_model_module_version": "1.2.0",
            "_model_name": "LayoutModel",
            "_view_count": null,
            "_view_module": "@jupyter-widgets/base",
            "_view_module_version": "1.2.0",
            "_view_name": "LayoutView",
            "align_content": null,
            "align_items": null,
            "align_self": null,
            "border": null,
            "bottom": null,
            "display": null,
            "flex": null,
            "flex_flow": null,
            "grid_area": null,
            "grid_auto_columns": null,
            "grid_auto_flow": null,
            "grid_auto_rows": null,
            "grid_column": null,
            "grid_gap": null,
            "grid_row": null,
            "grid_template_areas": null,
            "grid_template_columns": null,
            "grid_template_rows": null,
            "height": null,
            "justify_content": null,
            "justify_items": null,
            "left": null,
            "margin": null,
            "max_height": null,
            "max_width": null,
            "min_height": null,
            "min_width": null,
            "object_fit": null,
            "object_position": null,
            "order": null,
            "overflow": null,
            "overflow_x": null,
            "overflow_y": null,
            "padding": null,
            "right": null,
            "top": null,
            "visibility": null,
            "width": null
          }
        },
        "d378f1b23431415ca5d35f17afe3e865": {
          "model_module": "@jupyter-widgets/base",
          "model_name": "LayoutModel",
          "model_module_version": "1.2.0",
          "state": {
            "_model_module": "@jupyter-widgets/base",
            "_model_module_version": "1.2.0",
            "_model_name": "LayoutModel",
            "_view_count": null,
            "_view_module": "@jupyter-widgets/base",
            "_view_module_version": "1.2.0",
            "_view_name": "LayoutView",
            "align_content": null,
            "align_items": null,
            "align_self": null,
            "border": null,
            "bottom": null,
            "display": null,
            "flex": null,
            "flex_flow": null,
            "grid_area": null,
            "grid_auto_columns": null,
            "grid_auto_flow": null,
            "grid_auto_rows": null,
            "grid_column": null,
            "grid_gap": null,
            "grid_row": null,
            "grid_template_areas": null,
            "grid_template_columns": null,
            "grid_template_rows": null,
            "height": null,
            "justify_content": null,
            "justify_items": null,
            "left": null,
            "margin": null,
            "max_height": null,
            "max_width": null,
            "min_height": null,
            "min_width": null,
            "object_fit": null,
            "object_position": null,
            "order": null,
            "overflow": null,
            "overflow_x": null,
            "overflow_y": null,
            "padding": null,
            "right": null,
            "top": null,
            "visibility": null,
            "width": null
          }
        },
        "b436800b125244549b6b82096bed30da": {
          "model_module": "@jupyter-widgets/controls",
          "model_name": "DescriptionStyleModel",
          "model_module_version": "1.5.0",
          "state": {
            "_model_module": "@jupyter-widgets/controls",
            "_model_module_version": "1.5.0",
            "_model_name": "DescriptionStyleModel",
            "_view_count": null,
            "_view_module": "@jupyter-widgets/base",
            "_view_module_version": "1.2.0",
            "_view_name": "StyleView",
            "description_width": ""
          }
        },
        "54a2b9fd62b04c1d8180495b8a8e507a": {
          "model_module": "@jupyter-widgets/base",
          "model_name": "LayoutModel",
          "model_module_version": "1.2.0",
          "state": {
            "_model_module": "@jupyter-widgets/base",
            "_model_module_version": "1.2.0",
            "_model_name": "LayoutModel",
            "_view_count": null,
            "_view_module": "@jupyter-widgets/base",
            "_view_module_version": "1.2.0",
            "_view_name": "LayoutView",
            "align_content": null,
            "align_items": null,
            "align_self": null,
            "border": null,
            "bottom": null,
            "display": null,
            "flex": null,
            "flex_flow": null,
            "grid_area": null,
            "grid_auto_columns": null,
            "grid_auto_flow": null,
            "grid_auto_rows": null,
            "grid_column": null,
            "grid_gap": null,
            "grid_row": null,
            "grid_template_areas": null,
            "grid_template_columns": null,
            "grid_template_rows": null,
            "height": null,
            "justify_content": null,
            "justify_items": null,
            "left": null,
            "margin": null,
            "max_height": null,
            "max_width": null,
            "min_height": null,
            "min_width": null,
            "object_fit": null,
            "object_position": null,
            "order": null,
            "overflow": null,
            "overflow_x": null,
            "overflow_y": null,
            "padding": null,
            "right": null,
            "top": null,
            "visibility": null,
            "width": null
          }
        },
        "f665dd092c294216bf5d399f955ab989": {
          "model_module": "@jupyter-widgets/controls",
          "model_name": "ProgressStyleModel",
          "model_module_version": "1.5.0",
          "state": {
            "_model_module": "@jupyter-widgets/controls",
            "_model_module_version": "1.5.0",
            "_model_name": "ProgressStyleModel",
            "_view_count": null,
            "_view_module": "@jupyter-widgets/base",
            "_view_module_version": "1.2.0",
            "_view_name": "StyleView",
            "bar_color": null,
            "description_width": ""
          }
        },
        "0921c23645cd4c2bb19cef0b43b6cbf2": {
          "model_module": "@jupyter-widgets/base",
          "model_name": "LayoutModel",
          "model_module_version": "1.2.0",
          "state": {
            "_model_module": "@jupyter-widgets/base",
            "_model_module_version": "1.2.0",
            "_model_name": "LayoutModel",
            "_view_count": null,
            "_view_module": "@jupyter-widgets/base",
            "_view_module_version": "1.2.0",
            "_view_name": "LayoutView",
            "align_content": null,
            "align_items": null,
            "align_self": null,
            "border": null,
            "bottom": null,
            "display": null,
            "flex": null,
            "flex_flow": null,
            "grid_area": null,
            "grid_auto_columns": null,
            "grid_auto_flow": null,
            "grid_auto_rows": null,
            "grid_column": null,
            "grid_gap": null,
            "grid_row": null,
            "grid_template_areas": null,
            "grid_template_columns": null,
            "grid_template_rows": null,
            "height": null,
            "justify_content": null,
            "justify_items": null,
            "left": null,
            "margin": null,
            "max_height": null,
            "max_width": null,
            "min_height": null,
            "min_width": null,
            "object_fit": null,
            "object_position": null,
            "order": null,
            "overflow": null,
            "overflow_x": null,
            "overflow_y": null,
            "padding": null,
            "right": null,
            "top": null,
            "visibility": null,
            "width": null
          }
        },
        "0f94fd53443942d9a2cf048143a15030": {
          "model_module": "@jupyter-widgets/controls",
          "model_name": "DescriptionStyleModel",
          "model_module_version": "1.5.0",
          "state": {
            "_model_module": "@jupyter-widgets/controls",
            "_model_module_version": "1.5.0",
            "_model_name": "DescriptionStyleModel",
            "_view_count": null,
            "_view_module": "@jupyter-widgets/base",
            "_view_module_version": "1.2.0",
            "_view_name": "StyleView",
            "description_width": ""
          }
        },
        "770ec62f741544c1ac91c6b3ec43b682": {
          "model_module": "@jupyter-widgets/controls",
          "model_name": "HBoxModel",
          "model_module_version": "1.5.0",
          "state": {
            "_dom_classes": [],
            "_model_module": "@jupyter-widgets/controls",
            "_model_module_version": "1.5.0",
            "_model_name": "HBoxModel",
            "_view_count": null,
            "_view_module": "@jupyter-widgets/controls",
            "_view_module_version": "1.5.0",
            "_view_name": "HBoxView",
            "box_style": "",
            "children": [
              "IPY_MODEL_92b55a33b0114602891b16d79a824ff8",
              "IPY_MODEL_1fddc9a67cbe455cb44667882cd369d9",
              "IPY_MODEL_4855b7542a2b4c29a2301b9e7b4ef718"
            ],
            "layout": "IPY_MODEL_b38d0400259f4d4aaf32d75e8cf1734b"
          }
        },
        "92b55a33b0114602891b16d79a824ff8": {
          "model_module": "@jupyter-widgets/controls",
          "model_name": "HTMLModel",
          "model_module_version": "1.5.0",
          "state": {
            "_dom_classes": [],
            "_model_module": "@jupyter-widgets/controls",
            "_model_module_version": "1.5.0",
            "_model_name": "HTMLModel",
            "_view_count": null,
            "_view_module": "@jupyter-widgets/controls",
            "_view_module_version": "1.5.0",
            "_view_name": "HTMLView",
            "description": "",
            "description_tooltip": null,
            "layout": "IPY_MODEL_2dac371552a743229fb35fdef3406280",
            "placeholder": "​",
            "style": "IPY_MODEL_6035768201074fb597254577ef4978cd",
            "value": "Iteration: [33/33] 100%"
          }
        },
        "1fddc9a67cbe455cb44667882cd369d9": {
          "model_module": "@jupyter-widgets/controls",
          "model_name": "FloatProgressModel",
          "model_module_version": "1.5.0",
          "state": {
            "_dom_classes": [],
            "_model_module": "@jupyter-widgets/controls",
            "_model_module_version": "1.5.0",
            "_model_name": "FloatProgressModel",
            "_view_count": null,
            "_view_module": "@jupyter-widgets/controls",
            "_view_module_version": "1.5.0",
            "_view_name": "ProgressView",
            "bar_style": "",
            "description": "",
            "description_tooltip": null,
            "layout": "IPY_MODEL_37352ca4780c4f278624b1bf86d42edb",
            "max": 33,
            "min": 0,
            "orientation": "horizontal",
            "style": "IPY_MODEL_b8c078330b7340f7989cb6b9345f72fd",
            "value": 33
          }
        },
        "4855b7542a2b4c29a2301b9e7b4ef718": {
          "model_module": "@jupyter-widgets/controls",
          "model_name": "HTMLModel",
          "model_module_version": "1.5.0",
          "state": {
            "_dom_classes": [],
            "_model_module": "@jupyter-widgets/controls",
            "_model_module_version": "1.5.0",
            "_model_name": "HTMLModel",
            "_view_count": null,
            "_view_module": "@jupyter-widgets/controls",
            "_view_module_version": "1.5.0",
            "_view_name": "HTMLView",
            "description": "",
            "description_tooltip": null,
            "layout": "IPY_MODEL_3cbf2762c6024d33b4d043fb92c2c894",
            "placeholder": "​",
            "style": "IPY_MODEL_07e5577f944e43c89bfc686e8ea4ff71",
            "value": " [00:34&lt;00:00]"
          }
        },
        "b38d0400259f4d4aaf32d75e8cf1734b": {
          "model_module": "@jupyter-widgets/base",
          "model_name": "LayoutModel",
          "model_module_version": "1.2.0",
          "state": {
            "_model_module": "@jupyter-widgets/base",
            "_model_module_version": "1.2.0",
            "_model_name": "LayoutModel",
            "_view_count": null,
            "_view_module": "@jupyter-widgets/base",
            "_view_module_version": "1.2.0",
            "_view_name": "LayoutView",
            "align_content": null,
            "align_items": null,
            "align_self": null,
            "border": null,
            "bottom": null,
            "display": null,
            "flex": null,
            "flex_flow": null,
            "grid_area": null,
            "grid_auto_columns": null,
            "grid_auto_flow": null,
            "grid_auto_rows": null,
            "grid_column": null,
            "grid_gap": null,
            "grid_row": null,
            "grid_template_areas": null,
            "grid_template_columns": null,
            "grid_template_rows": null,
            "height": null,
            "justify_content": null,
            "justify_items": null,
            "left": null,
            "margin": null,
            "max_height": null,
            "max_width": null,
            "min_height": null,
            "min_width": null,
            "object_fit": null,
            "object_position": null,
            "order": null,
            "overflow": null,
            "overflow_x": null,
            "overflow_y": null,
            "padding": null,
            "right": null,
            "top": null,
            "visibility": null,
            "width": null
          }
        },
        "2dac371552a743229fb35fdef3406280": {
          "model_module": "@jupyter-widgets/base",
          "model_name": "LayoutModel",
          "model_module_version": "1.2.0",
          "state": {
            "_model_module": "@jupyter-widgets/base",
            "_model_module_version": "1.2.0",
            "_model_name": "LayoutModel",
            "_view_count": null,
            "_view_module": "@jupyter-widgets/base",
            "_view_module_version": "1.2.0",
            "_view_name": "LayoutView",
            "align_content": null,
            "align_items": null,
            "align_self": null,
            "border": null,
            "bottom": null,
            "display": null,
            "flex": null,
            "flex_flow": null,
            "grid_area": null,
            "grid_auto_columns": null,
            "grid_auto_flow": null,
            "grid_auto_rows": null,
            "grid_column": null,
            "grid_gap": null,
            "grid_row": null,
            "grid_template_areas": null,
            "grid_template_columns": null,
            "grid_template_rows": null,
            "height": null,
            "justify_content": null,
            "justify_items": null,
            "left": null,
            "margin": null,
            "max_height": null,
            "max_width": null,
            "min_height": null,
            "min_width": null,
            "object_fit": null,
            "object_position": null,
            "order": null,
            "overflow": null,
            "overflow_x": null,
            "overflow_y": null,
            "padding": null,
            "right": null,
            "top": null,
            "visibility": null,
            "width": null
          }
        },
        "6035768201074fb597254577ef4978cd": {
          "model_module": "@jupyter-widgets/controls",
          "model_name": "DescriptionStyleModel",
          "model_module_version": "1.5.0",
          "state": {
            "_model_module": "@jupyter-widgets/controls",
            "_model_module_version": "1.5.0",
            "_model_name": "DescriptionStyleModel",
            "_view_count": null,
            "_view_module": "@jupyter-widgets/base",
            "_view_module_version": "1.2.0",
            "_view_name": "StyleView",
            "description_width": ""
          }
        },
        "37352ca4780c4f278624b1bf86d42edb": {
          "model_module": "@jupyter-widgets/base",
          "model_name": "LayoutModel",
          "model_module_version": "1.2.0",
          "state": {
            "_model_module": "@jupyter-widgets/base",
            "_model_module_version": "1.2.0",
            "_model_name": "LayoutModel",
            "_view_count": null,
            "_view_module": "@jupyter-widgets/base",
            "_view_module_version": "1.2.0",
            "_view_name": "LayoutView",
            "align_content": null,
            "align_items": null,
            "align_self": null,
            "border": null,
            "bottom": null,
            "display": null,
            "flex": null,
            "flex_flow": null,
            "grid_area": null,
            "grid_auto_columns": null,
            "grid_auto_flow": null,
            "grid_auto_rows": null,
            "grid_column": null,
            "grid_gap": null,
            "grid_row": null,
            "grid_template_areas": null,
            "grid_template_columns": null,
            "grid_template_rows": null,
            "height": null,
            "justify_content": null,
            "justify_items": null,
            "left": null,
            "margin": null,
            "max_height": null,
            "max_width": null,
            "min_height": null,
            "min_width": null,
            "object_fit": null,
            "object_position": null,
            "order": null,
            "overflow": null,
            "overflow_x": null,
            "overflow_y": null,
            "padding": null,
            "right": null,
            "top": null,
            "visibility": null,
            "width": null
          }
        },
        "b8c078330b7340f7989cb6b9345f72fd": {
          "model_module": "@jupyter-widgets/controls",
          "model_name": "ProgressStyleModel",
          "model_module_version": "1.5.0",
          "state": {
            "_model_module": "@jupyter-widgets/controls",
            "_model_module_version": "1.5.0",
            "_model_name": "ProgressStyleModel",
            "_view_count": null,
            "_view_module": "@jupyter-widgets/base",
            "_view_module_version": "1.2.0",
            "_view_name": "StyleView",
            "bar_color": null,
            "description_width": ""
          }
        },
        "3cbf2762c6024d33b4d043fb92c2c894": {
          "model_module": "@jupyter-widgets/base",
          "model_name": "LayoutModel",
          "model_module_version": "1.2.0",
          "state": {
            "_model_module": "@jupyter-widgets/base",
            "_model_module_version": "1.2.0",
            "_model_name": "LayoutModel",
            "_view_count": null,
            "_view_module": "@jupyter-widgets/base",
            "_view_module_version": "1.2.0",
            "_view_name": "LayoutView",
            "align_content": null,
            "align_items": null,
            "align_self": null,
            "border": null,
            "bottom": null,
            "display": null,
            "flex": null,
            "flex_flow": null,
            "grid_area": null,
            "grid_auto_columns": null,
            "grid_auto_flow": null,
            "grid_auto_rows": null,
            "grid_column": null,
            "grid_gap": null,
            "grid_row": null,
            "grid_template_areas": null,
            "grid_template_columns": null,
            "grid_template_rows": null,
            "height": null,
            "justify_content": null,
            "justify_items": null,
            "left": null,
            "margin": null,
            "max_height": null,
            "max_width": null,
            "min_height": null,
            "min_width": null,
            "object_fit": null,
            "object_position": null,
            "order": null,
            "overflow": null,
            "overflow_x": null,
            "overflow_y": null,
            "padding": null,
            "right": null,
            "top": null,
            "visibility": null,
            "width": null
          }
        },
        "07e5577f944e43c89bfc686e8ea4ff71": {
          "model_module": "@jupyter-widgets/controls",
          "model_name": "DescriptionStyleModel",
          "model_module_version": "1.5.0",
          "state": {
            "_model_module": "@jupyter-widgets/controls",
            "_model_module_version": "1.5.0",
            "_model_name": "DescriptionStyleModel",
            "_view_count": null,
            "_view_module": "@jupyter-widgets/base",
            "_view_module_version": "1.2.0",
            "_view_name": "StyleView",
            "description_width": ""
          }
        },
        "6f54ea0ec3a44bcb8ae8cc4ba90caca8": {
          "model_module": "@jupyter-widgets/controls",
          "model_name": "HBoxModel",
          "model_module_version": "1.5.0",
          "state": {
            "_dom_classes": [],
            "_model_module": "@jupyter-widgets/controls",
            "_model_module_version": "1.5.0",
            "_model_name": "HBoxModel",
            "_view_count": null,
            "_view_module": "@jupyter-widgets/controls",
            "_view_module_version": "1.5.0",
            "_view_name": "HBoxView",
            "box_style": "",
            "children": [
              "IPY_MODEL_465e73a27f0e4cef8d1b1b4f867ccfa4",
              "IPY_MODEL_97d23621ff6c4d1d9971aa886ac680c8",
              "IPY_MODEL_a2e6849e29ee45578c07746e258f75fd"
            ],
            "layout": "IPY_MODEL_3fb2cd834a92451cbd49c6650646e9a5"
          }
        },
        "465e73a27f0e4cef8d1b1b4f867ccfa4": {
          "model_module": "@jupyter-widgets/controls",
          "model_name": "HTMLModel",
          "model_module_version": "1.5.0",
          "state": {
            "_dom_classes": [],
            "_model_module": "@jupyter-widgets/controls",
            "_model_module_version": "1.5.0",
            "_model_name": "HTMLModel",
            "_view_count": null,
            "_view_module": "@jupyter-widgets/controls",
            "_view_module_version": "1.5.0",
            "_view_name": "HTMLView",
            "description": "",
            "description_tooltip": null,
            "layout": "IPY_MODEL_827dc8826858431aad100eb52a66010f",
            "placeholder": "​",
            "style": "IPY_MODEL_8572aa6abce24a36902f2a68421f7bc5",
            "value": "Iteration: [33/33] 100%"
          }
        },
        "97d23621ff6c4d1d9971aa886ac680c8": {
          "model_module": "@jupyter-widgets/controls",
          "model_name": "FloatProgressModel",
          "model_module_version": "1.5.0",
          "state": {
            "_dom_classes": [],
            "_model_module": "@jupyter-widgets/controls",
            "_model_module_version": "1.5.0",
            "_model_name": "FloatProgressModel",
            "_view_count": null,
            "_view_module": "@jupyter-widgets/controls",
            "_view_module_version": "1.5.0",
            "_view_name": "ProgressView",
            "bar_style": "",
            "description": "",
            "description_tooltip": null,
            "layout": "IPY_MODEL_d9cd0e31bce84db58a5b2ad58ecce3db",
            "max": 33,
            "min": 0,
            "orientation": "horizontal",
            "style": "IPY_MODEL_4e70e0b0070c4dbf9a86c573cb2c23d2",
            "value": 33
          }
        },
        "a2e6849e29ee45578c07746e258f75fd": {
          "model_module": "@jupyter-widgets/controls",
          "model_name": "HTMLModel",
          "model_module_version": "1.5.0",
          "state": {
            "_dom_classes": [],
            "_model_module": "@jupyter-widgets/controls",
            "_model_module_version": "1.5.0",
            "_model_name": "HTMLModel",
            "_view_count": null,
            "_view_module": "@jupyter-widgets/controls",
            "_view_module_version": "1.5.0",
            "_view_name": "HTMLView",
            "description": "",
            "description_tooltip": null,
            "layout": "IPY_MODEL_49d64179292746788cfff11469d4fdab",
            "placeholder": "​",
            "style": "IPY_MODEL_8fb34c8d05614902b3ea3f325a03c0bc",
            "value": " [00:34&lt;00:00]"
          }
        },
        "3fb2cd834a92451cbd49c6650646e9a5": {
          "model_module": "@jupyter-widgets/base",
          "model_name": "LayoutModel",
          "model_module_version": "1.2.0",
          "state": {
            "_model_module": "@jupyter-widgets/base",
            "_model_module_version": "1.2.0",
            "_model_name": "LayoutModel",
            "_view_count": null,
            "_view_module": "@jupyter-widgets/base",
            "_view_module_version": "1.2.0",
            "_view_name": "LayoutView",
            "align_content": null,
            "align_items": null,
            "align_self": null,
            "border": null,
            "bottom": null,
            "display": null,
            "flex": null,
            "flex_flow": null,
            "grid_area": null,
            "grid_auto_columns": null,
            "grid_auto_flow": null,
            "grid_auto_rows": null,
            "grid_column": null,
            "grid_gap": null,
            "grid_row": null,
            "grid_template_areas": null,
            "grid_template_columns": null,
            "grid_template_rows": null,
            "height": null,
            "justify_content": null,
            "justify_items": null,
            "left": null,
            "margin": null,
            "max_height": null,
            "max_width": null,
            "min_height": null,
            "min_width": null,
            "object_fit": null,
            "object_position": null,
            "order": null,
            "overflow": null,
            "overflow_x": null,
            "overflow_y": null,
            "padding": null,
            "right": null,
            "top": null,
            "visibility": null,
            "width": null
          }
        },
        "827dc8826858431aad100eb52a66010f": {
          "model_module": "@jupyter-widgets/base",
          "model_name": "LayoutModel",
          "model_module_version": "1.2.0",
          "state": {
            "_model_module": "@jupyter-widgets/base",
            "_model_module_version": "1.2.0",
            "_model_name": "LayoutModel",
            "_view_count": null,
            "_view_module": "@jupyter-widgets/base",
            "_view_module_version": "1.2.0",
            "_view_name": "LayoutView",
            "align_content": null,
            "align_items": null,
            "align_self": null,
            "border": null,
            "bottom": null,
            "display": null,
            "flex": null,
            "flex_flow": null,
            "grid_area": null,
            "grid_auto_columns": null,
            "grid_auto_flow": null,
            "grid_auto_rows": null,
            "grid_column": null,
            "grid_gap": null,
            "grid_row": null,
            "grid_template_areas": null,
            "grid_template_columns": null,
            "grid_template_rows": null,
            "height": null,
            "justify_content": null,
            "justify_items": null,
            "left": null,
            "margin": null,
            "max_height": null,
            "max_width": null,
            "min_height": null,
            "min_width": null,
            "object_fit": null,
            "object_position": null,
            "order": null,
            "overflow": null,
            "overflow_x": null,
            "overflow_y": null,
            "padding": null,
            "right": null,
            "top": null,
            "visibility": null,
            "width": null
          }
        },
        "8572aa6abce24a36902f2a68421f7bc5": {
          "model_module": "@jupyter-widgets/controls",
          "model_name": "DescriptionStyleModel",
          "model_module_version": "1.5.0",
          "state": {
            "_model_module": "@jupyter-widgets/controls",
            "_model_module_version": "1.5.0",
            "_model_name": "DescriptionStyleModel",
            "_view_count": null,
            "_view_module": "@jupyter-widgets/base",
            "_view_module_version": "1.2.0",
            "_view_name": "StyleView",
            "description_width": ""
          }
        },
        "d9cd0e31bce84db58a5b2ad58ecce3db": {
          "model_module": "@jupyter-widgets/base",
          "model_name": "LayoutModel",
          "model_module_version": "1.2.0",
          "state": {
            "_model_module": "@jupyter-widgets/base",
            "_model_module_version": "1.2.0",
            "_model_name": "LayoutModel",
            "_view_count": null,
            "_view_module": "@jupyter-widgets/base",
            "_view_module_version": "1.2.0",
            "_view_name": "LayoutView",
            "align_content": null,
            "align_items": null,
            "align_self": null,
            "border": null,
            "bottom": null,
            "display": null,
            "flex": null,
            "flex_flow": null,
            "grid_area": null,
            "grid_auto_columns": null,
            "grid_auto_flow": null,
            "grid_auto_rows": null,
            "grid_column": null,
            "grid_gap": null,
            "grid_row": null,
            "grid_template_areas": null,
            "grid_template_columns": null,
            "grid_template_rows": null,
            "height": null,
            "justify_content": null,
            "justify_items": null,
            "left": null,
            "margin": null,
            "max_height": null,
            "max_width": null,
            "min_height": null,
            "min_width": null,
            "object_fit": null,
            "object_position": null,
            "order": null,
            "overflow": null,
            "overflow_x": null,
            "overflow_y": null,
            "padding": null,
            "right": null,
            "top": null,
            "visibility": null,
            "width": null
          }
        },
        "4e70e0b0070c4dbf9a86c573cb2c23d2": {
          "model_module": "@jupyter-widgets/controls",
          "model_name": "ProgressStyleModel",
          "model_module_version": "1.5.0",
          "state": {
            "_model_module": "@jupyter-widgets/controls",
            "_model_module_version": "1.5.0",
            "_model_name": "ProgressStyleModel",
            "_view_count": null,
            "_view_module": "@jupyter-widgets/base",
            "_view_module_version": "1.2.0",
            "_view_name": "StyleView",
            "bar_color": null,
            "description_width": ""
          }
        },
        "49d64179292746788cfff11469d4fdab": {
          "model_module": "@jupyter-widgets/base",
          "model_name": "LayoutModel",
          "model_module_version": "1.2.0",
          "state": {
            "_model_module": "@jupyter-widgets/base",
            "_model_module_version": "1.2.0",
            "_model_name": "LayoutModel",
            "_view_count": null,
            "_view_module": "@jupyter-widgets/base",
            "_view_module_version": "1.2.0",
            "_view_name": "LayoutView",
            "align_content": null,
            "align_items": null,
            "align_self": null,
            "border": null,
            "bottom": null,
            "display": null,
            "flex": null,
            "flex_flow": null,
            "grid_area": null,
            "grid_auto_columns": null,
            "grid_auto_flow": null,
            "grid_auto_rows": null,
            "grid_column": null,
            "grid_gap": null,
            "grid_row": null,
            "grid_template_areas": null,
            "grid_template_columns": null,
            "grid_template_rows": null,
            "height": null,
            "justify_content": null,
            "justify_items": null,
            "left": null,
            "margin": null,
            "max_height": null,
            "max_width": null,
            "min_height": null,
            "min_width": null,
            "object_fit": null,
            "object_position": null,
            "order": null,
            "overflow": null,
            "overflow_x": null,
            "overflow_y": null,
            "padding": null,
            "right": null,
            "top": null,
            "visibility": null,
            "width": null
          }
        },
        "8fb34c8d05614902b3ea3f325a03c0bc": {
          "model_module": "@jupyter-widgets/controls",
          "model_name": "DescriptionStyleModel",
          "model_module_version": "1.5.0",
          "state": {
            "_model_module": "@jupyter-widgets/controls",
            "_model_module_version": "1.5.0",
            "_model_name": "DescriptionStyleModel",
            "_view_count": null,
            "_view_module": "@jupyter-widgets/base",
            "_view_module_version": "1.2.0",
            "_view_name": "StyleView",
            "description_width": ""
          }
        },
        "ef73d7d8f2a547dcbbaa91309472db17": {
          "model_module": "@jupyter-widgets/controls",
          "model_name": "HBoxModel",
          "model_module_version": "1.5.0",
          "state": {
            "_dom_classes": [],
            "_model_module": "@jupyter-widgets/controls",
            "_model_module_version": "1.5.0",
            "_model_name": "HBoxModel",
            "_view_count": null,
            "_view_module": "@jupyter-widgets/controls",
            "_view_module_version": "1.5.0",
            "_view_name": "HBoxView",
            "box_style": "",
            "children": [
              "IPY_MODEL_0943c3327c494840b3fa96ea3cf6e105",
              "IPY_MODEL_570c2a543d104cef81b37a3a7920779b",
              "IPY_MODEL_fa5435243a3b4ef1a3870d863182378e"
            ],
            "layout": "IPY_MODEL_bdba8a8dc67d4ad0a642a892690e7002"
          }
        },
        "0943c3327c494840b3fa96ea3cf6e105": {
          "model_module": "@jupyter-widgets/controls",
          "model_name": "HTMLModel",
          "model_module_version": "1.5.0",
          "state": {
            "_dom_classes": [],
            "_model_module": "@jupyter-widgets/controls",
            "_model_module_version": "1.5.0",
            "_model_name": "HTMLModel",
            "_view_count": null,
            "_view_module": "@jupyter-widgets/controls",
            "_view_module_version": "1.5.0",
            "_view_name": "HTMLView",
            "description": "",
            "description_tooltip": null,
            "layout": "IPY_MODEL_89ce57f1ebb440999c821ad568f9edaa",
            "placeholder": "​",
            "style": "IPY_MODEL_460b5382cd814b0f842bb64934f39a65",
            "value": "Iteration: [33/33] 100%"
          }
        },
        "570c2a543d104cef81b37a3a7920779b": {
          "model_module": "@jupyter-widgets/controls",
          "model_name": "FloatProgressModel",
          "model_module_version": "1.5.0",
          "state": {
            "_dom_classes": [],
            "_model_module": "@jupyter-widgets/controls",
            "_model_module_version": "1.5.0",
            "_model_name": "FloatProgressModel",
            "_view_count": null,
            "_view_module": "@jupyter-widgets/controls",
            "_view_module_version": "1.5.0",
            "_view_name": "ProgressView",
            "bar_style": "",
            "description": "",
            "description_tooltip": null,
            "layout": "IPY_MODEL_3b08439baaaf4e7ebdf70848269b069c",
            "max": 33,
            "min": 0,
            "orientation": "horizontal",
            "style": "IPY_MODEL_44f2a9c91e304e2498558bb8420b699b",
            "value": 33
          }
        },
        "fa5435243a3b4ef1a3870d863182378e": {
          "model_module": "@jupyter-widgets/controls",
          "model_name": "HTMLModel",
          "model_module_version": "1.5.0",
          "state": {
            "_dom_classes": [],
            "_model_module": "@jupyter-widgets/controls",
            "_model_module_version": "1.5.0",
            "_model_name": "HTMLModel",
            "_view_count": null,
            "_view_module": "@jupyter-widgets/controls",
            "_view_module_version": "1.5.0",
            "_view_name": "HTMLView",
            "description": "",
            "description_tooltip": null,
            "layout": "IPY_MODEL_3ca3442ca0994f52acdb6e867b62cb10",
            "placeholder": "​",
            "style": "IPY_MODEL_ab0288c4c0d64cf1a00154b9d8c44118",
            "value": " [00:34&lt;00:00]"
          }
        },
        "bdba8a8dc67d4ad0a642a892690e7002": {
          "model_module": "@jupyter-widgets/base",
          "model_name": "LayoutModel",
          "model_module_version": "1.2.0",
          "state": {
            "_model_module": "@jupyter-widgets/base",
            "_model_module_version": "1.2.0",
            "_model_name": "LayoutModel",
            "_view_count": null,
            "_view_module": "@jupyter-widgets/base",
            "_view_module_version": "1.2.0",
            "_view_name": "LayoutView",
            "align_content": null,
            "align_items": null,
            "align_self": null,
            "border": null,
            "bottom": null,
            "display": null,
            "flex": null,
            "flex_flow": null,
            "grid_area": null,
            "grid_auto_columns": null,
            "grid_auto_flow": null,
            "grid_auto_rows": null,
            "grid_column": null,
            "grid_gap": null,
            "grid_row": null,
            "grid_template_areas": null,
            "grid_template_columns": null,
            "grid_template_rows": null,
            "height": null,
            "justify_content": null,
            "justify_items": null,
            "left": null,
            "margin": null,
            "max_height": null,
            "max_width": null,
            "min_height": null,
            "min_width": null,
            "object_fit": null,
            "object_position": null,
            "order": null,
            "overflow": null,
            "overflow_x": null,
            "overflow_y": null,
            "padding": null,
            "right": null,
            "top": null,
            "visibility": null,
            "width": null
          }
        },
        "89ce57f1ebb440999c821ad568f9edaa": {
          "model_module": "@jupyter-widgets/base",
          "model_name": "LayoutModel",
          "model_module_version": "1.2.0",
          "state": {
            "_model_module": "@jupyter-widgets/base",
            "_model_module_version": "1.2.0",
            "_model_name": "LayoutModel",
            "_view_count": null,
            "_view_module": "@jupyter-widgets/base",
            "_view_module_version": "1.2.0",
            "_view_name": "LayoutView",
            "align_content": null,
            "align_items": null,
            "align_self": null,
            "border": null,
            "bottom": null,
            "display": null,
            "flex": null,
            "flex_flow": null,
            "grid_area": null,
            "grid_auto_columns": null,
            "grid_auto_flow": null,
            "grid_auto_rows": null,
            "grid_column": null,
            "grid_gap": null,
            "grid_row": null,
            "grid_template_areas": null,
            "grid_template_columns": null,
            "grid_template_rows": null,
            "height": null,
            "justify_content": null,
            "justify_items": null,
            "left": null,
            "margin": null,
            "max_height": null,
            "max_width": null,
            "min_height": null,
            "min_width": null,
            "object_fit": null,
            "object_position": null,
            "order": null,
            "overflow": null,
            "overflow_x": null,
            "overflow_y": null,
            "padding": null,
            "right": null,
            "top": null,
            "visibility": null,
            "width": null
          }
        },
        "460b5382cd814b0f842bb64934f39a65": {
          "model_module": "@jupyter-widgets/controls",
          "model_name": "DescriptionStyleModel",
          "model_module_version": "1.5.0",
          "state": {
            "_model_module": "@jupyter-widgets/controls",
            "_model_module_version": "1.5.0",
            "_model_name": "DescriptionStyleModel",
            "_view_count": null,
            "_view_module": "@jupyter-widgets/base",
            "_view_module_version": "1.2.0",
            "_view_name": "StyleView",
            "description_width": ""
          }
        },
        "3b08439baaaf4e7ebdf70848269b069c": {
          "model_module": "@jupyter-widgets/base",
          "model_name": "LayoutModel",
          "model_module_version": "1.2.0",
          "state": {
            "_model_module": "@jupyter-widgets/base",
            "_model_module_version": "1.2.0",
            "_model_name": "LayoutModel",
            "_view_count": null,
            "_view_module": "@jupyter-widgets/base",
            "_view_module_version": "1.2.0",
            "_view_name": "LayoutView",
            "align_content": null,
            "align_items": null,
            "align_self": null,
            "border": null,
            "bottom": null,
            "display": null,
            "flex": null,
            "flex_flow": null,
            "grid_area": null,
            "grid_auto_columns": null,
            "grid_auto_flow": null,
            "grid_auto_rows": null,
            "grid_column": null,
            "grid_gap": null,
            "grid_row": null,
            "grid_template_areas": null,
            "grid_template_columns": null,
            "grid_template_rows": null,
            "height": null,
            "justify_content": null,
            "justify_items": null,
            "left": null,
            "margin": null,
            "max_height": null,
            "max_width": null,
            "min_height": null,
            "min_width": null,
            "object_fit": null,
            "object_position": null,
            "order": null,
            "overflow": null,
            "overflow_x": null,
            "overflow_y": null,
            "padding": null,
            "right": null,
            "top": null,
            "visibility": null,
            "width": null
          }
        },
        "44f2a9c91e304e2498558bb8420b699b": {
          "model_module": "@jupyter-widgets/controls",
          "model_name": "ProgressStyleModel",
          "model_module_version": "1.5.0",
          "state": {
            "_model_module": "@jupyter-widgets/controls",
            "_model_module_version": "1.5.0",
            "_model_name": "ProgressStyleModel",
            "_view_count": null,
            "_view_module": "@jupyter-widgets/base",
            "_view_module_version": "1.2.0",
            "_view_name": "StyleView",
            "bar_color": null,
            "description_width": ""
          }
        },
        "3ca3442ca0994f52acdb6e867b62cb10": {
          "model_module": "@jupyter-widgets/base",
          "model_name": "LayoutModel",
          "model_module_version": "1.2.0",
          "state": {
            "_model_module": "@jupyter-widgets/base",
            "_model_module_version": "1.2.0",
            "_model_name": "LayoutModel",
            "_view_count": null,
            "_view_module": "@jupyter-widgets/base",
            "_view_module_version": "1.2.0",
            "_view_name": "LayoutView",
            "align_content": null,
            "align_items": null,
            "align_self": null,
            "border": null,
            "bottom": null,
            "display": null,
            "flex": null,
            "flex_flow": null,
            "grid_area": null,
            "grid_auto_columns": null,
            "grid_auto_flow": null,
            "grid_auto_rows": null,
            "grid_column": null,
            "grid_gap": null,
            "grid_row": null,
            "grid_template_areas": null,
            "grid_template_columns": null,
            "grid_template_rows": null,
            "height": null,
            "justify_content": null,
            "justify_items": null,
            "left": null,
            "margin": null,
            "max_height": null,
            "max_width": null,
            "min_height": null,
            "min_width": null,
            "object_fit": null,
            "object_position": null,
            "order": null,
            "overflow": null,
            "overflow_x": null,
            "overflow_y": null,
            "padding": null,
            "right": null,
            "top": null,
            "visibility": null,
            "width": null
          }
        },
        "ab0288c4c0d64cf1a00154b9d8c44118": {
          "model_module": "@jupyter-widgets/controls",
          "model_name": "DescriptionStyleModel",
          "model_module_version": "1.5.0",
          "state": {
            "_model_module": "@jupyter-widgets/controls",
            "_model_module_version": "1.5.0",
            "_model_name": "DescriptionStyleModel",
            "_view_count": null,
            "_view_module": "@jupyter-widgets/base",
            "_view_module_version": "1.2.0",
            "_view_name": "StyleView",
            "description_width": ""
          }
        },
        "b9e5e93ff2a34a38b7b81a95e80d4d45": {
          "model_module": "@jupyter-widgets/controls",
          "model_name": "HBoxModel",
          "model_module_version": "1.5.0",
          "state": {
            "_dom_classes": [],
            "_model_module": "@jupyter-widgets/controls",
            "_model_module_version": "1.5.0",
            "_model_name": "HBoxModel",
            "_view_count": null,
            "_view_module": "@jupyter-widgets/controls",
            "_view_module_version": "1.5.0",
            "_view_name": "HBoxView",
            "box_style": "",
            "children": [
              "IPY_MODEL_d637ee28f72d4c39847fcad25458ae41",
              "IPY_MODEL_c771519672bf45b4a8d61fd416d4f1f8",
              "IPY_MODEL_60c0284d91cc40188c63f036153326a8"
            ],
            "layout": "IPY_MODEL_fcc7d96a841d4bfdb653d98788b82192"
          }
        },
        "d637ee28f72d4c39847fcad25458ae41": {
          "model_module": "@jupyter-widgets/controls",
          "model_name": "HTMLModel",
          "model_module_version": "1.5.0",
          "state": {
            "_dom_classes": [],
            "_model_module": "@jupyter-widgets/controls",
            "_model_module_version": "1.5.0",
            "_model_name": "HTMLModel",
            "_view_count": null,
            "_view_module": "@jupyter-widgets/controls",
            "_view_module_version": "1.5.0",
            "_view_name": "HTMLView",
            "description": "",
            "description_tooltip": null,
            "layout": "IPY_MODEL_711204a9abf14e588809766c45cb95ac",
            "placeholder": "​",
            "style": "IPY_MODEL_f3d5b07144c74c82b07a7bf955e86981",
            "value": "Iteration: [33/33] 100%"
          }
        },
        "c771519672bf45b4a8d61fd416d4f1f8": {
          "model_module": "@jupyter-widgets/controls",
          "model_name": "FloatProgressModel",
          "model_module_version": "1.5.0",
          "state": {
            "_dom_classes": [],
            "_model_module": "@jupyter-widgets/controls",
            "_model_module_version": "1.5.0",
            "_model_name": "FloatProgressModel",
            "_view_count": null,
            "_view_module": "@jupyter-widgets/controls",
            "_view_module_version": "1.5.0",
            "_view_name": "ProgressView",
            "bar_style": "",
            "description": "",
            "description_tooltip": null,
            "layout": "IPY_MODEL_1b1b59bd76a847fcb1996e559207fc5f",
            "max": 33,
            "min": 0,
            "orientation": "horizontal",
            "style": "IPY_MODEL_fddc9591f7a8430f9507a7a30eda40d0",
            "value": 33
          }
        },
        "60c0284d91cc40188c63f036153326a8": {
          "model_module": "@jupyter-widgets/controls",
          "model_name": "HTMLModel",
          "model_module_version": "1.5.0",
          "state": {
            "_dom_classes": [],
            "_model_module": "@jupyter-widgets/controls",
            "_model_module_version": "1.5.0",
            "_model_name": "HTMLModel",
            "_view_count": null,
            "_view_module": "@jupyter-widgets/controls",
            "_view_module_version": "1.5.0",
            "_view_name": "HTMLView",
            "description": "",
            "description_tooltip": null,
            "layout": "IPY_MODEL_fc5cd06b829843f0b335fd2adb33da39",
            "placeholder": "​",
            "style": "IPY_MODEL_9533c73fb1db4f6ab4b9b24eaa62496a",
            "value": " [00:34&lt;00:00]"
          }
        },
        "fcc7d96a841d4bfdb653d98788b82192": {
          "model_module": "@jupyter-widgets/base",
          "model_name": "LayoutModel",
          "model_module_version": "1.2.0",
          "state": {
            "_model_module": "@jupyter-widgets/base",
            "_model_module_version": "1.2.0",
            "_model_name": "LayoutModel",
            "_view_count": null,
            "_view_module": "@jupyter-widgets/base",
            "_view_module_version": "1.2.0",
            "_view_name": "LayoutView",
            "align_content": null,
            "align_items": null,
            "align_self": null,
            "border": null,
            "bottom": null,
            "display": null,
            "flex": null,
            "flex_flow": null,
            "grid_area": null,
            "grid_auto_columns": null,
            "grid_auto_flow": null,
            "grid_auto_rows": null,
            "grid_column": null,
            "grid_gap": null,
            "grid_row": null,
            "grid_template_areas": null,
            "grid_template_columns": null,
            "grid_template_rows": null,
            "height": null,
            "justify_content": null,
            "justify_items": null,
            "left": null,
            "margin": null,
            "max_height": null,
            "max_width": null,
            "min_height": null,
            "min_width": null,
            "object_fit": null,
            "object_position": null,
            "order": null,
            "overflow": null,
            "overflow_x": null,
            "overflow_y": null,
            "padding": null,
            "right": null,
            "top": null,
            "visibility": null,
            "width": null
          }
        },
        "711204a9abf14e588809766c45cb95ac": {
          "model_module": "@jupyter-widgets/base",
          "model_name": "LayoutModel",
          "model_module_version": "1.2.0",
          "state": {
            "_model_module": "@jupyter-widgets/base",
            "_model_module_version": "1.2.0",
            "_model_name": "LayoutModel",
            "_view_count": null,
            "_view_module": "@jupyter-widgets/base",
            "_view_module_version": "1.2.0",
            "_view_name": "LayoutView",
            "align_content": null,
            "align_items": null,
            "align_self": null,
            "border": null,
            "bottom": null,
            "display": null,
            "flex": null,
            "flex_flow": null,
            "grid_area": null,
            "grid_auto_columns": null,
            "grid_auto_flow": null,
            "grid_auto_rows": null,
            "grid_column": null,
            "grid_gap": null,
            "grid_row": null,
            "grid_template_areas": null,
            "grid_template_columns": null,
            "grid_template_rows": null,
            "height": null,
            "justify_content": null,
            "justify_items": null,
            "left": null,
            "margin": null,
            "max_height": null,
            "max_width": null,
            "min_height": null,
            "min_width": null,
            "object_fit": null,
            "object_position": null,
            "order": null,
            "overflow": null,
            "overflow_x": null,
            "overflow_y": null,
            "padding": null,
            "right": null,
            "top": null,
            "visibility": null,
            "width": null
          }
        },
        "f3d5b07144c74c82b07a7bf955e86981": {
          "model_module": "@jupyter-widgets/controls",
          "model_name": "DescriptionStyleModel",
          "model_module_version": "1.5.0",
          "state": {
            "_model_module": "@jupyter-widgets/controls",
            "_model_module_version": "1.5.0",
            "_model_name": "DescriptionStyleModel",
            "_view_count": null,
            "_view_module": "@jupyter-widgets/base",
            "_view_module_version": "1.2.0",
            "_view_name": "StyleView",
            "description_width": ""
          }
        },
        "1b1b59bd76a847fcb1996e559207fc5f": {
          "model_module": "@jupyter-widgets/base",
          "model_name": "LayoutModel",
          "model_module_version": "1.2.0",
          "state": {
            "_model_module": "@jupyter-widgets/base",
            "_model_module_version": "1.2.0",
            "_model_name": "LayoutModel",
            "_view_count": null,
            "_view_module": "@jupyter-widgets/base",
            "_view_module_version": "1.2.0",
            "_view_name": "LayoutView",
            "align_content": null,
            "align_items": null,
            "align_self": null,
            "border": null,
            "bottom": null,
            "display": null,
            "flex": null,
            "flex_flow": null,
            "grid_area": null,
            "grid_auto_columns": null,
            "grid_auto_flow": null,
            "grid_auto_rows": null,
            "grid_column": null,
            "grid_gap": null,
            "grid_row": null,
            "grid_template_areas": null,
            "grid_template_columns": null,
            "grid_template_rows": null,
            "height": null,
            "justify_content": null,
            "justify_items": null,
            "left": null,
            "margin": null,
            "max_height": null,
            "max_width": null,
            "min_height": null,
            "min_width": null,
            "object_fit": null,
            "object_position": null,
            "order": null,
            "overflow": null,
            "overflow_x": null,
            "overflow_y": null,
            "padding": null,
            "right": null,
            "top": null,
            "visibility": null,
            "width": null
          }
        },
        "fddc9591f7a8430f9507a7a30eda40d0": {
          "model_module": "@jupyter-widgets/controls",
          "model_name": "ProgressStyleModel",
          "model_module_version": "1.5.0",
          "state": {
            "_model_module": "@jupyter-widgets/controls",
            "_model_module_version": "1.5.0",
            "_model_name": "ProgressStyleModel",
            "_view_count": null,
            "_view_module": "@jupyter-widgets/base",
            "_view_module_version": "1.2.0",
            "_view_name": "StyleView",
            "bar_color": null,
            "description_width": ""
          }
        },
        "fc5cd06b829843f0b335fd2adb33da39": {
          "model_module": "@jupyter-widgets/base",
          "model_name": "LayoutModel",
          "model_module_version": "1.2.0",
          "state": {
            "_model_module": "@jupyter-widgets/base",
            "_model_module_version": "1.2.0",
            "_model_name": "LayoutModel",
            "_view_count": null,
            "_view_module": "@jupyter-widgets/base",
            "_view_module_version": "1.2.0",
            "_view_name": "LayoutView",
            "align_content": null,
            "align_items": null,
            "align_self": null,
            "border": null,
            "bottom": null,
            "display": null,
            "flex": null,
            "flex_flow": null,
            "grid_area": null,
            "grid_auto_columns": null,
            "grid_auto_flow": null,
            "grid_auto_rows": null,
            "grid_column": null,
            "grid_gap": null,
            "grid_row": null,
            "grid_template_areas": null,
            "grid_template_columns": null,
            "grid_template_rows": null,
            "height": null,
            "justify_content": null,
            "justify_items": null,
            "left": null,
            "margin": null,
            "max_height": null,
            "max_width": null,
            "min_height": null,
            "min_width": null,
            "object_fit": null,
            "object_position": null,
            "order": null,
            "overflow": null,
            "overflow_x": null,
            "overflow_y": null,
            "padding": null,
            "right": null,
            "top": null,
            "visibility": null,
            "width": null
          }
        },
        "9533c73fb1db4f6ab4b9b24eaa62496a": {
          "model_module": "@jupyter-widgets/controls",
          "model_name": "DescriptionStyleModel",
          "model_module_version": "1.5.0",
          "state": {
            "_model_module": "@jupyter-widgets/controls",
            "_model_module_version": "1.5.0",
            "_model_name": "DescriptionStyleModel",
            "_view_count": null,
            "_view_module": "@jupyter-widgets/base",
            "_view_module_version": "1.2.0",
            "_view_name": "StyleView",
            "description_width": ""
          }
        }
      }
    }
  },
  "nbformat": 4,
  "nbformat_minor": 0
}